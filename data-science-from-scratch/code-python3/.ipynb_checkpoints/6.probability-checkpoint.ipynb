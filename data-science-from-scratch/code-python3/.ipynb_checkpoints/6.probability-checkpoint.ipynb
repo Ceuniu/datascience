{
 "cells": [
  {
   "cell_type": "markdown",
   "metadata": {
    "slideshow": {
     "slide_type": "slide"
    }
   },
   "source": [
    "# Probability\n",
    "\n",
    "Probability is a way to quantify the uncertainty associated with events chosen from a some universe of events. \n",
    "\n",
    "> The laws of probability, so true in general, so fallacious in particular.\n",
    "—Edward Gibbon"
   ]
  },
  {
   "cell_type": "markdown",
   "metadata": {
    "slideshow": {
     "slide_type": "subslide"
    }
   },
   "source": [
    "P(E) means “the probability of the event E.”\n",
    "\n",
    "We’ll use probability theory to build and evaluate models. "
   ]
  },
  {
   "cell_type": "markdown",
   "metadata": {
    "slideshow": {
     "slide_type": "slide"
    }
   },
   "source": [
    "# Dependence and Independence\n",
    "Roughly speaking, we say that two events E and F are dependent if knowing something about whether E happens gives us information about whether F happens (and vice versa). Otherwise they are independent."
   ]
  },
  {
   "cell_type": "markdown",
   "metadata": {
    "slideshow": {
     "slide_type": "subslide"
    }
   },
   "source": [
    "When two events E and F are independent, then by definition we have:\n",
    "\n",
    "$$P(E,F) =P(E)P(F)$$"
   ]
  },
  {
   "cell_type": "markdown",
   "metadata": {
    "slideshow": {
     "slide_type": "slide"
    }
   },
   "source": [
    "# Conditional Probability"
   ]
  },
  {
   "cell_type": "markdown",
   "metadata": {
    "slideshow": {
     "slide_type": "fragment"
    }
   },
   "source": [
    "we define the probability of E conditional on F as:\n",
    "\n",
    "$$ P(E \\mid F) = \\frac{P(E,F)} {P(F)} $$\n"
   ]
  },
  {
   "cell_type": "markdown",
   "metadata": {
    "slideshow": {
     "slide_type": "subslide"
    }
   },
   "source": [
    "We often rewrite this as:\n",
    "\n",
    "$$ P(E,F) = P(E \\mid F) P(F) $$\n"
   ]
  },
  {
   "cell_type": "markdown",
   "metadata": {
    "slideshow": {
     "slide_type": "subslide"
    }
   },
   "source": [
    "When E and F are independent:\n",
    "\n",
    "$$ P(E \\mid F)=P(E)$$\n",
    "\n",
    "F occurred gives us no additional information about whether E occurred."
   ]
  },
  {
   "cell_type": "markdown",
   "metadata": {
    "slideshow": {
     "slide_type": "slide"
    }
   },
   "source": [
    "- Each child is equally likely to be a boy or a girl.\n",
    "- The gender of the second child is independent of the gender of the first child"
   ]
  },
  {
   "cell_type": "markdown",
   "metadata": {
    "slideshow": {
     "slide_type": "subslide"
    }
   },
   "source": [
    "- the event “no girls” has probability 1/4, \n",
    "- the event “one girl, one boy” has probability 1/2, \n",
    "- the event “two girls” has probability 1/4."
   ]
  },
  {
   "cell_type": "markdown",
   "metadata": {
    "slideshow": {
     "slide_type": "subslide"
    }
   },
   "source": [
    "$$P(B, G) = P(B)$$\n",
    "\n",
    "The event B and G (“both children are girls and the older child is a girl”) is just the event B. \n",
    "\n",
    "- Once you know that both children are girls, it’s necessarily true that the older child is a girl.\n",
    "\n"
   ]
  },
  {
   "cell_type": "markdown",
   "metadata": {
    "slideshow": {
     "slide_type": "subslide"
    }
   },
   "source": [
    "The probability of the event “both children are girls” (B) conditional on the event “the older child is a girl” (G)\n",
    "\n",
    "$$P(B \\mid G) =\\frac{P(B,G)}{P(G)} =\\frac{P(B)}{P(G)} =1/2$$"
   ]
  },
  {
   "cell_type": "markdown",
   "metadata": {
    "slideshow": {
     "slide_type": "subslide"
    }
   },
   "source": [
    "The probability of the event “both children are girls” conditional on the event “at least one of the children is a girl” (L). \n",
    "\n",
    "$$P(B \\mid L) =\\frac{P(B,L)}{P(L)} =\\frac{P(B)}{P(L)} =1/3$$"
   ]
  },
  {
   "cell_type": "code",
   "execution_count": 49,
   "metadata": {
    "ExecuteTime": {
     "end_time": "2018-09-18T03:23:31.780831Z",
     "start_time": "2018-09-18T03:23:31.708245Z"
    },
    "slideshow": {
     "slide_type": "subslide"
    }
   },
   "outputs": [
    {
     "name": "stdout",
     "output_type": "stream",
     "text": [
      "P(both | older): 0.5007089325501317\n",
      "P(both | either):  0.3311897106109325\n"
     ]
    }
   ],
   "source": [
    "both_girls = 0\n",
    "older_girl = 0\n",
    "either_girl = 0\n",
    "\n",
    "random.seed(0)\n",
    "for _ in range(10000):\n",
    "    younger = random_kid()\n",
    "    older = random_kid()\n",
    "    if older == \"girl\":\n",
    "        older_girl += 1\n",
    "    if older == \"girl\" and younger == \"girl\":\n",
    "        both_girls += 1\n",
    "    if older == \"girl\" or younger == \"girl\":\n",
    "        either_girl += 1\n",
    "\n",
    "print(\"P(both | older):\", both_girls / older_girl)      # 0.514 ~ 1/2\n",
    "print(\"P(both | either): \", both_girls / either_girl)   # 0.342 ~ 1/3\n"
   ]
  },
  {
   "cell_type": "markdown",
   "metadata": {
    "slideshow": {
     "slide_type": "slide"
    }
   },
   "source": [
    "# Bayes’s Theorem"
   ]
  },
  {
   "cell_type": "markdown",
   "metadata": {
    "slideshow": {
     "slide_type": "subslide"
    }
   },
   "source": [
    "Using the definition of conditional probability twice tells us that:\n",
    "\n",
    "$$P(E \\mid F) =\\frac{P(E,F)}{P(F)} =\\frac{P(F \\mid E)P(E)}{P(F)}$$"
   ]
  },
  {
   "cell_type": "markdown",
   "metadata": {
    "ExecuteTime": {
     "end_time": "2018-09-18T05:36:44.679119Z",
     "start_time": "2018-09-18T05:36:44.673586Z"
    },
    "slideshow": {
     "slide_type": "subslide"
    }
   },
   "source": [
    "The complement of an event is the \"opposite\" of that event. \n",
    "- We write $E{}'$ for “not E” (i.e., “E doesn’t happen”),"
   ]
  },
  {
   "cell_type": "markdown",
   "metadata": {
    "slideshow": {
     "slide_type": "subslide"
    }
   },
   "source": [
    "The event F can be split into the two mutually exclusive events:\n",
    "- “F and E”\n",
    "- “F and not E.” "
   ]
  },
  {
   "cell_type": "markdown",
   "metadata": {
    "slideshow": {
     "slide_type": "fragment"
    }
   },
   "source": [
    "$$P(F) =P(F,E) +P(F,E{}')$$"
   ]
  },
  {
   "cell_type": "markdown",
   "metadata": {
    "slideshow": {
     "slide_type": "subslide"
    }
   },
   "source": [
    "**Bayes’s Theorem** \n",
    "\n",
    "$$ P(E \\mid F) = \\frac{P(F \\mid E) P(E)}{ P(F \\mid E) P(E) + P(F E{}') P(E{}') }$$"
   ]
  },
  {
   "cell_type": "markdown",
   "metadata": {},
   "source": [
    "** why data scientists are smarter than doctors. **\n",
    "\n",
    "- Imagine a certain disease that affects 1 in every 10,000 people. \n",
    "- And imagine that there is a test for this disease that gives the correct result (“diseased” if you have the disease, “nondiseased” if you don’t) 99% of the time.\n",
    "\n",
    "What does a positive test mean? "
   ]
  },
  {
   "cell_type": "markdown",
   "metadata": {},
   "source": [
    "Let’s use \n",
    "- T for the event “your test is positive” and \n",
    "- D for the event “you have the disease.” \n",
    "\n",
    "Then Bayes’s Theorem says that the probability that you have the disease, conditional on testing positive, is:\n",
    "\n",
    "$$ P(D \\mid T) = \\frac{P(T \\mid D) P(D)}{ P(T \\mid D) P(D) + P(T D{}') P(D{}') }$$"
   ]
  },
  {
   "cell_type": "markdown",
   "metadata": {},
   "source": [
    "Here we know that \n",
    "\n",
    "-  the probability that someone with the disease tests positive, $P(T \\mid D) = 0.99$. \n",
    "- the probability that any given person has the disease, $P(D) = 1/10,000 = 0.0001$. \n",
    "- the probability that someone without the disease tests positive, $P(T \\mid D{}') = 0.01$. \n",
    "- the probability that any given person doesn’t have the disease, $P(D{}')= 0.9999$. \n",
    "\n",
    "Question: Can you compute the probability of $P(D \\mid T)$?\n",
    "\n",
    "Joke: most doctors will guess that P D T is approximately 2."
   ]
  },
  {
   "cell_type": "markdown",
   "metadata": {},
   "source": [
    "If you substitute these numbers into Bayes’s Theorem, you find\n",
    "$P(D \\mid T) =0.98 \\% $\n",
    "\n",
    "That is, less than 1% of the people who test positive actually have the disease!!!\n",
    "\n",
    "> This assumes that people take the test more or less at random. If only people with certain symptoms take the test we would instead have to condition on the event “positive test and symptoms” and the number would likely be a lot higher."
   ]
  },
  {
   "cell_type": "markdown",
   "metadata": {},
   "source": [
    "A more intuitive way to see this is to imagine a population of 1 million people. \n",
    "- You’d expect 100 of them to have the disease, and 99 of those 100 to test positive. \n",
    "- On the other hand, you’d expect 999,900 of them not to have the disease, and 9,999 of those to test positive. \n",
    "- Which means that you’d expect only 99 out of (99 + 9999) positive testers to actually have the disease."
   ]
  },
  {
   "cell_type": "markdown",
   "metadata": {
    "slideshow": {
     "slide_type": "slide"
    }
   },
   "source": [
    "# Random Variables\n",
    "\n",
    "A random variable is a variable whose possible values have an **associated probability distribution**. \n",
    "- The associated distribution gives the probabilities that the variable realizes each of its possible values. \n",
    "\n",
    "    - The coin flip variable equals 0 with probability 0.5 and 1 with probability 0.5. \n",
    "    - The range(10) variable has a distribution that assigns probability 0.1 to each of the numbers from 0 to 9."
   ]
  },
  {
   "cell_type": "markdown",
   "metadata": {
    "ExecuteTime": {
     "end_time": "2018-09-19T05:44:01.159416Z",
     "start_time": "2018-09-19T05:44:01.154946Z"
    },
    "slideshow": {
     "slide_type": "subslide"
    }
   },
   "source": [
    "**The expected value of a random variable** is the average of its values weighted by their probabilities. \n",
    "- the range(10) variable has an expected value of 4.5."
   ]
  },
  {
   "cell_type": "code",
   "execution_count": 15,
   "metadata": {
    "ExecuteTime": {
     "end_time": "2018-09-19T05:53:31.424961Z",
     "start_time": "2018-09-19T05:53:31.419762Z"
    },
    "slideshow": {
     "slide_type": "fragment"
    }
   },
   "outputs": [
    {
     "data": {
      "text/plain": [
       "4.5000000000000009"
      ]
     },
     "execution_count": 15,
     "metadata": {},
     "output_type": "execute_result"
    }
   ],
   "source": [
    "import numpy as np\n",
    "np.sum([int(i)*0.1 for i in range(10)])"
   ]
  },
  {
   "cell_type": "code",
   "execution_count": 28,
   "metadata": {
    "ExecuteTime": {
     "end_time": "2018-10-10T07:24:47.451775Z",
     "start_time": "2018-10-10T07:24:47.446909Z"
    }
   },
   "outputs": [
    {
     "data": {
      "text/plain": [
       "[0.0,\n",
       " 0.1,\n",
       " 0.2,\n",
       " 0.30000000000000004,\n",
       " 0.4,\n",
       " 0.5,\n",
       " 0.6000000000000001,\n",
       " 0.7000000000000001,\n",
       " 0.8,\n",
       " 0.9]"
      ]
     },
     "execution_count": 28,
     "metadata": {},
     "output_type": "execute_result"
    }
   ],
   "source": [
    "[i*0.1 for i in range(10)]"
   ]
  },
  {
   "cell_type": "code",
   "execution_count": 4,
   "metadata": {
    "ExecuteTime": {
     "end_time": "2018-10-10T03:46:39.717993Z",
     "start_time": "2018-10-10T03:46:39.249680Z"
    },
    "slideshow": {
     "slide_type": "subslide"
    }
   },
   "outputs": [],
   "source": [
    "from collections import Counter\n",
    "import math, random\n",
    "import matplotlib.pyplot as plt # pyplot\n",
    "\n",
    "def random_kid():\n",
    "    return random.choice([\"boy\", \"girl\"])"
   ]
  },
  {
   "cell_type": "code",
   "execution_count": 5,
   "metadata": {
    "ExecuteTime": {
     "end_time": "2018-10-10T03:46:40.467541Z",
     "start_time": "2018-10-10T03:46:40.462993Z"
    },
    "slideshow": {
     "slide_type": "fragment"
    }
   },
   "outputs": [
    {
     "data": {
      "text/plain": [
       "'boy'"
      ]
     },
     "execution_count": 5,
     "metadata": {},
     "output_type": "execute_result"
    }
   ],
   "source": [
    "random_kid()"
   ]
  },
  {
   "cell_type": "markdown",
   "metadata": {
    "slideshow": {
     "slide_type": "slide"
    }
   },
   "source": [
    "# Continuous Distributions\n",
    "    "
   ]
  },
  {
   "cell_type": "markdown",
   "metadata": {
    "slideshow": {
     "slide_type": "subslide"
    }
   },
   "source": [
    "**Discrete distribution** associates positive probability with discrete outcomes. \n",
    "- A coin flip\n",
    "\n",
    "Often we’ll want to model distributions across `a continuum of outcomes`. \n",
    "- **The uniform distribution** puts equal weight on `all the numbers between 0 and 1`."
   ]
  },
  {
   "cell_type": "markdown",
   "metadata": {
    "slideshow": {
     "slide_type": "subslide"
    }
   },
   "source": [
    "> Because there are infinitely many numbers between 0 and 1, this means that the weight it assigns to individual points must necessarily be zero. \n",
    "\n",
    "The continuous distribution can be described with a **probability density function** (pdf)\n",
    "- the probability of seeing a value in a certain interval equals the integral of the density function over the interval."
   ]
  },
  {
   "cell_type": "code",
   "execution_count": 3,
   "metadata": {
    "ExecuteTime": {
     "end_time": "2018-09-12T05:56:53.138541Z",
     "start_time": "2018-09-12T05:56:53.132850Z"
    },
    "slideshow": {
     "slide_type": "subslide"
    }
   },
   "outputs": [
    {
     "data": {
      "text/plain": [
       "0"
      ]
     },
     "execution_count": 3,
     "metadata": {},
     "output_type": "execute_result"
    }
   ],
   "source": [
    "def uniform_pdf(x):\n",
    "    return 1 if x >= 0 and x < 1 else 0\n",
    "\n",
    "uniform_pdf(2)"
   ]
  },
  {
   "cell_type": "markdown",
   "metadata": {
    "slideshow": {
     "slide_type": "fragment"
    }
   },
   "source": [
    "The probability that a random variable following that distribution is between 0.2 and 0.3 is 1/10"
   ]
  },
  {
   "cell_type": "markdown",
   "metadata": {
    "slideshow": {
     "slide_type": "subslide"
    }
   },
   "source": [
    "**The cumulative distribution function (cdf)** gives the probability that a random variable is less than or equal to a certain value."
   ]
  },
  {
   "cell_type": "code",
   "execution_count": 2,
   "metadata": {
    "ExecuteTime": {
     "end_time": "2018-10-10T03:43:30.670568Z",
     "start_time": "2018-10-10T03:43:30.655943Z"
    },
    "slideshow": {
     "slide_type": "subslide"
    }
   },
   "outputs": [
    {
     "data": {
      "text/plain": [
       "0.5"
      ]
     },
     "execution_count": 2,
     "metadata": {},
     "output_type": "execute_result"
    }
   ],
   "source": [
    "def uniform_cdf(x):\n",
    "    \"returns the probability that a uniform random variable is less than x\"\n",
    "    if x < 0:   return 0    # uniform random is never less than 0\n",
    "    elif x < 1: return x    # e.g. P(X < 0.4) = 0.4\n",
    "    else:       return 1    # uniform random is always less than 1\n",
    "\n",
    "    \n",
    "uniform_cdf(0.5)"
   ]
  },
  {
   "cell_type": "code",
   "execution_count": 3,
   "metadata": {
    "ExecuteTime": {
     "end_time": "2018-10-10T03:43:31.306889Z",
     "start_time": "2018-10-10T03:43:31.302171Z"
    },
    "slideshow": {
     "slide_type": "fragment"
    }
   },
   "outputs": [
    {
     "data": {
      "text/plain": [
       "0.09999999999999998"
      ]
     },
     "execution_count": 3,
     "metadata": {},
     "output_type": "execute_result"
    }
   ],
   "source": [
    "uniform_cdf(0.3) - uniform_cdf(0.2)"
   ]
  },
  {
   "cell_type": "code",
   "execution_count": 25,
   "metadata": {
    "ExecuteTime": {
     "end_time": "2018-10-10T04:01:10.203391Z",
     "start_time": "2018-10-10T04:01:10.025850Z"
    },
    "slideshow": {
     "slide_type": "subslide"
    }
   },
   "outputs": [
    {
     "data": {
      "image/png": "[encoded data removed]",
      "text/plain": [
       "<Figure size 432x288 with 1 Axes>"
      ]
     },
     "metadata": {},
     "output_type": "display_data"
    }
   ],
   "source": [
    "x = [(i-10)*10/100 for i in range(31)]\n",
    "y = [uniform_cdf(i) for i in x]\n",
    "\n",
    "plt.plot(x, y)\n",
    "plt.title('The uniform cdf')\n",
    "plt.xlabel('$x$')\n",
    "plt.ylabel('$CDF$')\n",
    "plt.show()"
   ]
  },
  {
   "cell_type": "markdown",
   "metadata": {
    "slideshow": {
     "slide_type": "slide"
    }
   },
   "source": [
    "# The Normal Distribution\n",
    "The normal distribution is the king of distributions. \n",
    "\n",
    "- It is the classic bell curve–shaped distribution\n",
    "- It is completely determined by two parameters: its mean **μ** (mu) and its standard deviation **σ** (sigma). \n",
    "    - The mean indicates where the bell is centered\n",
    "    - the standard deviation how “wide” it is."
   ]
  },
  {
   "cell_type": "markdown",
   "metadata": {
    "slideshow": {
     "slide_type": "subslide"
    }
   },
   "source": [
    "The probability density of the normal distribution is\n",
    "\n",
    "$$\n",
    "f(x \\mid \\mu, \\sigma^2) = \\frac{1}{\\sqrt{2\\pi\\sigma^2} } e^{ -\\frac{(x-\\mu)^2}{2\\sigma^2} }\n",
    "$$\n",
    "\n",
    "where\n",
    "* $\\mu$ is the mean or expectation of the distribution (and also its median and mode),\n",
    "* $\\sigma$ is the standard deviation, and\n",
    "* $\\sigma^2$ is the variance."
   ]
  },
  {
   "cell_type": "code",
   "execution_count": 6,
   "metadata": {
    "ExecuteTime": {
     "end_time": "2018-09-12T05:58:10.032361Z",
     "start_time": "2018-09-12T05:58:10.024948Z"
    }
   },
   "outputs": [
    {
     "data": {
      "text/plain": [
       "0.3989422804014327"
      ]
     },
     "execution_count": 6,
     "metadata": {},
     "output_type": "execute_result"
    }
   ],
   "source": [
    "def normal_pdf(x, mu=0, sigma=1):\n",
    "    sqrt_two_pi = math.sqrt(2 * math.pi)\n",
    "    return (math.exp(-(x-mu) ** 2 / 2 / sigma ** 2) / (sqrt_two_pi * sigma))\n",
    "\n",
    "normal_pdf(5,5)"
   ]
  },
  {
   "cell_type": "code",
   "execution_count": 9,
   "metadata": {
    "ExecuteTime": {
     "end_time": "2018-09-12T05:58:57.537866Z",
     "start_time": "2018-09-12T05:58:57.272773Z"
    }
   },
   "outputs": [
    {
     "data": {
      "image/png": "[encoded data removed]",
      "text/plain": [
       "<Figure size 432x288 with 1 Axes>"
      ]
     },
     "metadata": {},
     "output_type": "display_data"
    }
   ],
   "source": [
    "def plot_normal_pdfs(plt):\n",
    "    xs = [x / 10.0 for x in range(-50, 50)]\n",
    "    plt.plot(xs,[normal_pdf(x,sigma=1) for x in xs],'-',label='mu=0,sigma=1')\n",
    "    plt.plot(xs,[normal_pdf(x,sigma=2) for x in xs],'--',label='mu=0,sigma=2')\n",
    "    plt.plot(xs,[normal_pdf(x,sigma=0.5) for x in xs],':',label='mu=0,sigma=0.5')\n",
    "    plt.plot(xs,[normal_pdf(x,mu=-1)   for x in xs],'-.',label='mu=-1,sigma=1')\n",
    "    plt.legend()\n",
    "    plt.show()\n",
    "\n",
    "plot_normal_pdfs(plt)   "
   ]
  },
  {
   "cell_type": "code",
   "execution_count": 11,
   "metadata": {
    "ExecuteTime": {
     "end_time": "2018-09-12T05:59:31.444114Z",
     "start_time": "2018-09-12T05:59:31.440391Z"
    }
   },
   "outputs": [],
   "source": [
    "def normal_cdf(x, mu=0,sigma=1):\n",
    "    return (1 + math.erf((x - mu) / math.sqrt(2) / sigma)) / 2\n"
   ]
  },
  {
   "cell_type": "code",
   "execution_count": 12,
   "metadata": {
    "ExecuteTime": {
     "end_time": "2018-09-12T05:59:32.332953Z",
     "start_time": "2018-09-12T05:59:32.165797Z"
    }
   },
   "outputs": [
    {
     "data": {
      "image/png": "[encoded data removed]",
      "text/plain": [
       "<Figure size 432x288 with 1 Axes>"
      ]
     },
     "metadata": {},
     "output_type": "display_data"
    }
   ],
   "source": [
    "def plot_normal_cdfs(plt):\n",
    "    xs = [x / 10.0 for x in range(-50, 50)]\n",
    "    plt.plot(xs,[normal_cdf(x,sigma=1) for x in xs],'-',label='mu=0,sigma=1')\n",
    "    plt.plot(xs,[normal_cdf(x,sigma=2) for x in xs],'--',label='mu=0,sigma=2')\n",
    "    plt.plot(xs,[normal_cdf(x,sigma=0.5) for x in xs],':',label='mu=0,sigma=0.5')\n",
    "    plt.plot(xs,[normal_cdf(x,mu=-1) for x in xs],'-.',label='mu=-1,sigma=1')\n",
    "    plt.legend(loc=4) # bottom right\n",
    "    plt.show()\n",
    "    \n",
    "plot_normal_cdfs(plt)    "
   ]
  },
  {
   "cell_type": "markdown",
   "metadata": {},
   "source": [
    "To invert normal_cdf to find the Z value corresponding to a specified probability. \n",
    "\n",
    "- There’s no simple way to compute its inverse, \n",
    "- but normal_cdf is continuous and strictly increasing, \n",
    "    - so we can use a binary search:"
   ]
  },
  {
   "cell_type": "code",
   "execution_count": 15,
   "metadata": {
    "ExecuteTime": {
     "end_time": "2018-09-17T07:05:11.191422Z",
     "start_time": "2018-09-17T07:05:11.167934Z"
    }
   },
   "outputs": [],
   "source": [
    "def inverse_normal_cdf(p, mu=0, sigma=1, tolerance=0.00001):\n",
    "    \"\"\"find approximate inverse using binary search\"\"\"\n",
    "\n",
    "    # if not standard, compute standard and rescale\n",
    "    if mu != 0 or sigma != 1:\n",
    "        return mu + sigma * inverse_normal_cdf(p, tolerance=tolerance)\n",
    "\n",
    "    low_z, low_p = -10.0, 0            # normal_cdf(-10) is (very close to) 0\n",
    "    hi_z,  hi_p  =  10.0, 1            # normal_cdf(10)  is (very close to) 1\n",
    "    while hi_z - low_z > tolerance:\n",
    "        mid_z = (low_z + hi_z) / 2     # consider the midpoint\n",
    "        mid_p = normal_cdf(mid_z)      # and the cdf's value there\n",
    "        if mid_p < p:\n",
    "            # midpoint is still too low, search above it\n",
    "            low_z, low_p = mid_z, mid_p\n",
    "        elif mid_p > p:\n",
    "            # midpoint is still too high, search below it\n",
    "            hi_z, hi_p = mid_z, mid_p\n",
    "        else:\n",
    "            break\n",
    "\n",
    "    return mid_z"
   ]
  },
  {
   "cell_type": "code",
   "execution_count": 43,
   "metadata": {
    "ExecuteTime": {
     "end_time": "2018-09-17T07:30:28.716841Z",
     "start_time": "2018-09-17T07:30:28.712775Z"
    }
   },
   "outputs": [
    {
     "data": {
      "text/plain": [
       "-8.75"
      ]
     },
     "execution_count": 43,
     "metadata": {},
     "output_type": "execute_result"
    }
   ],
   "source": [
    "inverse_normal_cdf(p = 0)"
   ]
  },
  {
   "cell_type": "code",
   "execution_count": 35,
   "metadata": {
    "ExecuteTime": {
     "end_time": "2018-09-17T07:28:13.334400Z",
     "start_time": "2018-09-17T07:28:13.165505Z"
    }
   },
   "outputs": [
    {
     "data": {
      "image/png": "[encoded data removed]",
      "text/plain": [
       "<Figure size 432x288 with 1 Axes>"
      ]
     },
     "metadata": {},
     "output_type": "display_data"
    }
   ],
   "source": [
    "ps = [p/ 10.0 for p in range(11)]\n",
    "plt.plot(ps,[inverse_normal_cdf(p,mu=0, sigma=1) for p in ps],'-',label='mu=0, sigma=1')\n",
    "plt.plot(ps,[inverse_normal_cdf(p,mu=1, sigma=1) for p in ps],'-',label='mu=1, sigma=1')\n",
    "plt.plot(ps,[inverse_normal_cdf(p,mu=2, sigma=1) for p in ps],'-',label='mu=2, sigma=1')\n",
    "\n",
    "plt.legend(loc=4) # bottom right\n",
    "plt.show()"
   ]
  },
  {
   "cell_type": "markdown",
   "metadata": {
    "slideshow": {
     "slide_type": "slide"
    }
   },
   "source": [
    "# The Central Limit Theorem\n",
    "\n",
    "One reason the normal distribution is so useful is the central limit theorem\n",
    "\n",
    "> A random variable defined as the **average** of a large number of _independent and identically distributed (IID)_ random variables is itself approximately normally distributed."
   ]
  },
  {
   "cell_type": "markdown",
   "metadata": {
    "slideshow": {
     "slide_type": "subslide"
    }
   },
   "source": [
    "In particular, if $x_1$, ..., $x_n$ are random variables with mean μ and standard deviation σ, and if n is large, then:\n",
    "\n",
    "$$\n",
    "\\frac{1}{n}(x_1 +... +x_n)\n",
    "$$\n",
    "\n",
    "is is approximately normally distributed with mean $\\mu$ and standard deviation $\\sigma/ \\sqrt{n}$."
   ]
  },
  {
   "cell_type": "markdown",
   "metadata": {
    "slideshow": {
     "slide_type": "subslide"
    }
   },
   "source": [
    "$ \\frac{(x_1 +... +x_n) - \\mu n}{\\sigma \\sqrt{n}} $ is approximately normally distributed with mean 0 and standard deviation 1.\n"
   ]
  },
  {
   "cell_type": "code",
   "execution_count": 45,
   "metadata": {
    "ExecuteTime": {
     "end_time": "2018-09-18T02:47:01.458013Z",
     "start_time": "2018-09-18T02:47:01.452363Z"
    },
    "slideshow": {
     "slide_type": "subslide"
    }
   },
   "outputs": [],
   "source": [
    "def bernoulli_trial(p):\n",
    "    return 1 if random.random() < p else 0\n",
    "\n",
    "\n",
    "def binomial(p, n):\n",
    "    return sum(bernoulli_trial(p) for _ in range(n))"
   ]
  },
  {
   "cell_type": "markdown",
   "metadata": {
    "slideshow": {
     "slide_type": "subslide"
    }
   },
   "source": [
    "The mean of a Bernoulli($p$) variable is $p$, and its standard deviation is\n",
    "$\\sqrt{p(1-p)}$"
   ]
  },
  {
   "cell_type": "markdown",
   "metadata": {
    "slideshow": {
     "slide_type": "subslide"
    }
   },
   "source": [
    "Central limit theorem says that as $n$ gets large, \n",
    "\n",
    "a Binomial(n,p) variable is approximately a normal random variable \n",
    "- with mean $\\mu=np$ and \n",
    "- the standard deviation $\\sigma = \\sqrt{np(1-p)}$\n"
   ]
  },
  {
   "cell_type": "code",
   "execution_count": 46,
   "metadata": {
    "ExecuteTime": {
     "end_time": "2018-09-18T03:04:04.832401Z",
     "start_time": "2018-09-18T03:04:04.807560Z"
    },
    "slideshow": {
     "slide_type": "subslide"
    }
   },
   "outputs": [],
   "source": [
    "def make_hist(p, n, num_points):\n",
    "\n",
    "    data = [binomial(p, n) for _ in range(num_points)]\n",
    "\n",
    "    # use a bar chart to show the actual binomial samples\n",
    "    histogram = Counter(data)\n",
    "    plt.bar([x - 0.4 for x in histogram.keys()],\n",
    "            [v / num_points for v in histogram.values()],\n",
    "            0.8, color='0.75')\n",
    "\n",
    "    mu = p * n\n",
    "    sigma = math.sqrt(n * p * (1 - p))\n",
    "\n",
    "    # use a line chart to show the normal approximation\n",
    "    xs = range(min(data), max(data) + 1)\n",
    "    ys = [normal_cdf(i + 0.5, mu, sigma) - normal_cdf(i - 0.5, mu, sigma)\n",
    "          for i in xs]\n",
    "    plt.plot(xs,ys)\n",
    "    plt.show()\n"
   ]
  },
  {
   "cell_type": "code",
   "execution_count": 47,
   "metadata": {
    "ExecuteTime": {
     "end_time": "2018-09-18T03:04:09.323402Z",
     "start_time": "2018-09-18T03:04:08.574552Z"
    },
    "slideshow": {
     "slide_type": "subslide"
    }
   },
   "outputs": [
    {
     "data": {
      "image/png": "[encoded data removed]",
      "text/plain": [
       "<Figure size 432x288 with 1 Axes>"
      ]
     },
     "metadata": {},
     "output_type": "display_data"
    }
   ],
   "source": [
    "make_hist(0.75, 100, 10000)"
   ]
  },
  {
   "cell_type": "markdown",
   "metadata": {
    "slideshow": {
     "slide_type": "fragment"
    }
   },
   "source": [
    "scipy.stats contains pdf and cdf functions for most of the popular probability distributions."
   ]
  }
 ],
 "metadata": {
  "celltoolbar": "Slideshow",
  "kernelspec": {
   "display_name": "Python [conda env:anaconda]",
   "language": "python",
   "name": "conda-env-anaconda-py"
  },
  "language_info": {
   "codemirror_mode": {
    "name": "ipython",
    "version": 3
   },
   "file_extension": ".py",
   "mimetype": "text/x-python",
   "name": "python",
   "nbconvert_exporter": "python",
   "pygments_lexer": "ipython3",
   "version": "3.5.4"
  },
  "toc": {
   "base_numbering": 1,
   "nav_menu": {},
   "number_sections": false,
   "sideBar": true,
   "skip_h1_title": false,
   "title_cell": "Table of Contents",
   "title_sidebar": "Contents",
   "toc_cell": false,
   "toc_position": {
    "height": "calc(100% - 180px)",
    "left": "10px",
    "top": "150px",
    "width": "165px"
   },
   "toc_section_display": true,
   "toc_window_display": true
  }
 },
 "nbformat": 4,
 "nbformat_minor": 2
}
