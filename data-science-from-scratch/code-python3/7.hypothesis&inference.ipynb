{
 "cells": [
  {
   "cell_type": "markdown",
   "metadata": {
    "slideshow": {
     "slide_type": "slide"
    }
   },
   "source": [
    "\n",
    "# Statistical Hypothesis Testing\n",
    "\n",
    "<img align=\"center\" style=\"padding-right:10px;\" width =\"200px\" src=\"figures/preface2.png\">\n"
   ]
  },
  {
   "cell_type": "markdown",
   "metadata": {
    "slideshow": {
     "slide_type": "subslide"
    }
   },
   "source": [
    "- H1: data scientists prefer Python to R. \n",
    "- H2: people tends to jump onto the bandwagon of collective gatekeepers.\n",
    "- H3: media agenda determines the public agenda. \n",
    "- H4: the rich people can better use mobile phone compared with the poor. "
   ]
  },
  {
   "cell_type": "markdown",
   "metadata": {
    "slideshow": {
     "slide_type": "subslide"
    }
   },
   "source": [
    "The statistics of hypothesis can be thought of as observations of random variables from known distributions, \n",
    "- which allows us to make statements about how likely those assumptions are to hold."
   ]
  },
  {
   "cell_type": "markdown",
   "metadata": {
    "slideshow": {
     "slide_type": "subslide"
    }
   },
   "source": [
    "The logic of falsification  证伪的逻辑\n",
    "\n",
    "- **Null hypothesis H0** represents some default position \n",
    "- **Alternative hypothesis H1** \n",
    "    \n",
    "    - We use statistics to decide whether we can **reject H0** as false or not.\n",
    "        - we do not prove (just support) alternative hypothesis even when we reject the null hypothesis"
   ]
  },
  {
   "cell_type": "markdown",
   "metadata": {
    "slideshow": {
     "slide_type": "slide"
    }
   },
   "source": [
    "## Example: Flipping a Coin\n",
    "Imagine we have a coin and we want to test whether it’s fair. \n",
    "\n",
    "**Null hypothesis H0**: The coin is fair. \n",
    "- The probability of landing heads is 0.5\n",
    "- The alternative hypothesis p ≠ 0.5"
   ]
  },
  {
   "cell_type": "markdown",
   "metadata": {
    "slideshow": {
     "slide_type": "subslide"
    }
   },
   "source": [
    "Each coin flip is a Bernoulli trial, \n",
    "- X is a Binomial(n,p) random variable\n",
    "- we can approximate X using the normal distribution:"
   ]
  },
  {
   "cell_type": "code",
   "execution_count": 1,
   "metadata": {
    "ExecuteTime": {
     "end_time": "2018-10-16T06:23:04.338757Z",
     "start_time": "2018-10-16T06:23:04.332117Z"
    },
    "slideshow": {
     "slide_type": "subslide"
    }
   },
   "outputs": [],
   "source": [
    "from probability import normal_cdf, inverse_normal_cdf\n",
    "import math, random"
   ]
  },
  {
   "cell_type": "code",
   "execution_count": 2,
   "metadata": {
    "ExecuteTime": {
     "end_time": "2018-10-16T06:23:22.736087Z",
     "start_time": "2018-10-16T06:23:22.731811Z"
    },
    "slideshow": {
     "slide_type": "fragment"
    }
   },
   "outputs": [],
   "source": [
    "def normal_approximation_to_binomial(n, p):\n",
    "    \"\"\"finds mu and sigma corresponding to a Binomial(n, p)\"\"\"\n",
    "    mu = p * n\n",
    "    sigma = math.sqrt(p * (1 - p) * n)\n",
    "    return mu, sigma"
   ]
  },
  {
   "cell_type": "markdown",
   "metadata": {
    "slideshow": {
     "slide_type": "subslide"
    }
   },
   "source": [
    "Whenever a random variable follows a normal distribution, we can use **normal_cdf** to figure out the probability that its realized value lies within (or outside) a particular interval:"
   ]
  },
  {
   "cell_type": "code",
   "execution_count": 6,
   "metadata": {
    "ExecuteTime": {
     "end_time": "2018-10-17T04:55:09.478006Z",
     "start_time": "2018-10-17T04:55:09.474694Z"
    },
    "slideshow": {
     "slide_type": "subslide"
    }
   },
   "outputs": [],
   "source": [
    "# the normal cdf _is_ the probability the variable is below a threshold\n",
    "normal_probability_below = normal_cdf"
   ]
  },
  {
   "cell_type": "code",
   "execution_count": 4,
   "metadata": {
    "ExecuteTime": {
     "end_time": "2018-10-16T06:24:36.614716Z",
     "start_time": "2018-10-16T06:24:36.604034Z"
    },
    "slideshow": {
     "slide_type": "subslide"
    }
   },
   "outputs": [],
   "source": [
    "# it's above the threshold if it's not below the threshold\n",
    "def normal_probability_above(lo, mu=0, sigma=1):\n",
    "    return 1 - normal_cdf(lo, mu, sigma)\n",
    "\n",
    "# it's between if it's less than hi, but not less than lo\n",
    "def normal_probability_between(lo, hi, mu=0, sigma=1):\n",
    "    return normal_cdf(hi, mu, sigma) - normal_cdf(lo, mu, sigma)\n",
    "\n",
    "# it's outside if it's not between\n",
    "def normal_probability_outside(lo, hi, mu=0, sigma=1):\n",
    "    return 1 - normal_probability_between(lo, hi, mu, sigma)\n"
   ]
  },
  {
   "cell_type": "markdown",
   "metadata": {
    "slideshow": {
     "slide_type": "subslide"
    }
   },
   "source": [
    "We can also **do the reverse**\n",
    "\n",
    "To find either the nontail region or the (symmetric) interval around the mean that accounts for a certain level of likelihood. \n",
    "\n",
    "For example, if we want to find an interval centered at the mean and containing 60% probability\n",
    "- we find the cutoffs where the upper and lower tails each contain 20% of the probability (leaving 60%):"
   ]
  },
  {
   "cell_type": "code",
   "execution_count": 5,
   "metadata": {
    "ExecuteTime": {
     "end_time": "2018-10-16T06:26:11.323393Z",
     "start_time": "2018-10-16T06:26:11.261669Z"
    },
    "slideshow": {
     "slide_type": "subslide"
    }
   },
   "outputs": [],
   "source": [
    "def normal_upper_bound(probability, mu=0, sigma=1):\n",
    "    \"\"\"returns the z for which P(Z <= z) = probability\"\"\"\n",
    "    return inverse_normal_cdf(probability, mu, sigma)\n",
    "\n",
    "def normal_lower_bound(probability, mu=0, sigma=1):\n",
    "    \"\"\"returns the z for which P(Z >= z) = probability\"\"\"\n",
    "    return inverse_normal_cdf(1 - probability, mu, sigma)"
   ]
  },
  {
   "cell_type": "code",
   "execution_count": 13,
   "metadata": {
    "ExecuteTime": {
     "end_time": "2018-10-17T05:17:08.922041Z",
     "start_time": "2018-10-17T05:17:08.912931Z"
    },
    "slideshow": {
     "slide_type": "subslide"
    }
   },
   "outputs": [],
   "source": [
    "def normal_two_sided_bounds(probability, mu=0, sigma=1):\n",
    "    \"\"\"returns the symmetric (about the mean) bounds\n",
    "    that contain the specified probability\"\"\"\n",
    "    tail_probability = (1 - probability) / 2\n",
    "\n",
    "    # upper bound should have tail_probability above it\n",
    "    upper_bound = normal_lower_bound(tail_probability, mu, sigma)\n",
    "\n",
    "    # lower bound should have tail_probability below it\n",
    "    lower_bound = normal_upper_bound(tail_probability, mu, sigma)\n",
    "\n",
    "    return lower_bound, upper_bound"
   ]
  },
  {
   "cell_type": "markdown",
   "metadata": {
    "slideshow": {
     "slide_type": "subslide"
    }
   },
   "source": [
    "In particular, when we choose to flip the coin n = 1000 times. \n",
    "If our hypothesis of fairness is true, \n",
    "- X should be distributed approximately normally \n",
    "    - with mean 500 and\n",
    "    - standard deviation 15.8"
   ]
  },
  {
   "cell_type": "code",
   "execution_count": 8,
   "metadata": {
    "ExecuteTime": {
     "end_time": "2018-10-17T05:02:15.761379Z",
     "start_time": "2018-10-17T05:02:15.756894Z"
    },
    "slideshow": {
     "slide_type": "subslide"
    }
   },
   "outputs": [
    {
     "name": "stdout",
     "output_type": "stream",
     "text": [
      "mu_0 500.0\n",
      "sigma_0 15.811388300841896\n"
     ]
    }
   ],
   "source": [
    "mu_0, sigma_0 = normal_approximation_to_binomial(1000, 0.5)\n",
    "print(\"mu_0\", mu_0)\n",
    "print(\"sigma_0\", sigma_0)"
   ]
  },
  {
   "cell_type": "markdown",
   "metadata": {
    "slideshow": {
     "slide_type": "subslide"
    }
   },
   "source": [
    "We need to make a decision about **significance**:\n",
    "- how willing we are to make a **type 1 error** (“false positive”), in which we reject H0 even though it’s true. "
   ]
  },
  {
   "cell_type": "markdown",
   "metadata": {
    "ExecuteTime": {
     "end_time": "2018-10-17T05:21:30.174120Z",
     "start_time": "2018-10-17T05:21:30.168100Z"
    },
    "slideshow": {
     "slide_type": "subslide"
    }
   },
   "source": [
    "Assuming p really equals 0.5 (i.e., H0 is true), there is just a 5% chance we observe an X that lies outside this interval, which is the exact significance we wanted. \n",
    "\n",
    "if H0 is true, approximately 19 times out of 20, this test will give the correct result.M"
   ]
  },
  {
   "cell_type": "code",
   "execution_count": 12,
   "metadata": {
    "ExecuteTime": {
     "end_time": "2018-10-17T05:14:11.538421Z",
     "start_time": "2018-10-17T05:14:11.532364Z"
    },
    "slideshow": {
     "slide_type": "subslide"
    }
   },
   "outputs": [
    {
     "name": "stdout",
     "output_type": "stream",
     "text": [
      "normal_two_sided_bounds(0.95, mu_0, sigma_0)\n",
      "power of a test\n",
      "95% bounds based on assumption p is 0.5\n",
      "lo 469.01026640487555\n",
      "hi 530.9897335951244\n"
     ]
    }
   ],
   "source": [
    "print(\"normal_two_sided_bounds(0.95, mu_0, sigma_0)\")\n",
    "lo, hi = normal_two_sided_bounds(0.95, mu_0, sigma_0)\n",
    "print(\"power of a test\")\n",
    "print(\"95% bounds based on assumption p is 0.5\")\n",
    "print(\"lo\", lo)\n",
    "print(\"hi\", hi)"
   ]
  },
  {
   "cell_type": "markdown",
   "metadata": {
    "slideshow": {
     "slide_type": "subslide"
    }
   },
   "source": [
    "### Power of a test\n",
    "- the probability of not making a type 2 error, \n",
    "- in which we fail to reject H0 even though it’s false. \n",
    "\n",
    "Let’s check what happens if p is really 0.55:"
   ]
  },
  {
   "cell_type": "code",
   "execution_count": 16,
   "metadata": {
    "ExecuteTime": {
     "end_time": "2018-10-17T05:40:39.243326Z",
     "start_time": "2018-10-17T05:40:39.237541Z"
    },
    "slideshow": {
     "slide_type": "subslide"
    }
   },
   "outputs": [
    {
     "name": "stdout",
     "output_type": "stream",
     "text": [
      "actual mu and sigma based on p = 0.55\n",
      "mu_1 550.0\n",
      "sigma_1 15.732132722552274\n",
      "Now the coin is slightly biased toward heads.\n"
     ]
    }
   ],
   "source": [
    "print(\"actual mu and sigma based on p = 0.55\")\n",
    "mu_1, sigma_1 = normal_approximation_to_binomial(1000, 0.55)\n",
    "print(\"mu_1\", mu_1)\n",
    "print(\"sigma_1\", sigma_1)\n",
    "print(\"Now, the coin is slightly biased toward heads.\")"
   ]
  },
  {
   "cell_type": "code",
   "execution_count": 18,
   "metadata": {
    "ExecuteTime": {
     "end_time": "2018-10-17T05:46:40.365634Z",
     "start_time": "2018-10-17T05:46:40.359618Z"
    },
    "slideshow": {
     "slide_type": "subslide"
    }
   },
   "outputs": [
    {
     "name": "stdout",
     "output_type": "stream",
     "text": [
      "type 2 probability 0.0636203880618903\n",
      "power 0.9363796119381097\n"
     ]
    }
   ],
   "source": [
    "# a type 2 error means we fail to reject the null hypothesis\n",
    "# which will happen when X is still in our original interval\n",
    "type_2_probability = normal_probability_between(lo, hi, mu_1, sigma_1)\n",
    "power = 1 - type_2_probability # 0.887\n",
    "\n",
    "print(\"type 2 probability\", type_2_probability)\n",
    "print(\"power\", power)\n"
   ]
  },
  {
   "cell_type": "markdown",
   "metadata": {
    "slideshow": {
     "slide_type": "subslide"
    }
   },
   "source": [
    "### One-sided test\n",
    "\n",
    "Assume that:\n",
    "\n",
    "**null hypothesis** H0 was that `the coin is not biased toward heads, or that p ≤ 0.5.`\n",
    "\n",
    "In that case we want a one-sided test that rejects the null hypothesis when X is much larger than 500 but not when X is smaller than 500. "
   ]
  },
  {
   "cell_type": "code",
   "execution_count": 19,
   "metadata": {
    "ExecuteTime": {
     "end_time": "2018-10-17T05:46:45.668057Z",
     "start_time": "2018-10-17T05:46:45.660493Z"
    },
    "slideshow": {
     "slide_type": "subslide"
    }
   },
   "outputs": [
    {
     "name": "stdout",
     "output_type": "stream",
     "text": [
      "one-sided test\n",
      "hi 526.0073585242053\n",
      "type 2 probability 0.06362051966928273\n",
      "power 0.9363794803307173\n"
     ]
    }
   ],
   "source": [
    "print(\"one-sided test\")\n",
    "hi = normal_upper_bound(0.95, mu_0, sigma_0)\n",
    "\n",
    "print(\"hi\", hi) # is 526 (< 531, since we need more probability in the upper tail)\n",
    "type_2_probability = normal_probability_below(hi, mu_1, sigma_1)\n",
    "power = 1 - type_2_probability # = 0.936\n",
    "print(\"type 2 probability\", type_2_probability)\n",
    "print(\"power\", power)"
   ]
  },
  {
   "cell_type": "markdown",
   "metadata": {
    "slideshow": {
     "slide_type": "subslide"
    }
   },
   "source": [
    "This is a **more powerful** test, since \n",
    "- it no longer rejects H0 when X is below 469\n",
    "    - which is very unlikely to happen if H1 is true\n",
    "- it instead rejects H0 when X is between 526 and 531 \n",
    "    - which is somewhat likely to happen if H1 is true"
   ]
  },
  {
   "cell_type": "code",
   "execution_count": 21,
   "metadata": {
    "ExecuteTime": {
     "end_time": "2018-10-19T01:32:48.496258Z",
     "start_time": "2018-10-19T01:32:48.489572Z"
    },
    "slideshow": {
     "slide_type": "subslide"
    }
   },
   "outputs": [],
   "source": [
    "def two_sided_p_value(x, mu=0, sigma=1):\n",
    "    if x >= mu:\n",
    "        # if x is greater than the mean, the tail is above x\n",
    "        return 2 * normal_probability_above(x, mu, sigma)\n",
    "    else:\n",
    "        # if x is less than the mean, the tail is below x\n",
    "        return 2 * normal_probability_below(x, mu, sigma)"
   ]
  },
  {
   "cell_type": "code",
   "execution_count": 25,
   "metadata": {
    "ExecuteTime": {
     "end_time": "2018-10-19T01:33:51.658934Z",
     "start_time": "2018-10-19T01:33:51.655300Z"
    },
    "slideshow": {
     "slide_type": "fragment"
    }
   },
   "outputs": [
    {
     "name": "stdout",
     "output_type": "stream",
     "text": [
      "two_sided_p_value(529.5, mu_0, sigma_0) is  0.06207721579598857\n"
     ]
    }
   ],
   "source": [
    "# If we were to see 530 heads, we would compute:\n",
    "print(\"two_sided_p_value(529.5, mu_0, sigma_0) is \", \\\n",
    "      two_sided_p_value(529.5, mu_0, sigma_0))\n"
   ]
  },
  {
   "cell_type": "markdown",
   "metadata": {
    "slideshow": {
     "slide_type": "subslide"
    }
   },
   "source": [
    "**Why did we use 529.5 instead of 530? **\n",
    "- This is what’s called a [continuity correction](https://en.wikipedia.org/wiki/Continuity_correction#Binomial). \n",
    "- `normal_probability_between(529.5, 530.5, mu_0, sigma_0)` is a better estimate of the probability of seeing 530 heads than `normal_probabil ity_between(530, 531, mu_0, sigma_0)` is."
   ]
  },
  {
   "cell_type": "markdown",
   "metadata": {
    "slideshow": {
     "slide_type": "subslide"
    }
   },
   "source": [
    "One way to convince yourself that this is a sensible estimate is with a simulation:"
   ]
  },
  {
   "cell_type": "code",
   "execution_count": 35,
   "metadata": {
    "ExecuteTime": {
     "end_time": "2018-10-19T01:41:54.080802Z",
     "start_time": "2018-10-19T01:41:54.070102Z"
    },
    "slideshow": {
     "slide_type": "fragment"
    }
   },
   "outputs": [],
   "source": [
    "def count_extreme_values():\n",
    "    extreme_value_count = 0\n",
    "    for _ in range(100000):\n",
    "        num_heads = sum(1 if random.random() < 0.5 else 0    # count # of heads\n",
    "                        for _ in range(1000))                # in 1000 flips\n",
    "        if num_heads >= 530 or num_heads <= 470:             # and count how often\n",
    "            extreme_value_count += 1                         # the # is 'extreme'\n",
    "\n",
    "    return extreme_value_count / 100000"
   ]
  },
  {
   "cell_type": "code",
   "execution_count": 38,
   "metadata": {
    "ExecuteTime": {
     "end_time": "2018-10-19T01:43:23.343104Z",
     "start_time": "2018-10-19T01:42:52.258488Z"
    },
    "slideshow": {
     "slide_type": "subslide"
    }
   },
   "outputs": [
    {
     "data": {
      "text/plain": [
       "0.06118"
      ]
     },
     "execution_count": 38,
     "metadata": {},
     "output_type": "execute_result"
    }
   ],
   "source": [
    "count_extreme_values() # 0.062"
   ]
  },
  {
   "cell_type": "markdown",
   "metadata": {
    "slideshow": {
     "slide_type": "fragment"
    }
   },
   "source": [
    "Since the p-value is greater than our 5% significance, we don’t reject the null. "
   ]
  },
  {
   "cell_type": "code",
   "execution_count": 28,
   "metadata": {
    "ExecuteTime": {
     "end_time": "2018-10-19T01:40:03.507796Z",
     "start_time": "2018-10-19T01:40:03.504084Z"
    },
    "slideshow": {
     "slide_type": "subslide"
    }
   },
   "outputs": [
    {
     "name": "stdout",
     "output_type": "stream",
     "text": [
      "two_sided_p_value(531.5, mu_0, sigma_0) is  0.046345287837786575\n"
     ]
    }
   ],
   "source": [
    "print(\"two_sided_p_value(531.5, mu_0, sigma_0) is \",\\\n",
    "      two_sided_p_value(531.5, mu_0, sigma_0))"
   ]
  },
  {
   "cell_type": "markdown",
   "metadata": {
    "slideshow": {
     "slide_type": "fragment"
    }
   },
   "source": [
    "It is smaller than the 5% significance, and we would reject the null."
   ]
  },
  {
   "cell_type": "markdown",
   "metadata": {
    "slideshow": {
     "slide_type": "subslide"
    }
   },
   "source": [
    "For our one-sided test, if we saw 525 heads we would compute:"
   ]
  },
  {
   "cell_type": "code",
   "execution_count": 39,
   "metadata": {
    "ExecuteTime": {
     "end_time": "2018-10-19T01:45:43.269071Z",
     "start_time": "2018-10-19T01:45:43.266010Z"
    },
    "slideshow": {
     "slide_type": "fragment"
    }
   },
   "outputs": [],
   "source": [
    "upper_p_value = normal_probability_above\n",
    "lower_p_value = normal_probability_below"
   ]
  },
  {
   "cell_type": "code",
   "execution_count": 42,
   "metadata": {
    "ExecuteTime": {
     "end_time": "2018-10-19T01:47:12.353848Z",
     "start_time": "2018-10-19T01:47:12.348686Z"
    },
    "slideshow": {
     "slide_type": "fragment"
    }
   },
   "outputs": [
    {
     "data": {
      "text/plain": [
       "0.06062885772582083"
      ]
     },
     "execution_count": 42,
     "metadata": {},
     "output_type": "execute_result"
    }
   ],
   "source": [
    "upper_p_value(524.5, mu_0, sigma_0) # 0.061\n",
    "# wouldn’t reject the null."
   ]
  },
  {
   "cell_type": "markdown",
   "metadata": {
    "ExecuteTime": {
     "end_time": "2018-10-19T01:47:41.824017Z",
     "start_time": "2018-10-19T01:47:41.819950Z"
    },
    "slideshow": {
     "slide_type": "subslide"
    }
   },
   "source": [
    "For our one-sided test, if we saw 527 heads we would compute:"
   ]
  },
  {
   "cell_type": "code",
   "execution_count": 41,
   "metadata": {
    "ExecuteTime": {
     "end_time": "2018-10-19T01:46:44.057479Z",
     "start_time": "2018-10-19T01:46:44.053492Z"
    },
    "slideshow": {
     "slide_type": "fragment"
    }
   },
   "outputs": [
    {
     "data": {
      "text/plain": [
       "0.04686839508859242"
      ]
     },
     "execution_count": 41,
     "metadata": {},
     "output_type": "execute_result"
    }
   ],
   "source": [
    "upper_p_value(526.5, mu_0, sigma_0) # 0.047\n",
    "# we would reject the null."
   ]
  },
  {
   "cell_type": "markdown",
   "metadata": {
    "slideshow": {
     "slide_type": "subslide"
    }
   },
   "source": [
    "\n",
    "![](/figures/danger.png)\n",
    "\n",
    "<img align=\"left\" style=\"padding-right:10px;\" src=\"figures/danger.png\">\n",
    "\n",
    "\n",
    "Make sure your **data is roughly normally distributed** before using normal_probability_above to compute p-values.\n",
    "\n",
    "- There are various statistical tests for normality, \n",
    "- but even plotting the data is a good start.\n"
   ]
  },
  {
   "cell_type": "markdown",
   "metadata": {
    "slideshow": {
     "slide_type": "slide"
    }
   },
   "source": [
    "# Confidence Intervals\n",
    "\n",
    "> to construct a confidence interval around the observed value of the parameter.\n"
   ]
  },
  {
   "cell_type": "markdown",
   "metadata": {
    "slideshow": {
     "slide_type": "subslide"
    }
   },
   "source": [
    "**Example**\n",
    "\n",
    "We can estimate the probability of the unfair coin by looking at the average value of the Bernoulli variables corresponding to each flip\n",
    "- 1 if heads, \n",
    "- 0 if tails. \n",
    "\n",
    "If we observe 525 heads out of 1,000 flips, then we estimate `p equals 0.525`."
   ]
  },
  {
   "cell_type": "markdown",
   "metadata": {
    "slideshow": {
     "slide_type": "fragment"
    }
   },
   "source": [
    "How confident can we be about this estimate? "
   ]
  },
  {
   "cell_type": "markdown",
   "metadata": {
    "ExecuteTime": {
     "end_time": "2018-10-24T05:16:14.494393Z",
     "start_time": "2018-10-24T05:16:14.482809Z"
    },
    "slideshow": {
     "slide_type": "subslide"
    }
   },
   "source": [
    "\n",
    "If we knew the exact value of p, the `central limit theorem` tells us \n",
    "> the average of those Bernoulli variables should be approximately normal, with mean p and standard deviation sigma = math.sqrt(p * (1 - p) / 1000):"
   ]
  },
  {
   "cell_type": "code",
   "execution_count": 46,
   "metadata": {
    "ExecuteTime": {
     "end_time": "2018-10-24T05:18:57.226305Z",
     "start_time": "2018-10-24T05:18:57.220263Z"
    },
    "slideshow": {
     "slide_type": "subslide"
    }
   },
   "outputs": [
    {
     "name": "stdout",
     "output_type": "stream",
     "text": [
      "0.525 0.015791611697353755\n"
     ]
    }
   ],
   "source": [
    "p_hat = 525 / 1000\n",
    "mu = p_hat\n",
    "sigma = math.sqrt(p_hat * (1 - p_hat) / 1000) # 0.0158\n",
    "\n",
    "print(mu, sigma)"
   ]
  },
  {
   "cell_type": "markdown",
   "metadata": {
    "slideshow": {
     "slide_type": "subslide"
    }
   },
   "source": [
    "we are “95% confident” that the following interval contains the true parameter p:"
   ]
  },
  {
   "cell_type": "code",
   "execution_count": 47,
   "metadata": {
    "ExecuteTime": {
     "end_time": "2018-10-24T05:19:45.441765Z",
     "start_time": "2018-10-24T05:19:45.431566Z"
    },
    "slideshow": {
     "slide_type": "fragment"
    }
   },
   "outputs": [
    {
     "data": {
      "text/plain": [
       "(0.4940490278129096, 0.5559509721870904)"
      ]
     },
     "execution_count": 47,
     "metadata": {},
     "output_type": "execute_result"
    }
   ],
   "source": [
    "normal_two_sided_bounds(0.95, mu, sigma)"
   ]
  },
  {
   "cell_type": "markdown",
   "metadata": {
    "slideshow": {
     "slide_type": "subslide"
    }
   },
   "source": [
    "<img align=\"left\" style=\"padding-right:10px;\" src=\"figures/bird.png\">\n",
    "if you were to repeat the experiment many times, 95% of the time the “true” parameter (which is the same every time) would lie within the observed confidence interval (which might be different every time).\n",
    "\n",
    "we do not conclude that the coin is unfair, since 0.5 falls within our confidence interval."
   ]
  },
  {
   "cell_type": "markdown",
   "metadata": {
    "slideshow": {
     "slide_type": "subslide"
    }
   },
   "source": [
    "If instead we’d seen 540 heads, then we’d have:"
   ]
  },
  {
   "cell_type": "code",
   "execution_count": 50,
   "metadata": {
    "ExecuteTime": {
     "end_time": "2018-10-24T05:23:57.862906Z",
     "start_time": "2018-10-24T05:23:57.852767Z"
    },
    "slideshow": {
     "slide_type": "fragment"
    }
   },
   "outputs": [
    {
     "name": "stdout",
     "output_type": "stream",
     "text": [
      "0.54 0.015760710643876435\n"
     ]
    },
    {
     "data": {
      "text/plain": [
       "(0.5091095927295919, 0.5708904072704082)"
      ]
     },
     "execution_count": 50,
     "metadata": {},
     "output_type": "execute_result"
    }
   ],
   "source": [
    "p_hat = 540 / 1000\n",
    "mu = p_hat\n",
    "sigma = math.sqrt(p_hat * (1 - p_hat) / 1000) \n",
    "print(mu, sigma)\n",
    "normal_two_sided_bounds(0.95, mu, sigma)"
   ]
  },
  {
   "cell_type": "markdown",
   "metadata": {
    "slideshow": {
     "slide_type": "fragment"
    }
   },
   "source": [
    "Here, “fair coin” doesn’t lie in the confidence interval. \n",
    "- The “fair coin” hypothesis doesn’t pass a test that you’d expect it to pass 95% of the time if it were true."
   ]
  },
  {
   "cell_type": "markdown",
   "metadata": {
    "slideshow": {
     "slide_type": "slide"
    }
   },
   "source": [
    "# P-hacking\n"
   ]
  },
  {
   "cell_type": "code",
   "execution_count": 51,
   "metadata": {
    "ExecuteTime": {
     "end_time": "2018-10-24T05:41:20.421246Z",
     "start_time": "2018-10-24T05:41:20.408579Z"
    },
    "slideshow": {
     "slide_type": "subslide"
    }
   },
   "outputs": [],
   "source": [
    "def run_experiment():\n",
    "    \"\"\"flip a fair coin 1000 times, True = heads, False = tails\"\"\"\n",
    "    return [random.random() < 0.5 for _ in range(1000)]\n",
    "\n",
    "def reject_fairness(experiment):\n",
    "    \"\"\"using the 5% significance levels\"\"\"\n",
    "    num_heads = len([flip for flip in experiment if flip])\n",
    "    return num_heads < 469 or num_heads > 531"
   ]
  },
  {
   "cell_type": "code",
   "execution_count": 53,
   "metadata": {
    "ExecuteTime": {
     "end_time": "2018-10-24T05:41:55.809801Z",
     "start_time": "2018-10-24T05:41:55.446143Z"
    },
    "slideshow": {
     "slide_type": "subslide"
    }
   },
   "outputs": [
    {
     "name": "stdout",
     "output_type": "stream",
     "text": [
      "P-hacking\n",
      "46\n"
     ]
    }
   ],
   "source": [
    "print(\"P-hacking\")\n",
    "\n",
    "random.seed(0)\n",
    "experiments = [run_experiment() for _ in range(1000)]\n",
    "num_rejections = len([experiment\n",
    "                      for experiment in experiments\n",
    "                      if reject_fairness(experiment)])\n",
    "print(num_rejections) # 46"
   ]
  },
  {
   "cell_type": "markdown",
   "metadata": {
    "ExecuteTime": {
     "end_time": "2018-10-24T05:42:33.915702Z",
     "start_time": "2018-10-24T05:42:33.910679Z"
    },
    "slideshow": {
     "slide_type": "subslide"
    }
   },
   "source": [
    "- Test enough hypotheses against your data set, and one of them will almost certainly appear significant. \n",
    "- Remove the right outliers, and you can probably get your p value below 0.05."
   ]
  },
  {
   "cell_type": "markdown",
   "metadata": {
    "slideshow": {
     "slide_type": "subslide"
    }
   },
   "source": [
    "<img align=\"left\" style=\"padding-right:10px;\" src=\"figures/bird.png\">\n",
    "- you should determine your hypotheses before looking at the data, \n",
    "- you should clean your data without the hypotheses in mind, and \n",
    "- you should keep in mind that p-values are not substitutes for common sense. "
   ]
  },
  {
   "cell_type": "markdown",
   "metadata": {},
   "source": [
    "# Example: Running an A/B Test\n",
    "\n",
    "To help choosing between advertisement A (“tastes great!”) and advertisement B (“less bias!”)."
   ]
  },
  {
   "cell_type": "markdown",
   "metadata": {},
   "source": [
    "If 990 out of 1,000 A-viewers click their ad while only 10 out of 1,000 B-viewers click their ad, you can be pretty confident that A is the better ad. \n",
    "\n",
    "But what if the differences are not so stark? \n",
    "- Here’s where you’d use statistical inference."
   ]
  },
  {
   "cell_type": "markdown",
   "metadata": {
    "slideshow": {
     "slide_type": "subslide"
    }
   },
   "source": [
    "Let’s say that $N_A$ people see ad A, and that $n_A$ of them click it.\n",
    "- We can think of each ad view as a Bernoulli trial \n",
    "    - where $p_A$ is the probability that someone clicks ad A. \n",
    "    \n",
    "$\\frac{n_A}{N_A}$ is approximately a normal random variable with mean $p_A$ and standard deviation $\\sigma_A$\n",
    "\n",
    "$$\\sigma_A = \\sqrt \\frac{P_A(1-P_A)}{N_A}$$ "
   ]
  },
  {
   "cell_type": "markdown",
   "metadata": {
    "slideshow": {
     "slide_type": "subslide"
    }
   },
   "source": [
    "Similarly,\n",
    "\n",
    "$$\\sigma_B = \\sqrt \\frac{P_B(1-P_B)}{N_B}$$ "
   ]
  },
  {
   "cell_type": "code",
   "execution_count": 56,
   "metadata": {
    "ExecuteTime": {
     "end_time": "2018-10-24T05:52:54.371219Z",
     "start_time": "2018-10-24T05:52:54.366769Z"
    }
   },
   "outputs": [],
   "source": [
    "# running an A/B test\n",
    "def estimated_parameters(N, n):\n",
    "    p = n / N\n",
    "    sigma = math.sqrt(p * (1 - p) / N)\n",
    "    return p, sigma"
   ]
  },
  {
   "cell_type": "code",
   "execution_count": 55,
   "metadata": {
    "ExecuteTime": {
     "end_time": "2018-10-24T05:43:59.314609Z",
     "start_time": "2018-10-24T05:43:59.200617Z"
    }
   },
   "outputs": [
    {
     "name": "stdout",
     "output_type": "stream",
     "text": [
      "upper_p_value(525, mu_0, sigma_0) 0.056923149003329065\n",
      "upper_p_value(527, mu_0, sigma_0) 0.04385251499101195\n",
      "\n",
      "46 rejections out of 1000\n",
      "\n",
      "A/B testing\n",
      "a_b_test_statistic(1000, 200, 1000, 180) -1.1403464899034472\n",
      "p-value 0.254141976542236\n",
      "a_b_test_statistic(1000, 200, 1000, 150) -2.948839123097944\n",
      "p-value 0.003189699706216853\n"
     ]
    }
   ],
   "source": [
    "\n",
    "\n",
    "def a_b_test_statistic(N_A, n_A, N_B, n_B):\n",
    "    p_A, sigma_A = estimated_parameters(N_A, n_A)\n",
    "    p_B, sigma_B = estimated_parameters(N_B, n_B)\n",
    "    return (p_B - p_A) / math.sqrt(sigma_A ** 2 + sigma_B ** 2)\n",
    "\n",
    "##\n",
    "#\n",
    "# Bayesian Inference\n",
    "#\n",
    "##\n",
    "\n",
    "def B(alpha, beta):\n",
    "    \"\"\"a normalizing constant so that the total probability is 1\"\"\"\n",
    "    return math.gamma(alpha) * math.gamma(beta) / math.gamma(alpha + beta)\n",
    "\n",
    "def beta_pdf(x, alpha, beta):\n",
    "    if x < 0 or x > 1:          # no weight outside of [0, 1]\n",
    "        return 0\n",
    "    return x ** (alpha - 1) * (1 - x) ** (beta - 1) / B(alpha, beta)\n",
    "\n",
    "\n",
    "\n",
    "\n",
    "\n",
    "\n",
    "\n",
    "\n",
    "\n",
    "\n",
    "print(\"upper_p_value(525, mu_0, sigma_0)\", upper_p_value(525, mu_0, sigma_0))\n",
    "print(\"upper_p_value(527, mu_0, sigma_0)\", upper_p_value(527, mu_0, sigma_0))\n",
    "print()\n",
    "\n",
    "\n",
    "\n",
    "print(num_rejections, \"rejections out of 1000\")\n",
    "print()\n",
    "\n",
    "print(\"A/B testing\")\n",
    "z = a_b_test_statistic(1000, 200, 1000, 180)\n",
    "print(\"a_b_test_statistic(1000, 200, 1000, 180)\", z)\n",
    "print(\"p-value\", two_sided_p_value(z))\n",
    "z = a_b_test_statistic(1000, 200, 1000, 150)\n",
    "print(\"a_b_test_statistic(1000, 200, 1000, 150)\", z)\n",
    "print(\"p-value\", two_sided_p_value(z))\n"
   ]
  },
  {
   "cell_type": "code",
   "execution_count": null,
   "metadata": {},
   "outputs": [],
   "source": []
  }
 ],
 "metadata": {
  "celltoolbar": "Slideshow",
  "kernelspec": {
   "display_name": "Python [conda env:anaconda]",
   "language": "python",
   "name": "conda-env-anaconda-py"
  },
  "language_info": {
   "codemirror_mode": {
    "name": "ipython",
    "version": 3
   },
   "file_extension": ".py",
   "mimetype": "text/x-python",
   "name": "python",
   "nbconvert_exporter": "python",
   "pygments_lexer": "ipython3",
   "version": "3.5.4"
  },
  "toc": {
   "base_numbering": 1,
   "nav_menu": {},
   "number_sections": false,
   "sideBar": true,
   "skip_h1_title": false,
   "title_cell": "Table of Contents",
   "title_sidebar": "Contents",
   "toc_cell": false,
   "toc_position": {
    "height": "calc(100% - 180px)",
    "left": "10px",
    "top": "150px",
    "width": "165px"
   },
   "toc_section_display": true,
   "toc_window_display": true
  }
 },
 "nbformat": 4,
 "nbformat_minor": 2
}
