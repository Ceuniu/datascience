{
 "cells": [
  {
   "cell_type": "markdown",
   "metadata": {},
   "source": [
    "https://github.com/RitterHou/music-163\n",
    "\n",
    "爬取网易云音乐的所有的歌曲的评论数。以下为主要思路：\n",
    "\n",
    "爬取所有的歌手信息（artists.py）；\n",
    "根据上一步爬取到的歌手信息去爬取所有的专辑信息（album_by _artist.py）；\n",
    "根据专辑信息爬取所有的歌曲信息（music_by _album.py）；\n",
    "根据歌曲信息爬取其评论条数（comments_by _music.py）\n",
    "数据库相关的语句都存放于（sql.py）中。"
   ]
  },
  {
   "cell_type": "markdown",
   "metadata": {
    "ExecuteTime": {
     "end_time": "2018-05-10T03:06:06.662665Z",
     "start_time": "2018-05-10T03:06:06.655299Z"
    }
   },
   "source": [
    "观察网易云音乐官网页面HTML结构\n",
    "- 首页（ http://music.163.com/）\n",
    "- 歌单分类页（ http://music.163.com/discover/playlist）。\n",
    "- 歌单页（ http://music.163.com/playlist?id=499518394）\n",
    "- 歌曲详情页（ http://music.163.com/song?id=109998）\n"
   ]
  },
  {
   "cell_type": "code",
   "execution_count": 1,
   "metadata": {
    "ExecuteTime": {
     "end_time": "2018-05-30T06:17:16.506137Z",
     "start_time": "2018-05-30T06:17:16.254024Z"
    }
   },
   "outputs": [],
   "source": [
    "import requests\n",
    "from bs4 import BeautifulSoup"
   ]
  },
  {
   "cell_type": "code",
   "execution_count": 2,
   "metadata": {
    "ExecuteTime": {
     "end_time": "2018-05-30T06:17:22.227946Z",
     "start_time": "2018-05-30T06:17:22.220582Z"
    }
   },
   "outputs": [],
   "source": [
    "headers = {\n",
    "    'Accept': 'text/html,application/xhtml+xml,application/xml;q=0.9,image/webp,*/*;q=0.8',\n",
    "    'Accept-Encoding': 'gzip, deflate, sdch',\n",
    "    'Accept-Language': 'zh-CN,zh;q=0.8,en;q=0.6',\n",
    "    'Cache-Control': 'no-cache',\n",
    "    'Connection': 'keep-alive',\n",
    "    'Cookie': '_ntes_nnid=7eced19b27ffae35dad3f8f2bf5885cd,1476521011210; _ntes_nuid=7eced19b27ffae35dad3f8f2bf5885cd; usertrack=c+5+hlgB7TgnsAmACnXtAg==; Province=025; City=025; NTES_PASSPORT=6n9ihXhbWKPi8yAqG.i2kETSCRa.ug06Txh8EMrrRsliVQXFV_orx5HffqhQjuGHkNQrLOIRLLotGohL9s10wcYSPiQfI2wiPacKlJ3nYAXgM; P_INFO=hourui93@163.com|1476523293|1|study|11&12|jis&1476511733&mail163#jis&320100#10#0#0|151889&0|g37_client_check&mailsettings&mail163&study&blog|hourui93@163.com; NTES_SESS=Fa2uk.YZsGoj59AgD6tRjTXGaJ8_1_4YvGfXUkS7C1NwtMe.tG1Vzr255TXM6yj2mKqTZzqFtoEKQrgewi9ZK60ylIqq5puaG6QIaNQ7EK5MTcRgHLOhqttDHfaI_vsBzB4bibfamzx1.fhlpqZh_FcnXUYQFw5F5KIBUmGJg7xdasvGf_EgfICWV; S_INFO=1476597594|1|0&80##|hourui93; NETEASE_AUTH_SOURCE=space; NETEASE_AUTH_USERNAME=hourui93; _ga=GA1.2.1405085820.1476521280; JSESSIONID-WYYY=cbd082d2ce2cffbcd5c085d8bf565a95aee3173ddbbb00bfa270950f93f1d8bb4cb55a56a4049fa8c828373f630c78f4a43d6c3d252c4c44f44b098a9434a7d8fc110670a6e1e9af992c78092936b1e19351435ecff76a181993780035547fa5241a5afb96e8c665182d0d5b911663281967d675ff2658015887a94b3ee1575fa1956a5a%3A1476607977016; _iuqxldmzr_=25; __utma=94650624.1038096298.1476521011.1476595468.1476606177.8; __utmb=94650624.20.10.1476606177; __utmc=94650624; __utmz=94650624.1476521011.1.1.utmcsr=(direct)|utmccn=(direct)|utmcmd=(none)',\n",
    "    'DNT': '1',\n",
    "    'Host': 'music.163.com',\n",
    "    'Pragma': 'no-cache',\n",
    "    'Referer': 'http://music.163.com/',\n",
    "    'Upgrade-Insecure-Requests': '1',\n",
    "    'User-Agent': 'Mozilla/5.0 (Windows NT 10.0; Win64; x64) AppleWebKit/537.36 (KHTML, like Gecko) Chrome/53.0.2785.143 Safari/537.36'\n",
    "}"
   ]
  },
  {
   "cell_type": "markdown",
   "metadata": {},
   "source": [
    "# 爬取所有的歌手信息（artists.py）"
   ]
  },
  {
   "cell_type": "markdown",
   "metadata": {
    "ExecuteTime": {
     "end_time": "2018-05-10T05:06:03.732955Z",
     "start_time": "2018-05-10T05:06:03.727816Z"
    }
   },
   "source": [
    "\n",
    "\n",
    "http://music.163.com/#/discover/artist/cat"
   ]
  },
  {
   "cell_type": "markdown",
   "metadata": {},
   "source": [
    "http://music.163.com/#/discover/artist/cat?id=4003&initial=0"
   ]
  },
  {
   "cell_type": "code",
   "execution_count": 3,
   "metadata": {
    "ExecuteTime": {
     "end_time": "2018-05-23T07:25:01.005005Z",
     "start_time": "2018-05-23T07:25:00.374723Z"
    }
   },
   "outputs": [],
   "source": [
    "group_id = 1001\n",
    "initial = 65\n",
    "params = {'id': group_id, 'initial': initial}\n",
    "r = requests.get('http://music.163.com/discover/artist/cat', params=params)\n",
    "\n",
    "# 网页解析\n",
    "soup = BeautifulSoup(r.content.decode(), 'html.parser')\n",
    "body = soup.body"
   ]
  },
  {
   "cell_type": "code",
   "execution_count": 4,
   "metadata": {
    "ExecuteTime": {
     "end_time": "2018-05-23T07:25:27.295652Z",
     "start_time": "2018-05-23T07:25:27.270794Z"
    }
   },
   "outputs": [],
   "source": [
    "hotartist_dic = {}\n",
    "hot_artists = body.find_all('a', attrs={'class': 'msk'})\n",
    "for artist in hot_artists:\n",
    "    artist_id = artist['href'].replace('/artist?id=', '').strip()\n",
    "    artist_name = artist['title'].replace('的音乐', '')\n",
    "    try:\n",
    "        hotartist_dic[artist_id] = artist_name\n",
    "    except Exception as e:\n",
    "        # 打印错误日志\n",
    "        print(e)"
   ]
  },
  {
   "cell_type": "code",
   "execution_count": 5,
   "metadata": {
    "ExecuteTime": {
     "end_time": "2018-05-23T07:25:42.675239Z",
     "start_time": "2018-05-23T07:25:42.663682Z"
    }
   },
   "outputs": [
    {
     "data": {
      "text/plain": [
       "{'10998': '爱乐团王超',\n",
       " '187295': 'Assen捷',\n",
       " '1873': '阿宝',\n",
       " '1876': '阿杜',\n",
       " '1878': '艾尔肯',\n",
       " '1879': '安琥',\n",
       " '1881': '阿木',\n",
       " '2422': '阿鲲',\n",
       " '802016': '安来宁',\n",
       " '860734': '艾索'}"
      ]
     },
     "execution_count": 5,
     "metadata": {},
     "output_type": "execute_result"
    }
   ],
   "source": [
    "hotartist_dic"
   ]
  },
  {
   "cell_type": "code",
   "execution_count": 6,
   "metadata": {
    "ExecuteTime": {
     "end_time": "2018-05-23T07:26:25.967928Z",
     "start_time": "2018-05-23T07:26:25.943831Z"
    }
   },
   "outputs": [],
   "source": [
    "artist_dic = {}\n",
    "artists = body.find_all('a', attrs={'class': 'nm nm-icn f-thide s-fc0'})\n",
    "for artist in artists:\n",
    "        artist_id = artist['href'].replace('/artist?id=', '').strip()\n",
    "        artist_name = artist['title'].replace('的音乐', '')\n",
    "        try:\n",
    "            artist_dic[artist_id] = artist_name\n",
    "        except Exception as e:\n",
    "            # 打印错误日志\n",
    "            print(e)"
   ]
  },
  {
   "cell_type": "code",
   "execution_count": 7,
   "metadata": {
    "ExecuteTime": {
     "end_time": "2018-05-23T07:26:29.075648Z",
     "start_time": "2018-05-23T07:26:29.069034Z"
    }
   },
   "outputs": [
    {
     "data": {
      "text/plain": [
       "{'1021394': '阿四龙',\n",
       " '1026052': '艾扬威',\n",
       " '1039409': 'As王顺',\n",
       " '1039722': '阿明',\n",
       " '1039804': '阿鬼',\n",
       " '1040062': 'Akber',\n",
       " '1043417': '阿权',\n",
       " '1043424': '傲艺',\n",
       " '1045019': '阿尔达克',\n",
       " '1047066': '阿摩司',\n",
       " '1047377': '艾尼瓦尔江',\n",
       " '1048056': '阿男',\n",
       " '1049049': 'allan.X',\n",
       " '1049340': 'akbar ahmat ziba',\n",
       " '1054144': 'Annco.Liu',\n",
       " '1054175': 'AiPi ',\n",
       " '1058073': '阿力木江·托合提',\n",
       " '1060224': 'Kadirya',\n",
       " '1073078': 'Alex.Dai',\n",
       " '1078310': 'Alex.x',\n",
       " '1081117': 'Azoy',\n",
       " '1081335': 'Ablikim\\xa0Zikrulla\\xa0izbaRis',\n",
       " '1081752': 'AlimjanTursun',\n",
       " '1084038': 'Akbar Kahriman',\n",
       " '1087200': 'AThree-Arslan',\n",
       " '1087658': 'aMiR',\n",
       " '10998': '爱乐团王超',\n",
       " '1102011': '阿尔法',\n",
       " '1106124': '阿杰729',\n",
       " '1132013': 'A路人',\n",
       " '1132165': '任莫醒r',\n",
       " '1132222': 'abduwali\\xa0tohti',\n",
       " '1155078': '安乐阳',\n",
       " '1161024': 'AC周予天',\n",
       " '1872': '阿沁',\n",
       " '187295': 'Assen捷',\n",
       " '1873': '阿宝',\n",
       " '1875': '阿信',\n",
       " '1876': '阿杜',\n",
       " '1877': '阿牛',\n",
       " '1878': '艾尔肯',\n",
       " '1879': '安琥',\n",
       " '1881': '阿木',\n",
       " '1882': '阿强',\n",
       " '1883': '阿超',\n",
       " '1885': '阿炳',\n",
       " '1886': '艾斯卡尔',\n",
       " '1888': '阿穆隆',\n",
       " '1889': '阿贵',\n",
       " '1893': '阿里',\n",
       " '1894': '阿正',\n",
       " '1896': '阿沐',\n",
       " '1898': '阿杰',\n",
       " '1902': '阿振',\n",
       " '1904': '阿爆',\n",
       " '1905': '阿吉仔',\n",
       " '1906': '阿龙正罡',\n",
       " '1908': '阿不都拉',\n",
       " '1910': '阿德',\n",
       " '1912': '阿清',\n",
       " '1916': '阿鹏',\n",
       " '1919': 'AP满人',\n",
       " '1920': '艾玮伦',\n",
       " '1921': '安旭',\n",
       " '1924': '安志顺',\n",
       " '1925': '奥杰阿格',\n",
       " '1926': '阿拉腾傲刀',\n",
       " '1927': '阿乐',\n",
       " '1932': '阿温',\n",
       " '1934': '阿伦',\n",
       " '1945': '安东阳',\n",
       " '1961': '阿译',\n",
       " '1977': 'A-JING',\n",
       " '1980': '安神',\n",
       " '1990': '安东尼',\n",
       " '2019': '安德烈',\n",
       " '203228': 'Ap',\n",
       " '222664': 'ABD',\n",
       " '229593': '艾克拜尔',\n",
       " '2422': '阿鲲',\n",
       " '6713': 'AJ张杰',\n",
       " '677006': '阿普萨萨',\n",
       " '687028': '阿龙',\n",
       " '727015': 'AL=六甲官锭',\n",
       " '762462': '阿见',\n",
       " '784443': '阿来',\n",
       " '789918': '阿原',\n",
       " '802016': '安来宁',\n",
       " '804153': 'A-Show',\n",
       " '804159': '阿力普',\n",
       " '805076': 'ANNER',\n",
       " '854301': '安平',\n",
       " '857223': '阿牛和强子',\n",
       " '860734': '艾索',\n",
       " '862110': '敖日格乐',\n",
       " '893266': 'A3',\n",
       " '947019': '艾宝良',\n",
       " '964311': '阿良良木健',\n",
       " '975128': 'Arda',\n",
       " '996103': 'Armada Music'}"
      ]
     },
     "execution_count": 7,
     "metadata": {},
     "output_type": "execute_result"
    }
   ],
   "source": [
    "artist_dic"
   ]
  },
  {
   "cell_type": "code",
   "execution_count": 8,
   "metadata": {
    "ExecuteTime": {
     "end_time": "2018-05-23T07:28:13.549859Z",
     "start_time": "2018-05-23T07:28:13.507981Z"
    }
   },
   "outputs": [],
   "source": [
    "def save_artist(group_id, initial, hot_artist_dic, artisti_dic):\n",
    "    params = {'id': group_id, 'initial': initial}\n",
    "    r = requests.get('http://music.163.com/discover/artist/cat', params=params)\n",
    "\n",
    "    # 网页解析\n",
    "    soup = BeautifulSoup(r.content.decode(), 'html.parser')\n",
    "    body = soup.body\n",
    "\n",
    "    hot_artists = body.find_all('a', attrs={'class': 'msk'})\n",
    "    artists = body.find_all('a', attrs={'class': 'nm nm-icn f-thide s-fc0'})\n",
    "    for artist in hot_artists:\n",
    "        artist_id = artist['href'].replace('/artist?id=', '').strip()\n",
    "        artist_name = artist['title'].replace('的音乐', '')\n",
    "        try:\n",
    "            hot_artist_dic[artist_id] = artist_name\n",
    "        except Exception as e:\n",
    "            # 打印错误日志\n",
    "            print(e)\n",
    "\n",
    "    for artist in artists:\n",
    "        artist_id = artist['href'].replace('/artist?id=', '').strip()\n",
    "        artist_name = artist['title'].replace('的音乐', '')\n",
    "        try:\n",
    "            artist_dic[artist_id] = artist_name\n",
    "        except Exception as e:\n",
    "            # 打印错误日志\n",
    "            print(e)\n",
    "    #return artist_dic, hot_artist_dic\n"
   ]
  },
  {
   "cell_type": "code",
   "execution_count": 11,
   "metadata": {
    "ExecuteTime": {
     "end_time": "2018-05-23T07:29:53.813253Z",
     "start_time": "2018-05-23T07:29:53.137966Z"
    }
   },
   "outputs": [],
   "source": [
    "gg = 1001\n",
    "initial = 66\n",
    "artist_dic = {}\n",
    "hot_artist_dic = {} \n",
    "save_artist(gg, initial, hot_artist_dic, artist_dic  )"
   ]
  },
  {
   "cell_type": "code",
   "execution_count": 13,
   "metadata": {
    "ExecuteTime": {
     "end_time": "2018-05-23T07:30:00.619885Z",
     "start_time": "2018-05-23T07:30:00.613598Z"
    }
   },
   "outputs": [
    {
     "data": {
      "text/plain": [
       "{'1008035': 'BillySmith',\n",
       " '1023123': '鲍文洋',\n",
       " '1032014': '包启宁',\n",
       " '1032195': '白云飞',\n",
       " '1032373': '边远',\n",
       " '1038088': '贝歌',\n",
       " '1038354': '边边',\n",
       " '1039011': 'Bilal\\xa0Enwer',\n",
       " '1039313': 'Bunny',\n",
       " '1039537': 'BEATS W',\n",
       " '1040095': '菠萝大哥',\n",
       " '1040104': 'Blindman',\n",
       " '1041040': '百里熙',\n",
       " '1044046': '\\xa0梁靖如',\n",
       " '1044102': 'H.O.S.T',\n",
       " '1046167': '背包客',\n",
       " '1047011': '白客',\n",
       " '1047057': 'BEC包子',\n",
       " '1047238': '白挺',\n",
       " '1047265': '波仔',\n",
       " '1047363': '巴特尔道尔吉',\n",
       " '1048054': 'Braska',\n",
       " '1049372': '白浩',\n",
       " '1049871': '包尔淦',\n",
       " '1049899': 'BRET',\n",
       " '1050807': '白宁',\n",
       " '1053147': '笨笨口琴',\n",
       " '1054040': '冰块先生',\n",
       " '1057078': 'Badkiz',\n",
       " '1057197': '薄汉雄',\n",
       " '1057198': 'B.C.W.懒领阶级',\n",
       " '1057274': '包青山',\n",
       " '1060060': '斑辣个马',\n",
       " '1060124': '周迪',\n",
       " '1060169': 'BRAVEE',\n",
       " '1065002': 'Bikman',\n",
       " '1078050': 'BHTY-R',\n",
       " '1080017': 'Bjergsen',\n",
       " '1081023': '李胜伟',\n",
       " '1081384': '白不二',\n",
       " '1084207': '白亮',\n",
       " '1085053': '变奏的梦想',\n",
       " '1094177': '包威尔',\n",
       " '1124078': 'B.K.G',\n",
       " '1124422': '白力一男',\n",
       " '1131033': '拜合提亚bahtiyar aziz',\n",
       " '1131053': '碧姐',\n",
       " '1132200': '包胡尔查',\n",
       " '1132662': '鲍昕宇Aspada',\n",
       " '1165010': '卜风疯',\n",
       " '1181417': '拜合提亚尔塔依尔',\n",
       " '189947': '保剑锋',\n",
       " '2024': '保新谊',\n",
       " '2025': 'B6',\n",
       " '2026': '布仁巴雅尔',\n",
       " '2027': '卜学亮',\n",
       " '2030': '百川',\n",
       " '2031': '白驹荣',\n",
       " '2032': '贝玛千贝仁波切',\n",
       " '2033': '包朝克',\n",
       " '2034': '鲍比达',\n",
       " '2036': '滨哥',\n",
       " '2039': '白子正',\n",
       " '2040': '毕国勇',\n",
       " '2042': '白水老人',\n",
       " '2048': '百慕三石',\n",
       " '2049': '卞留念',\n",
       " '2050': '白音孟和',\n",
       " '2052': '比利',\n",
       " '2055': '白天不亮',\n",
       " '2056': '拜尔',\n",
       " '2059': '毕书尽',\n",
       " '2060': '白羽',\n",
       " '2061': '包伍',\n",
       " '2063': '白玛多吉',\n",
       " '2065': '布川',\n",
       " '2071': '白龙',\n",
       " '2072': '白鹤',\n",
       " '2073': '鲍元恺',\n",
       " '2083': '白云',\n",
       " '2084': '包伟铭',\n",
       " '2087': '波拉',\n",
       " '2089': '布朗',\n",
       " '2098': '暴林',\n",
       " '2101': 'Barry',\n",
       " '2103': '血男孩',\n",
       " '2104': 'Beatsound',\n",
       " '228408': 'Bloody Woods',\n",
       " '743043': '宾俊杰',\n",
       " '777662': '白水',\n",
       " '816079': '薄彩生',\n",
       " '816200': '鲍国',\n",
       " '839689': 'SAM努尔夏提',\n",
       " '854299': '包飞',\n",
       " '868113': 'BigKey',\n",
       " '905110': '边欣',\n",
       " '905711': '白成永',\n",
       " '909029': '白举纲',\n",
       " '962220': 'Baadsvik',\n",
       " '969082': '背背'}"
      ]
     },
     "execution_count": 13,
     "metadata": {},
     "output_type": "execute_result"
    }
   ],
   "source": [
    "artist_dic"
   ]
  },
  {
   "cell_type": "code",
   "execution_count": 18,
   "metadata": {
    "ExecuteTime": {
     "end_time": "2018-05-23T07:31:36.373038Z",
     "start_time": "2018-05-23T07:31:36.367543Z"
    }
   },
   "outputs": [
    {
     "data": {
      "text/plain": [
       "[65,\n",
       " 66,\n",
       " 67,\n",
       " 68,\n",
       " 69,\n",
       " 70,\n",
       " 71,\n",
       " 72,\n",
       " 73,\n",
       " 74,\n",
       " 75,\n",
       " 76,\n",
       " 77,\n",
       " 78,\n",
       " 79,\n",
       " 80,\n",
       " 81,\n",
       " 82,\n",
       " 83,\n",
       " 84,\n",
       " 85,\n",
       " 86,\n",
       " 87,\n",
       " 88,\n",
       " 89,\n",
       " 90,\n",
       " 0]"
      ]
     },
     "execution_count": 18,
     "metadata": {},
     "output_type": "execute_result"
    }
   ],
   "source": [
    "alist = list(range(65,91))\n",
    "alist.append(0)\n",
    "alist"
   ]
  },
  {
   "cell_type": "code",
   "execution_count": 22,
   "metadata": {
    "ExecuteTime": {
     "end_time": "2018-05-23T07:34:50.591239Z",
     "start_time": "2018-05-23T07:33:57.095041Z"
    }
   },
   "outputs": [
    {
     "name": "stdout",
     "output_type": "stream",
     "text": [
      "65\n",
      "66\n",
      "67\n",
      "68\n",
      "69\n",
      "70\n",
      "71\n",
      "72\n",
      "73\n",
      "74\n",
      "75\n",
      "76\n",
      "77\n",
      "78\n",
      "79\n",
      "80\n",
      "81\n",
      "82\n",
      "83\n",
      "84\n",
      "85\n",
      "86\n",
      "87\n",
      "88\n",
      "89\n",
      "90\n",
      "0\n"
     ]
    }
   ],
   "source": [
    "artist_dic = {}\n",
    "hot_artist_dic = {} \n",
    "for i in alist:\n",
    "    print(i)\n",
    "    save_artist(1001, i, hot_artist_dic, artist_dic  )"
   ]
  },
  {
   "cell_type": "code",
   "execution_count": 20,
   "metadata": {
    "ExecuteTime": {
     "end_time": "2018-05-23T07:33:47.878614Z",
     "start_time": "2018-05-23T07:33:47.874319Z"
    }
   },
   "outputs": [
    {
     "data": {
      "text/plain": [
       "260"
      ]
     },
     "execution_count": 20,
     "metadata": {},
     "output_type": "execute_result"
    }
   ],
   "source": [
    "len(hot_artist_dic)"
   ]
  },
  {
   "cell_type": "code",
   "execution_count": 21,
   "metadata": {
    "ExecuteTime": {
     "end_time": "2018-05-23T07:33:50.958866Z",
     "start_time": "2018-05-23T07:33:50.954734Z"
    }
   },
   "outputs": [
    {
     "data": {
      "text/plain": [
       "2296"
      ]
     },
     "execution_count": 21,
     "metadata": {},
     "output_type": "execute_result"
    }
   ],
   "source": [
    "len(artist_dic)"
   ]
  },
  {
   "cell_type": "code",
   "execution_count": 23,
   "metadata": {
    "ExecuteTime": {
     "end_time": "2018-05-23T07:41:16.362084Z",
     "start_time": "2018-05-23T07:38:48.705597Z"
    }
   },
   "outputs": [
    {
     "name": "stdout",
     "output_type": "stream",
     "text": [
      "1001 ---> 70\n",
      "1001 ---> 80\n",
      "1001 ---> 90\n",
      "1001 ---> 0\n",
      "1002 ---> 70\n",
      "1002 ---> 80\n",
      "1002 ---> 90\n",
      "1002 ---> 0\n",
      "1003 ---> 70\n",
      "1003 ---> 80\n",
      "1003 ---> 90\n",
      "1003 ---> 0\n",
      "2001 ---> 70\n",
      "2001 ---> 80\n",
      "2001 ---> 90\n",
      "2001 ---> 0\n",
      "2002 ---> 70\n",
      "2002 ---> 80\n",
      "2002 ---> 90\n",
      "2002 ---> 0\n",
      "2003 ---> 70\n",
      "2003 ---> 80\n",
      "2003 ---> 90\n",
      "2003 ---> 0\n",
      "6001 ---> 70\n",
      "6001 ---> 80\n",
      "6001 ---> 90\n",
      "6001 ---> 0\n",
      "6002 ---> 70\n",
      "6002 ---> 80\n",
      "6002 ---> 90\n",
      "6002 ---> 0\n",
      "6003 ---> 70\n",
      "6003 ---> 80\n",
      "6003 ---> 90\n",
      "6003 ---> 0\n",
      "7001 ---> 70\n",
      "7001 ---> 80\n",
      "7001 ---> 90\n",
      "7001 ---> 0\n",
      "7002 ---> 70\n",
      "7002 ---> 80\n",
      "7002 ---> 90\n",
      "7002 ---> 0\n",
      "7003 ---> 70\n",
      "7003 ---> 80\n",
      "7003 ---> 90\n",
      "7003 ---> 0\n",
      "4001 ---> 70\n",
      "4001 ---> 80\n",
      "4001 ---> 90\n",
      "4001 ---> 0\n",
      "4002 ---> 70\n",
      "4002 ---> 80\n",
      "4002 ---> 90\n",
      "4002 ---> 0\n",
      "4003 ---> 70\n",
      "4003 ---> 80\n",
      "4003 ---> 90\n",
      "4003 ---> 0\n"
     ]
    }
   ],
   "source": [
    "group_id_list = [1001, 1002, 1003, 2001, 2002, 2003, \n",
    "                 6001, 6002, 6003, 7001, 7002, 7003,\n",
    "                 4001, 4002, 4003]\n",
    "artist_dic = {}\n",
    "hot_artist_dic = {} \n",
    "for gg in group_id_list:\n",
    "    for i in alist:\n",
    "        if i%10 ==0:\n",
    "            print(gg, '--->', i)\n",
    "        save_artist(gg, i, hot_artist_dic, artist_dic  )"
   ]
  },
  {
   "cell_type": "code",
   "execution_count": 24,
   "metadata": {
    "ExecuteTime": {
     "end_time": "2018-05-23T07:41:32.268284Z",
     "start_time": "2018-05-23T07:41:32.264086Z"
    }
   },
   "outputs": [
    {
     "data": {
      "text/plain": [
       "34201"
      ]
     },
     "execution_count": 24,
     "metadata": {},
     "output_type": "execute_result"
    }
   ],
   "source": [
    "len(artist_dic)"
   ]
  },
  {
   "cell_type": "code",
   "execution_count": 34,
   "metadata": {
    "ExecuteTime": {
     "end_time": "2018-05-23T07:45:38.498278Z",
     "start_time": "2018-05-23T07:45:38.473651Z"
    }
   },
   "outputs": [
    {
     "data": {
      "text/html": [
       "<div>\n",
       "<table border=\"1\" class=\"dataframe\">\n",
       "  <thead>\n",
       "    <tr style=\"text-align: right;\">\n",
       "      <th></th>\n",
       "      <th>0</th>\n",
       "    </tr>\n",
       "  </thead>\n",
       "  <tbody>\n",
       "    <tr>\n",
       "      <th>12457</th>\n",
       "      <td>年少</td>\n",
       "    </tr>\n",
       "    <tr>\n",
       "      <th>19268</th>\n",
       "      <td>euphoria</td>\n",
       "    </tr>\n",
       "    <tr>\n",
       "      <th>48411</th>\n",
       "      <td>Nil Karaibrahimgil</td>\n",
       "    </tr>\n",
       "    <tr>\n",
       "      <th>745003</th>\n",
       "      <td>Alvita</td>\n",
       "    </tr>\n",
       "    <tr>\n",
       "      <th>12137039</th>\n",
       "      <td>INCOMMA</td>\n",
       "    </tr>\n",
       "  </tbody>\n",
       "</table>\n",
       "</div>"
      ],
      "text/plain": [
       "                           0\n",
       "12457                     年少\n",
       "19268               euphoria\n",
       "48411     Nil Karaibrahimgil\n",
       "745003                Alvita\n",
       "12137039             INCOMMA"
      ]
     },
     "execution_count": 34,
     "metadata": {},
     "output_type": "execute_result"
    }
   ],
   "source": [
    "import pandas as pd\n",
    "df_artist = pd.DataFrame.from_dict(artist_dic,  \n",
    "                                   orient='index')\n",
    "df_artist[:5]"
   ]
  },
  {
   "cell_type": "code",
   "execution_count": 35,
   "metadata": {
    "ExecuteTime": {
     "end_time": "2018-05-23T07:46:10.778018Z",
     "start_time": "2018-05-23T07:46:10.737303Z"
    }
   },
   "outputs": [],
   "source": [
    "#df_artist.to_csv('netease_artist.txt')"
   ]
  },
  {
   "cell_type": "code",
   "execution_count": 4,
   "metadata": {
    "ExecuteTime": {
     "end_time": "2018-05-30T06:19:20.591721Z",
     "start_time": "2018-05-30T06:19:19.697872Z"
    }
   },
   "outputs": [
    {
     "data": {
      "text/html": [
       "<div>\n",
       "<table border=\"1\" class=\"dataframe\">\n",
       "  <thead>\n",
       "    <tr style=\"text-align: right;\">\n",
       "      <th></th>\n",
       "      <th>id</th>\n",
       "      <th>name</th>\n",
       "    </tr>\n",
       "  </thead>\n",
       "  <tbody>\n",
       "    <tr>\n",
       "      <th>0</th>\n",
       "      <td>12457</td>\n",
       "      <td>年少</td>\n",
       "    </tr>\n",
       "    <tr>\n",
       "      <th>1</th>\n",
       "      <td>19268</td>\n",
       "      <td>euphoria</td>\n",
       "    </tr>\n",
       "    <tr>\n",
       "      <th>2</th>\n",
       "      <td>48411</td>\n",
       "      <td>Nil Karaibrahimgil</td>\n",
       "    </tr>\n",
       "  </tbody>\n",
       "</table>\n",
       "</div>"
      ],
      "text/plain": [
       "      id                name\n",
       "0  12457                  年少\n",
       "1  19268            euphoria\n",
       "2  48411  Nil Karaibrahimgil"
      ]
     },
     "execution_count": 4,
     "metadata": {},
     "output_type": "execute_result"
    }
   ],
   "source": [
    "import pandas as pd\n",
    "\n",
    "df_artist = pd.read_csv('netease_artist.txt')\n",
    "df_artist[:3]"
   ]
  },
  {
   "cell_type": "code",
   "execution_count": 5,
   "metadata": {
    "ExecuteTime": {
     "end_time": "2018-05-30T06:19:23.470700Z",
     "start_time": "2018-05-30T06:19:23.466316Z"
    }
   },
   "outputs": [
    {
     "data": {
      "text/plain": [
       "34201"
      ]
     },
     "execution_count": 5,
     "metadata": {},
     "output_type": "execute_result"
    }
   ],
   "source": [
    "len(df_artist)"
   ]
  },
  {
   "cell_type": "code",
   "execution_count": 6,
   "metadata": {
    "ExecuteTime": {
     "end_time": "2018-05-30T06:19:27.367974Z",
     "start_time": "2018-05-30T06:19:27.361528Z"
    }
   },
   "outputs": [
    {
     "data": {
      "text/plain": [
       "12457"
      ]
     },
     "execution_count": 6,
     "metadata": {},
     "output_type": "execute_result"
    }
   ],
   "source": [
    "df_artist.id[0]"
   ]
  },
  {
   "cell_type": "markdown",
   "metadata": {},
   "source": [
    "# 爬取所有的专辑信息（album_by _artist.py）"
   ]
  },
  {
   "cell_type": "code",
   "execution_count": 39,
   "metadata": {
    "ExecuteTime": {
     "end_time": "2018-05-23T07:48:08.317139Z",
     "start_time": "2018-05-23T07:48:08.312882Z"
    }
   },
   "outputs": [
    {
     "data": {
      "text/plain": [
       "'13485312'"
      ]
     },
     "execution_count": 39,
     "metadata": {},
     "output_type": "execute_result"
    }
   ],
   "source": [
    "list(hot_artist_dic.keys())[0]"
   ]
  },
  {
   "cell_type": "markdown",
   "metadata": {
    "ExecuteTime": {
     "end_time": "2018-05-09T10:11:23.224190Z",
     "start_time": "2018-05-09T10:11:23.220284Z"
    }
   },
   "source": [
    "http://music.163.com/#/artist/album?id=13485312&limit=400"
   ]
  },
  {
   "cell_type": "code",
   "execution_count": 16,
   "metadata": {
    "ExecuteTime": {
     "end_time": "2018-05-30T06:23:18.474368Z",
     "start_time": "2018-05-30T06:23:18.459116Z"
    }
   },
   "outputs": [],
   "source": [
    "def save_albums(artist_id, albume_dic):\n",
    "    params = {'id': artist_id, 'limit': '200'}\n",
    "    # 获取歌手个人主页\n",
    "    r = requests.get('http://music.163.com/artist/album', \n",
    "                     headers=headers, params=params)\n",
    "\n",
    "    # 网页解析\n",
    "    soup = BeautifulSoup(r.content.decode(), 'html.parser')\n",
    "    body = soup.body\n",
    "\n",
    "    albums = body.find_all('a', attrs={'class': 'tit s-fc0'})  # 获取所有专辑\n",
    "\n",
    "    for album in albums:\n",
    "        albume_id = album['href'].replace('/album?id=', '')\n",
    "        albume_dic[albume_id] = artist_id"
   ]
  },
  {
   "cell_type": "code",
   "execution_count": 11,
   "metadata": {
    "ExecuteTime": {
     "end_time": "2018-05-30T06:22:16.631904Z",
     "start_time": "2018-05-30T06:22:16.627418Z"
    }
   },
   "outputs": [],
   "source": [
    "import sys\n",
    "def flushPrint(s):\n",
    "    sys.stdout.write('\\r')\n",
    "    sys.stdout.write('%s' % s)\n",
    "    sys.stdout.flush()"
   ]
  },
  {
   "cell_type": "code",
   "execution_count": 46,
   "metadata": {
    "ExecuteTime": {
     "end_time": "2018-05-23T16:23:42.725180Z",
     "start_time": "2018-05-23T16:23:42.720576Z"
    }
   },
   "outputs": [
    {
     "data": {
      "text/plain": [
       "26614"
      ]
     },
     "execution_count": 46,
     "metadata": {},
     "output_type": "execute_result"
    }
   ],
   "source": [
    "len(albume_dic)"
   ]
  },
  {
   "cell_type": "code",
   "execution_count": 14,
   "metadata": {
    "ExecuteTime": {
     "end_time": "2018-05-30T06:22:39.871684Z",
     "start_time": "2018-05-30T06:22:39.868955Z"
    }
   },
   "outputs": [],
   "source": [
    "#df_artist.id[:100]"
   ]
  },
  {
   "cell_type": "code",
   "execution_count": 18,
   "metadata": {
    "ExecuteTime": {
     "end_time": "2018-05-30T06:27:48.483269Z",
     "start_time": "2018-05-30T06:24:18.033531Z"
    }
   },
   "outputs": [
    {
     "name": "stdout",
     "output_type": "stream",
     "text": [
      "09618   -->   ('Connection aborted.', ConnectionResetError(54, 'Connection reset by peer'))\n",
      "80"
     ]
    }
   ],
   "source": [
    "albume_dic = {}\n",
    "error =[]\n",
    "for k, i in enumerate(df_artist.id[:100]):\n",
    "    if k % 20 == 0:\n",
    "        flushPrint(k)\n",
    "    try:\n",
    "        save_albums(str(i), albume_dic)\n",
    "    except Exception as e:\n",
    "        print(i, '  -->  ',e)\n",
    "        error.append(i)\n",
    "        pass"
   ]
  },
  {
   "cell_type": "code",
   "execution_count": 21,
   "metadata": {
    "ExecuteTime": {
     "end_time": "2018-05-30T06:29:20.411134Z",
     "start_time": "2018-05-30T06:29:19.795022Z"
    }
   },
   "outputs": [
    {
     "name": "stdout",
     "output_type": "stream",
     "text": [
      "\r",
      "0"
     ]
    }
   ],
   "source": [
    "error2 = []\n",
    "for k, i in enumerate(error):\n",
    "    if k % 20 == 0:\n",
    "        flushPrint(k)\n",
    "    try:\n",
    "        save_albums(str(i), albume_dic)\n",
    "    except Exception as e:\n",
    "        print(i, '  -->  ',e)\n",
    "        error2.append(i)\n",
    "        pass"
   ]
  },
  {
   "cell_type": "code",
   "execution_count": 34,
   "metadata": {
    "ExecuteTime": {
     "end_time": "2018-05-30T06:36:49.556120Z",
     "start_time": "2018-05-30T06:36:49.551655Z"
    }
   },
   "outputs": [
    {
     "data": {
      "text/plain": [
       "['139846', '19268', '31367']"
      ]
     },
     "execution_count": 34,
     "metadata": {},
     "output_type": "execute_result"
    }
   ],
   "source": [
    "list(albume_dic.values())[:3]"
   ]
  },
  {
   "cell_type": "code",
   "execution_count": 35,
   "metadata": {
    "ExecuteTime": {
     "end_time": "2018-05-30T06:36:56.838262Z",
     "start_time": "2018-05-30T06:36:56.832480Z"
    }
   },
   "outputs": [
    {
     "data": {
      "text/plain": [
       "0    12457\n",
       "1    19268\n",
       "2    48411\n",
       "Name: id, dtype: int64"
      ]
     },
     "execution_count": 35,
     "metadata": {},
     "output_type": "execute_result"
    }
   ],
   "source": [
    "df_artist.id[:3]"
   ]
  },
  {
   "cell_type": "code",
   "execution_count": 32,
   "metadata": {
    "ExecuteTime": {
     "end_time": "2018-05-30T06:34:59.680869Z",
     "start_time": "2018-05-30T06:34:59.674995Z"
    }
   },
   "outputs": [
    {
     "name": "stdout",
     "output_type": "stream",
     "text": [
      "1047342\n",
      "13059441\n",
      "12727112\n"
     ]
    }
   ],
   "source": [
    "ids = {i for i in list(albume_dic.values())}\n",
    "for i in df_artist.id[:100]:\n",
    "    if str(i) not in ids:\n",
    "        print(i)"
   ]
  },
  {
   "cell_type": "code",
   "execution_count": 37,
   "metadata": {
    "ExecuteTime": {
     "end_time": "2018-05-30T06:37:22.308366Z",
     "start_time": "2018-05-30T06:37:22.303643Z"
    }
   },
   "outputs": [
    {
     "data": {
      "text/plain": [
       "814"
      ]
     },
     "execution_count": 37,
     "metadata": {},
     "output_type": "execute_result"
    }
   ],
   "source": [
    "len(albume_dic.keys())"
   ]
  },
  {
   "cell_type": "markdown",
   "metadata": {},
   "source": [
    "# 根据专辑信息爬取所有的歌曲信息（music_by _album.py）"
   ]
  },
  {
   "cell_type": "code",
   "execution_count": 38,
   "metadata": {
    "ExecuteTime": {
     "end_time": "2018-05-30T06:38:39.115327Z",
     "start_time": "2018-05-30T06:38:39.085254Z"
    }
   },
   "outputs": [],
   "source": [
    "headers = {\n",
    "        'Accept': 'text/html,application/xhtml+xml,application/xml;q=0.9,image/webp,*/*;q=0.8',\n",
    "        'Accept-Encoding': 'gzip, deflate, sdch',\n",
    "        'Accept-Language': 'zh-CN,zh;q=0.8,en;q=0.6',\n",
    "        'Cache-Control': 'no-cache',\n",
    "        'Connection': 'keep-alive',\n",
    "        'Cookie': '_ntes_nnid=7eced19b27ffae35dad3f8f2bf5885cd,1476521011210; _ntes_nuid=7eced19b27ffae35dad3f8f2bf5885cd; usertrack=c+5+hlgB7TgnsAmACnXtAg==; Province=025; City=025; NTES_PASSPORT=6n9ihXhbWKPi8yAqG.i2kETSCRa.ug06Txh8EMrrRsliVQXFV_orx5HffqhQjuGHkNQrLOIRLLotGohL9s10wcYSPiQfI2wiPacKlJ3nYAXgM; P_INFO=hourui93@163.com|1476523293|1|study|11&12|jis&1476511733&mail163#jis&320100#10#0#0|151889&0|g37_client_check&mailsettings&mail163&study&blog|hourui93@163.com; _ga=GA1.2.1405085820.1476521280; JSESSIONID-WYYY=fb5288e1c5f667324f1636d020704cab2f27ee915622b114f89027cbf60c38be2af6b9cbef2223c1f2581e3502f11b86efd60891d6f61b6f783c0d55114f8269fa801df7352f5cc4c8259876e563a6bd0212b504a8997723a0593b21d5b3d9076d4fa38c098be68e3c5d36d342e4a8e40c1f73378cec0b5851bd8a628886edbdd23a7093%3A1476623819662; _iuqxldmzr_=25; __utma=94650624.1038096298.1476521011.1476610320.1476622020.10; __utmb=94650624.14.10.1476622020; __utmc=94650624; __utmz=94650624.1476521011.1.1.utmcsr=(direct)|utmccn=(direct)|utmcmd=(none)',\n",
    "        'DNT': '1',\n",
    "        'Host': 'music.163.com',\n",
    "        'Pragma': 'no-cache',\n",
    "        'Referer': 'http://music.163.com/',\n",
    "        'Upgrade-Insecure-Requests': '1',\n",
    "        'User-Agent': 'Mozilla/5.0 (Windows NT 10.0; Win64; x64) AppleWebKit/537.36 (KHTML, like Gecko) Chrome/53.0.2785.143 Safari/537.36'\n",
    "    }\n",
    "\n",
    "def save_music(album_id, music_dic):\n",
    "    params = {'id': album_id}\n",
    "    # 获取专辑对应的页面\n",
    "    r = requests.get('http://music.163.com/album', \n",
    "                     headers=headers, params=params)\n",
    "\n",
    "    # 网页解析\n",
    "    soup = BeautifulSoup(r.content.decode(), 'html.parser')\n",
    "    body = soup.body\n",
    "\n",
    "    musics = body.find('ul', attrs={'class': 'f-hide'}).find_all('li')  # 获取专辑的所有音乐\n",
    "\n",
    "    for music in musics:\n",
    "        music = music.find('a')\n",
    "        music_id = music['href'].replace('/song?id=', '')\n",
    "        music_name = music.getText()\n",
    "        music_dic[music_id] = [music_name, album_id]"
   ]
  },
  {
   "cell_type": "code",
   "execution_count": 39,
   "metadata": {
    "ExecuteTime": {
     "end_time": "2018-05-30T06:38:46.153618Z",
     "start_time": "2018-05-30T06:38:46.148899Z"
    }
   },
   "outputs": [
    {
     "data": {
      "text/plain": [
       "'35671562'"
      ]
     },
     "execution_count": 39,
     "metadata": {},
     "output_type": "execute_result"
    }
   ],
   "source": [
    "list(albume_dic.keys())[0]"
   ]
  },
  {
   "cell_type": "code",
   "execution_count": 40,
   "metadata": {
    "ExecuteTime": {
     "end_time": "2018-05-30T06:39:02.093169Z",
     "start_time": "2018-05-30T06:39:01.668774Z"
    }
   },
   "outputs": [],
   "source": [
    "music_dic = {}\n",
    "save_music('35671562', music_dic)"
   ]
  },
  {
   "cell_type": "code",
   "execution_count": 41,
   "metadata": {
    "ExecuteTime": {
     "end_time": "2018-05-30T06:39:03.353584Z",
     "start_time": "2018-05-30T06:39:03.348370Z"
    }
   },
   "outputs": [
    {
     "data": {
      "text/plain": [
       "{'486310636': ['Heat Wave', '35671562'],\n",
       " '486310637': ['Limu', '35671562'],\n",
       " '486310638': ['Le bastion', '35671562'],\n",
       " '486310639': ['Diaspora dub', '35671562'],\n",
       " '486310640': [\"L'ivresse des profondeurs\", '35671562'],\n",
       " '486310641': ['Pirate', '35671562'],\n",
       " '486310642': ['Radio Rebel', '35671562'],\n",
       " '486310643': ['Medley', '35671562'],\n",
       " '486310644': ['A coups de sampler', '35671562'],\n",
       " '486310645': ['Truth & Rights', '35671562'],\n",
       " '486310646': ['Nomades aka', '35671562']}"
      ]
     },
     "execution_count": 41,
     "metadata": {},
     "output_type": "execute_result"
    }
   ],
   "source": [
    "music_dic"
   ]
  },
  {
   "cell_type": "code",
   "execution_count": 42,
   "metadata": {
    "ExecuteTime": {
     "end_time": "2018-05-30T06:47:35.813356Z",
     "start_time": "2018-05-30T06:41:07.058647Z"
    }
   },
   "outputs": [
    {
     "name": "stdout",
     "output_type": "stream",
     "text": [
      "800"
     ]
    }
   ],
   "source": [
    "music_dic = {}\n",
    "music_error =[]\n",
    "for k, i in enumerate(albume_dic.keys()):\n",
    "    if k % 20 == 0:\n",
    "        flushPrint(k)\n",
    "    try:\n",
    "        save_music(str(i), music_dic)\n",
    "    except Exception as e:\n",
    "        print(i, '  -->  ',e)\n",
    "        music_error.append(i)\n",
    "        pass"
   ]
  },
  {
   "cell_type": "code",
   "execution_count": 45,
   "metadata": {
    "ExecuteTime": {
     "end_time": "2018-05-30T06:52:02.271279Z",
     "start_time": "2018-05-30T06:52:02.266303Z"
    }
   },
   "outputs": [
    {
     "data": {
      "text/plain": [
       "5940"
      ]
     },
     "execution_count": 45,
     "metadata": {},
     "output_type": "execute_result"
    }
   ],
   "source": [
    "len(music_dic.keys())"
   ]
  },
  {
   "cell_type": "markdown",
   "metadata": {},
   "source": [
    "# 根据歌曲信息爬取其评论条数（comments_by _music.py"
   ]
  },
  {
   "cell_type": "markdown",
   "metadata": {},
   "source": [
    "http://music.163.com/#/song?id=516997458\n",
    "\n",
    "\n",
    "很遗憾的是评论数虽然也在详情页内，但是网易云音乐做了防爬处理，\n",
    "- 采用AJAX调用评论数API的方式填充评论相关数据，\n",
    "- 异步的特性导致我们爬到的页面中评论数是空，\n",
    "\n",
    "我们就找一找这个API吧，通关观察XHR请求发现是下面这个家伙..\n",
    "\n",
    "响应结果很丰富呢，所有评论相关的数据都有，不过经过观察发现这个API是经过加密处理的，不过没关系...\n",
    "\n",
    "https://blog.csdn.net/python233/article/details/72825003\n",
    "\n",
    "https://www.zhihu.com/question/36081767\n"
   ]
  },
  {
   "cell_type": "code",
   "execution_count": 46,
   "metadata": {
    "ExecuteTime": {
     "end_time": "2018-05-30T07:04:29.075404Z",
     "start_time": "2018-05-30T07:04:29.064964Z"
    }
   },
   "outputs": [],
   "source": [
    "headers = {\n",
    "    'Host': 'music.163.com',\n",
    "    'Connection': 'keep-alive',\n",
    "    'Content-Length': '484',\n",
    "    'Cache-Control': 'max-age=0',\n",
    "    'Origin': 'http://music.163.com',\n",
    "    'User-Agent': 'Mozilla/5.0 (Windows NT 6.1; Win64; x64) AppleWebKit/537.36 (KHTML, like Gecko) Chrome/51.0.2704.84 Safari/537.36',\n",
    "    'Content-Type': 'application/x-www-form-urlencoded',\n",
    "    'Accept': '*/*',\n",
    "    'DNT': '1',\n",
    "    'Accept-Encoding': 'gzip, deflate',\n",
    "    'Accept-Language': 'zh-CN,zh;q=0.8,en;q=0.6,zh-TW;q=0.4',\n",
    "    'Cookie': 'JSESSIONID-WYYY=b66d89ed74ae9e94ead89b16e475556e763dd34f95e6ca357d06830a210abc7b685e82318b9d1d5b52ac4f4b9a55024c7a34024fddaee852404ed410933db994dcc0e398f61e670bfeea81105cbe098294e39ac566e1d5aa7232df741870ba1fe96e5cede8372ca587275d35c1a5d1b23a11e274a4c249afba03e20fa2dafb7a16eebdf6%3A1476373826753; _iuqxldmzr_=25; _ntes_nnid=7fa73e96706f26f3ada99abba6c4a6b2,1476372027128; _ntes_nuid=7fa73e96706f26f3ada99abba6c4a6b2; __utma=94650624.748605760.1476372027.1476372027.1476372027.1; __utmb=94650624.4.10.1476372027; __utmc=94650624; __utmz=94650624.1476372027.1.1.utmcsr=(direct)|utmccn=(direct)|utmcmd=(none)',\n",
    "}\n",
    "\n",
    "params = {\n",
    "    'csrf_token': ''\n",
    "}\n",
    "\n",
    "data = {\n",
    "    'params': '5L+s/X1qDy33tb2sjT6to2T4oxv89Fjg1aYRkjgzpNPR6hgCpp0YVjNoTLQAwWu9VYvKROPZQj6qTpBK+sUeJovyNHsnU9/StEfZwCOcKfECFFtAvoNIpulj1TDOtBir',\n",
    "    'encSecKey': '59079f3e07d6e240410018dc871bf9364f122b720c0735837d7916ac78d48a79ec06c6307e6a0e576605d6228bd0b377a96e1a7fc7c7ddc8f6a3dc6cc50746933352d4ec5cbe7bddd6dcb94de085a3b408d895ebfdf2f43a7c72fc783512b3c9efb860679a88ef21ccec5ff13592be450a1edebf981c0bf779b122ddbd825492'\n",
    "    \n",
    "}"
   ]
  },
  {
   "cell_type": "markdown",
   "metadata": {},
   "source": [
    "## 翻页的实现\n",
    "\n",
    "limit是一页的数量，offset往后的偏移。\n",
    "- 比如limit是20，offset是40，就展示第三页的\n",
    "\n",
    "http://music.163.com/api/v1/resource/comments/R_SO_4_516997458?limit=20&offset=0\n",
    "\n",
    "http://music.163.com/api/v1/resource/comments/R_SO_4_516997458?limit=20&offset=20\n",
    "\n",
    "http://music.163.com/api/v1/resource/comments/R_SO_4_516997458?limit=20&offset=40"
   ]
  },
  {
   "cell_type": "code",
   "execution_count": 48,
   "metadata": {
    "ExecuteTime": {
     "end_time": "2018-05-30T07:05:37.408390Z",
     "start_time": "2018-05-30T07:05:37.302662Z"
    }
   },
   "outputs": [
    {
     "data": {
      "text/plain": [
       "dict_keys(['total', 'userId', 'isMusician', 'more', 'code', 'comments', 'topComments', 'hotComments', 'moreHot'])"
      ]
     },
     "execution_count": 48,
     "metadata": {},
     "output_type": "execute_result"
    }
   ],
   "source": [
    "offset = 0\n",
    "music_id = '516997458'\n",
    "url = 'http://music.163.com/api/v1/resource/comments/R_SO_4_'+ music_id + '?limit=20&offset=' + str(offset)\n",
    "response = requests.post(url, headers=headers, data=data)\n",
    "cj = response.json()\n",
    "cj.keys()"
   ]
  },
  {
   "cell_type": "code",
   "execution_count": 79,
   "metadata": {
    "ExecuteTime": {
     "end_time": "2018-05-30T07:25:16.295683Z",
     "start_time": "2018-05-30T07:25:16.278715Z"
    }
   },
   "outputs": [],
   "source": [
    "def save_song(music_id, song_dic):\n",
    "    offset = 0\n",
    "    url = 'http://music.163.com/api/v1/resource/comments/R_SO_4_'+ music_id + '?limit=20&offset=' + str(offset)\n",
    "    response = requests.post(url, headers=headers, data=data)\n",
    "    cj = response.json()\n",
    "    total = cj['total']\n",
    "    hotlist = []\n",
    "    for i in cj['hotComments']:\n",
    "        content = i['content']\n",
    "        like = i['likedCount']\n",
    "        time = i['time']\n",
    "        user = i['user']['userId'] \n",
    "        hotlist.append([content, like, time, user])\n",
    "    song_dic[music_id]=[total, hotlist]\n",
    "    "
   ]
  },
  {
   "cell_type": "code",
   "execution_count": 80,
   "metadata": {
    "ExecuteTime": {
     "end_time": "2018-05-30T07:25:21.409348Z",
     "start_time": "2018-05-30T07:25:21.216062Z"
    }
   },
   "outputs": [],
   "source": [
    "song_dic = {}\n",
    "save_song('516997458', song_dic)"
   ]
  },
  {
   "cell_type": "code",
   "execution_count": 81,
   "metadata": {
    "ExecuteTime": {
     "end_time": "2018-05-30T07:25:21.739436Z",
     "start_time": "2018-05-30T07:25:21.733667Z"
    }
   },
   "outputs": [
    {
     "data": {
      "text/plain": [
       "{'516997458': [8097,\n",
       "  [['合作很开心 \\\\(//∇//)\\\\ 再强调一下 不要比较哦~', 22869, 1509773639514, 135214753],\n",
       "   ['2017.02.27，我鼓起勇气私信了二笙，希望能听到她翻唱《白石溪》，于是，2017.11.04，我得偿所愿，疯狂打call！！！',\n",
       "    11434,\n",
       "    1509785241690,\n",
       "    136088330],\n",
       "   ['他年君归，我已白首，可否安否？[心碎]', 6294, 1509890451139, 573597989],\n",
       "   ['为笙不离古风   敢问东风，玉成双偶！', 5106, 1509782850774, 511241074],\n",
       "   ['遗君一心 一心怎收？@双笙子', 2871, 1509775953038, 253884140],\n",
       "   ['此生相依，人间白首。', 2593, 1509879397234, 41575131],\n",
       "   ['好！！！超温柔好喜欢啊！！', 2411, 1509773949545, 117723916],\n",
       "   ['“金风玉露一相逢，便胜却人间无数”         “身无彩凤双飞翼，心有灵犀一点通”                笙，最近真的高产呐~表白你♡♡我最好的二笙♡月月的声音也好听的不要不要的♡为我的两个女神打call~冬季了过的都好吧？♡♡☆',\n",
       "    1675,\n",
       "    1509785525844,\n",
       "    454717946],\n",
       "   ['大家不要再捞那个评论了，也不用举报了。开开心心听歌，好的坏的评论都接收，不接收恶意揣测和胡乱分析。最新出的《不立传》是原创同人曲，《扬州姑娘》是人声本家，《飞行安全颂》是和银临女神的合作曲，《羽人夜歌》还有《女孩你为何踮脚尖》同样是原唱和人声本家。',\n",
       "    1548,\n",
       "    1509799538380,\n",
       "    272211992],\n",
       "   ['白石溪畔 斜阳逐流，可嫌 金风玉露 兼程久，灵犀心念 便相谋。只羡鸳鸯不羡仙，你是我心里的琴瑟和鸣，在我眼底你那么好，白首偕老，隔首相望，忆昔盼兮。@双笙子 ',\n",
       "    856,\n",
       "    1509784001095,\n",
       "    351891558],\n",
       "   ['后排表白二笙[亲亲][亲亲]顺带表白全员[亲]每个歌手都会唱出属于自己特点的歌，每个翻唱也只是演绎了令一个版本。我们都要不比不刷[大笑]做好自己，好好听歌[憨笑]继续表白我高产的二笙[爱心][爱心]我们会一直支持你的[亲亲][亲亲]',\n",
       "    734,\n",
       "    1509796178459,\n",
       "    540357008],\n",
       "   ['冥月小姐姐唱到 何年夕何，两相执手 的时候突然的低音简直温柔的让我心头一颤！实在是太好听啦！还有小双笙的蜜汁少年音！（2333）和冥月小姐姐唱到 九霄一曲 人间白首，隔世相问 忆否忆否。那里简直不能太配了！希望以后两位女神能多多合作出些更多的古风歌！❤️❤️[亲亲][亲亲]',\n",
       "    695,\n",
       "    1509799104012,\n",
       "    397792954],\n",
       "   ['共笙， 百年暮昏，到白昼。', 577, 1509797619854, 340825017],\n",
       "   ['发现双笙长大了不带囧菌一起玩了。。。。', 479, 1510027128236, 377560577],\n",
       "   ['有时候别人问我：“你不是最讨厌语文的吗？为什么喜欢古风的东西。”我敲完代码，沉思一会说到：“两者没法相提并论，我喜欢古风是因为自己正当仗剑天涯的年纪，不喜欢语文是因为---------------我议论文真的不好。“',\n",
       "    440,\n",
       "    1509889060055,\n",
       "    325790540]]]}"
      ]
     },
     "execution_count": 81,
     "metadata": {},
     "output_type": "execute_result"
    }
   ],
   "source": [
    "song_dic"
   ]
  },
  {
   "cell_type": "code",
   "execution_count": 77,
   "metadata": {
    "ExecuteTime": {
     "end_time": "2018-05-30T07:24:36.835046Z",
     "start_time": "2018-05-30T07:24:36.831454Z"
    }
   },
   "outputs": [],
   "source": [
    "song100 = list(music_dic.keys())[:100]"
   ]
  },
  {
   "cell_type": "code",
   "execution_count": 82,
   "metadata": {
    "ExecuteTime": {
     "end_time": "2018-05-30T07:25:43.067211Z",
     "start_time": "2018-05-30T07:25:30.486644Z"
    }
   },
   "outputs": [
    {
     "name": "stdout",
     "output_type": "stream",
     "text": [
      "80"
     ]
    }
   ],
   "source": [
    "song_dic = {}\n",
    "song_error =[]\n",
    "for k, i in enumerate(song100):\n",
    "    if k % 20 == 0:\n",
    "        flushPrint(k)\n",
    "    try:\n",
    "        save_song(str(i), song_dic)\n",
    "    except Exception as e:\n",
    "        print(i, '  -->  ',e)\n",
    "        song_error.append(i)\n",
    "        pass"
   ]
  },
  {
   "cell_type": "code",
   "execution_count": 92,
   "metadata": {
    "ExecuteTime": {
     "end_time": "2018-05-30T07:30:11.228062Z",
     "start_time": "2018-05-30T07:30:11.222282Z"
    }
   },
   "outputs": [],
   "source": [
    "import json\n",
    "with open('song_dic.json', 'w') as f:\n",
    "    json.dump(song_dic, f)"
   ]
  },
  {
   "cell_type": "code",
   "execution_count": 93,
   "metadata": {
    "ExecuteTime": {
     "end_time": "2018-05-30T07:31:31.064376Z",
     "start_time": "2018-05-30T07:31:31.060722Z"
    }
   },
   "outputs": [],
   "source": [
    "sd = json.load(open(\"song_dic.json\"))\n"
   ]
  },
  {
   "cell_type": "code",
   "execution_count": 95,
   "metadata": {
    "ExecuteTime": {
     "end_time": "2018-05-30T07:31:42.026072Z",
     "start_time": "2018-05-30T07:31:42.021449Z"
    }
   },
   "outputs": [
    {
     "data": {
      "text/plain": [
       "100"
      ]
     },
     "execution_count": 95,
     "metadata": {},
     "output_type": "execute_result"
    }
   ],
   "source": [
    "len(sd)"
   ]
  },
  {
   "cell_type": "code",
   "execution_count": 105,
   "metadata": {
    "ExecuteTime": {
     "end_time": "2018-05-30T07:33:16.776120Z",
     "start_time": "2018-05-30T07:33:16.770284Z"
    }
   },
   "outputs": [
    {
     "data": {
      "text/plain": [
       "('4226353',\n",
       " [1429,\n",
       "  [['我我我我我我我我我我了个草，我才发现这翻译是我男票啊啊啊啊啊！！！！！！我最喜欢的歌！！！！',\n",
       "    2075,\n",
       "    1475123543929,\n",
       "    98807092],\n",
       "   ['千万不要替换这份翻译！！我喜欢第一句「我比我要大」的翻译方式！！', 782, 1443505560917, 35672072],\n",
       "   ['这首歌我必须必须留名！！！1999年，那年我复读，闷热的夏日，陪伴我的只有这首歌，我不停不停不停的重复。终于在那年，我离开了家乡，然后就再也没有了那样的夏夜…',\n",
       "    426,\n",
       "    1434038191038,\n",
       "    16389103],\n",
       "   ['All my life try to make a better day.有段时间真的很痛苦，那种一闭上眼睛就流泪的痛苦。我发现苦痛悲伤来临时什么哲学什么书也没法拯救你，只有慢慢等一切都过去。还好过去了，人生嘛，不就起落落落落落嘛。=)',\n",
       "    343,\n",
       "    1454138921510,\n",
       "    84928166],\n",
       "   ['坐摇椅了也要摇滚', 315, 1427937779942, 59961391],\n",
       "   ['这是Liam嗓子的巅峰吧 可能太难唱 现场版很少看到 但真是很喜欢', 235, 1436502863691, 39788954],\n",
       "   ['我已经得病了 作为一名糊粉的资产阶级优越感已经不在了 我觉得粥团首首歌都好听[流感]',\n",
       "    220,\n",
       "    1497231768943,\n",
       "    61995954],\n",
       "   ['妹儿在现场唱了这首 然后伸出手指了指有缸原来站的地方………血虐啊 要我死吧？', 139, 1512357916957, 105462915]]])"
      ]
     },
     "execution_count": 105,
     "metadata": {},
     "output_type": "execute_result"
    }
   ],
   "source": [
    "list(song_dic.items())[9]"
   ]
  },
  {
   "cell_type": "code",
   "execution_count": 84,
   "metadata": {
    "ExecuteTime": {
     "end_time": "2018-05-30T07:26:15.467290Z",
     "start_time": "2018-05-30T07:26:15.463143Z"
    }
   },
   "outputs": [
    {
     "data": {
      "text/plain": [
       "100"
      ]
     },
     "execution_count": 84,
     "metadata": {},
     "output_type": "execute_result"
    }
   ],
   "source": [
    "len(song_dic)"
   ]
  },
  {
   "cell_type": "code",
   "execution_count": 91,
   "metadata": {
    "ExecuteTime": {
     "end_time": "2018-05-30T07:28:39.060223Z",
     "start_time": "2018-05-30T07:28:39.055684Z"
    }
   },
   "outputs": [
    {
     "data": {
      "text/plain": [
       "10"
      ]
     },
     "execution_count": 91,
     "metadata": {},
     "output_type": "execute_result"
    }
   ],
   "source": [
    "len(list(song_dic.items())[3][1][1])"
   ]
  },
  {
   "cell_type": "code",
   "execution_count": 160,
   "metadata": {
    "ExecuteTime": {
     "end_time": "2018-05-10T04:52:27.602284Z",
     "start_time": "2018-05-10T04:52:27.495409Z"
    }
   },
   "outputs": [
    {
     "data": {
      "text/plain": [
       "dict_keys(['total', 'topComments', 'more', 'userId', 'isMusician', 'code', 'comments'])"
      ]
     },
     "execution_count": 160,
     "metadata": {},
     "output_type": "execute_result"
    }
   ],
   "source": [
    "offset = 20\n",
    "music_id = '516997458'\n",
    "url = 'http://music.163.com/api/v1/resource/comments/R_SO_4_'+ music_id + '?limit=20&offset=' + str(offset)\n",
    "response = requests.post(url, headers=headers, data=data)\n",
    "cj = response.json()\n",
    "cj.keys()"
   ]
  },
  {
   "cell_type": "code",
   "execution_count": 161,
   "metadata": {
    "ExecuteTime": {
     "end_time": "2018-05-10T04:52:36.121937Z",
     "start_time": "2018-05-10T04:52:36.117906Z"
    }
   },
   "outputs": [
    {
     "data": {
      "text/plain": [
       "20"
      ]
     },
     "execution_count": 161,
     "metadata": {},
     "output_type": "execute_result"
    }
   ],
   "source": [
    "len(cj['comments'])"
   ]
  },
  {
   "cell_type": "code",
   "execution_count": 162,
   "metadata": {
    "ExecuteTime": {
     "end_time": "2018-05-10T04:52:51.454697Z",
     "start_time": "2018-05-10T04:52:51.448988Z"
    }
   },
   "outputs": [
    {
     "data": {
      "text/plain": [
       "{'beReplied': [],\n",
       " 'commentId': 1107837178,\n",
       " 'content': '冥月声音好听好温柔[爱心]表白',\n",
       " 'isRemoveHotComment': False,\n",
       " 'liked': False,\n",
       " 'likedCount': 3,\n",
       " 'pendantData': None,\n",
       " 'time': 1525515089450,\n",
       " 'user': {'authStatus': 0,\n",
       "  'avatarUrl': 'http://p1.music.126.net/suhvzXk2pEUOaeHUPU0aQQ==/109951163173870029.jpg',\n",
       "  'expertTags': None,\n",
       "  'experts': None,\n",
       "  'locationInfo': None,\n",
       "  'nickname': '黴祇',\n",
       "  'remarkName': None,\n",
       "  'userId': 619018018,\n",
       "  'userType': 0,\n",
       "  'vipType': 0}}"
      ]
     },
     "execution_count": 162,
     "metadata": {},
     "output_type": "execute_result"
    }
   ],
   "source": [
    "cj['comments'][0]"
   ]
  },
  {
   "cell_type": "markdown",
   "metadata": {},
   "source": [
    "## 另外一种方法"
   ]
  },
  {
   "cell_type": "code",
   "execution_count": 129,
   "metadata": {
    "ExecuteTime": {
     "end_time": "2018-05-10T04:38:38.262593Z",
     "start_time": "2018-05-10T04:38:38.133110Z"
    }
   },
   "outputs": [],
   "source": [
    "from Crypto.Cipher import AES\n",
    "import base64\n",
    "import requests\n",
    "import json\n",
    "import time\n",
    "\n",
    "# headers\n",
    "headers = {\n",
    "    'Host': 'music.163.com',\n",
    "    'Connection': 'keep-alive',\n",
    "    'Content-Length': '484',\n",
    "    'Cache-Control': 'max-age=0',\n",
    "    'Origin': 'http://music.163.com',\n",
    "    'User-Agent': 'Mozilla/5.0 (Windows NT 6.1; Win64; x64) AppleWebKit/537.36 (KHTML, like Gecko) Chrome/51.0.2704.84 Safari/537.36',\n",
    "    'Content-Type': 'application/x-www-form-urlencoded',\n",
    "    'Accept': '*/*',\n",
    "    'DNT': '1',\n",
    "    'Accept-Encoding': 'gzip, deflate',\n",
    "    'Accept-Language': 'zh-CN,zh;q=0.8,en;q=0.6,zh-TW;q=0.4',\n",
    "    'Cookie': 'JSESSIONID-WYYY=b66d89ed74ae9e94ead89b16e475556e763dd34f95e6ca357d06830a210abc7b685e82318b9d1d5b52ac4f4b9a55024c7a34024fddaee852404ed410933db994dcc0e398f61e670bfeea81105cbe098294e39ac566e1d5aa7232df741870ba1fe96e5cede8372ca587275d35c1a5d1b23a11e274a4c249afba03e20fa2dafb7a16eebdf6%3A1476373826753; _iuqxldmzr_=25; _ntes_nnid=7fa73e96706f26f3ada99abba6c4a6b2,1476372027128; _ntes_nuid=7fa73e96706f26f3ada99abba6c4a6b2; __utma=94650624.748605760.1476372027.1476372027.1476372027.1; __utmb=94650624.4.10.1476372027; __utmc=94650624; __utmz=94650624.1476372027.1.1.utmcsr=(direct)|utmccn=(direct)|utmcmd=(none)',\n",
    "}\n",
    "\n",
    "\n",
    "\n",
    "#获取params\n",
    "def get_params(first_param, forth_param):\n",
    "    iv = \"0102030405060708\"\n",
    "    first_key = forth_param\n",
    "    second_key = 16 * 'F'\n",
    "    h_encText = AES_encrypt(first_param, first_key.encode(), iv.encode())\n",
    "    h_encText = AES_encrypt(h_encText.decode(), second_key.encode(), iv.encode())\n",
    "    return h_encText.decode()\n",
    "\n",
    "\n",
    "# 获取encSecKey\n",
    "def get_encSecKey():\n",
    "    encSecKey = \"257348aecb5e556c066de214e531faadd1c55d814f9be95fd06d6bff9f4c7a41f831f6394d5a3fd2e3881736d94a02ca919d952872e7d0a50ebfa1769a7a62d512f5f1ca21aec60bc3819a9c3ffca5eca9a0dba6d6f7249b06f5965ecfff3695b54e1c28f3f624750ed39e7de08fc8493242e26dbc4484a01c76f739e135637c\"\n",
    "    return encSecKey\n",
    "\n",
    "\n",
    "# 解AES秘\n",
    "def AES_encrypt(text, key, iv):\n",
    "    pad = 16 - len(text) % 16\n",
    "    text = text + pad * chr(pad)\n",
    "    encryptor = AES.new(key, AES.MODE_CBC, iv)\n",
    "    encrypt_text = encryptor.encrypt(text.encode())\n",
    "    encrypt_text = base64.b64encode(encrypt_text)\n",
    "    return encrypt_text\n",
    "\n",
    "\n",
    "# 获取json数据\n",
    "def get_json(url, data):\n",
    "    response = requests.post(url, headers=headers, data=data)\n",
    "    return response.content\n",
    "\n",
    "\n",
    "# 传入post数据\n",
    "def crypt_api(id, offset):\n",
    "    url = \"http://music.163.com/weapi/v1/resource/comments/R_SO_4_%s/?csrf_token=\" % id\n",
    "    first_param = \"{rid:\\\"\\\", offset:\\\"%s\\\", total:\\\"true\\\", limit:\\\"20\\\", csrf_token:\\\"\\\"}\" % offset\n",
    "    forth_param = \"0CoJUm6Qyw8W8jud\"\n",
    "    params = get_params(first_param, forth_param)\n",
    "    encSecKey = get_encSecKey()\n",
    "    data = {\n",
    "        \"params\": params,\n",
    "        \"encSecKey\": encSecKey\n",
    "    }\n",
    "    return url, data\n",
    "\n"
   ]
  },
  {
   "cell_type": "code",
   "execution_count": 138,
   "metadata": {
    "ExecuteTime": {
     "end_time": "2018-05-10T04:41:55.356484Z",
     "start_time": "2018-05-10T04:41:55.251451Z"
    }
   },
   "outputs": [
    {
     "data": {
      "text/plain": [
       "8054"
      ]
     },
     "execution_count": 138,
     "metadata": {},
     "output_type": "execute_result"
    }
   ],
   "source": [
    "offset = 0\n",
    "id = '516997458'\n",
    "url, data = crypt_api(id, offset)\n",
    "json_text = get_json(url, data)\n",
    "json_dict = json.loads(json_text.decode(\"utf-8\"))\n",
    "comments_sum = json_dict['total']\n",
    "comments_sum"
   ]
  },
  {
   "cell_type": "code",
   "execution_count": 139,
   "metadata": {
    "ExecuteTime": {
     "end_time": "2018-05-10T04:41:56.302874Z",
     "start_time": "2018-05-10T04:41:56.298243Z"
    }
   },
   "outputs": [
    {
     "data": {
      "text/plain": [
       "20"
      ]
     },
     "execution_count": 139,
     "metadata": {},
     "output_type": "execute_result"
    }
   ],
   "source": [
    "len(json_dict['comments'])"
   ]
  },
  {
   "cell_type": "code",
   "execution_count": 140,
   "metadata": {
    "ExecuteTime": {
     "end_time": "2018-05-10T04:41:57.399920Z",
     "start_time": "2018-05-10T04:41:57.394647Z"
    }
   },
   "outputs": [
    {
     "data": {
      "text/plain": [
       "{'beReplied': [],\n",
       " 'commentId': 1112523641,\n",
       " 'content': '喜欢双笙，喜欢这首歌',\n",
       " 'isRemoveHotComment': False,\n",
       " 'liked': False,\n",
       " 'likedCount': 1,\n",
       " 'pendantData': None,\n",
       " 'time': 1525904882188,\n",
       " 'user': {'authStatus': 0,\n",
       "  'avatarUrl': 'http://p1.music.126.net/Eklu6D8QoR1Hb5UhLhCzPw==/109951163288324813.jpg',\n",
       "  'expertTags': None,\n",
       "  'experts': None,\n",
       "  'locationInfo': None,\n",
       "  'nickname': '狂妄嘻嘻',\n",
       "  'remarkName': None,\n",
       "  'userId': 1451756393,\n",
       "  'userType': 0,\n",
       "  'vipType': 0}}"
      ]
     },
     "execution_count": 140,
     "metadata": {},
     "output_type": "execute_result"
    }
   ],
   "source": [
    "json_dict['comments'][0]"
   ]
  },
  {
   "cell_type": "code",
   "execution_count": 141,
   "metadata": {
    "ExecuteTime": {
     "end_time": "2018-05-10T04:42:02.080722Z",
     "start_time": "2018-05-10T04:42:02.074947Z"
    }
   },
   "outputs": [
    {
     "data": {
      "text/plain": [
       "{'beReplied': [{'content': '我们历史老师是一个年轻的小伙子。那是个阳光明媚的中午，他拖堂拖了很久，喇叭里响起了学校广播“校园之声”的开场白，接着就是这首歌。老师听到这首歌前奏后，自以为是地说一定是播音员自己唱的。我们都在下面反驳他，说人家歌就是这样的。。\\n而现在，距中考只有58天了，毕业后，就回不去了。',\n",
       "   'status': 0,\n",
       "   'user': {'authStatus': 0,\n",
       "    'avatarUrl': 'http://p1.music.126.net/gm976KYbWTvYvExzjBNeaw==/109951163217371336.jpg',\n",
       "    'expertTags': None,\n",
       "    'experts': None,\n",
       "    'locationInfo': None,\n",
       "    'nickname': '惴洛',\n",
       "    'remarkName': None,\n",
       "    'userId': 1325932231,\n",
       "    'userType': 0,\n",
       "    'vipType': 0}}],\n",
       " 'commentId': 1112261542,\n",
       " 'content': '还有不到一个月了高一学姐祝你考试加油哦',\n",
       " 'isRemoveHotComment': False,\n",
       " 'liked': False,\n",
       " 'likedCount': 0,\n",
       " 'pendantData': None,\n",
       " 'time': 1525876023865,\n",
       " 'user': {'authStatus': 0,\n",
       "  'avatarUrl': 'http://p1.music.126.net/kAuCCkW-fcC7yu4wix9z5Q==/109951163144186242.jpg',\n",
       "  'expertTags': None,\n",
       "  'experts': None,\n",
       "  'locationInfo': None,\n",
       "  'nickname': '土园yy',\n",
       "  'remarkName': None,\n",
       "  'userId': 275653796,\n",
       "  'userType': 0,\n",
       "  'vipType': 0}}"
      ]
     },
     "execution_count": 141,
     "metadata": {},
     "output_type": "execute_result"
    }
   ],
   "source": [
    "json_dict['comments'][4]"
   ]
  },
  {
   "cell_type": "code",
   "execution_count": 135,
   "metadata": {
    "ExecuteTime": {
     "end_time": "2018-05-10T04:40:42.433766Z",
     "start_time": "2018-05-10T04:40:42.284057Z"
    }
   },
   "outputs": [
    {
     "data": {
      "text/plain": [
       "{'beReplied': [],\n",
       " 'commentId': 1107837178,\n",
       " 'content': '冥月声音好听好温柔[爱心]表白',\n",
       " 'isRemoveHotComment': False,\n",
       " 'liked': False,\n",
       " 'likedCount': 3,\n",
       " 'pendantData': None,\n",
       " 'time': 1525515089450,\n",
       " 'user': {'authStatus': 0,\n",
       "  'avatarUrl': 'http://p1.music.126.net/suhvzXk2pEUOaeHUPU0aQQ==/109951163173870029.jpg',\n",
       "  'expertTags': None,\n",
       "  'experts': None,\n",
       "  'locationInfo': None,\n",
       "  'nickname': '黴祇',\n",
       "  'remarkName': None,\n",
       "  'userId': 619018018,\n",
       "  'userType': 0,\n",
       "  'vipType': 0}}"
      ]
     },
     "execution_count": 135,
     "metadata": {},
     "output_type": "execute_result"
    }
   ],
   "source": [
    "offset = 20\n",
    "id = '516997458'\n",
    "url, data = crypt_api(id, offset)\n",
    "json_text = get_json(url, data)\n",
    "json_dict = json.loads(json_text.decode(\"utf-8\"))\n",
    "comments_sum = json_dict['total']\n",
    "json_dict['comments'][0]"
   ]
  },
  {
   "cell_type": "code",
   "execution_count": 136,
   "metadata": {
    "ExecuteTime": {
     "end_time": "2018-05-10T04:41:02.854104Z",
     "start_time": "2018-05-10T04:41:02.771941Z"
    }
   },
   "outputs": [
    {
     "data": {
      "text/plain": [
       "{'beReplied': [],\n",
       " 'commentId': 1102303635,\n",
       " 'content': '找这首歌找了好久了！！无厘头的找，今天无意居然听到了(*^▽^)/★*☆',\n",
       " 'isRemoveHotComment': False,\n",
       " 'liked': False,\n",
       " 'likedCount': 1,\n",
       " 'pendantData': None,\n",
       " 'time': 1525072647936,\n",
       " 'user': {'authStatus': 0,\n",
       "  'avatarUrl': 'http://p1.music.126.net/fU8tvMVN2f5WkSUZehQ21Q==/3274345636764863.jpg',\n",
       "  'expertTags': None,\n",
       "  'experts': None,\n",
       "  'locationInfo': None,\n",
       "  'nickname': '黎诺0',\n",
       "  'remarkName': None,\n",
       "  'userId': 129375977,\n",
       "  'userType': 0,\n",
       "  'vipType': 0}}"
      ]
     },
     "execution_count": 136,
     "metadata": {},
     "output_type": "execute_result"
    }
   ],
   "source": [
    "offset = 40\n",
    "id = '516997458'\n",
    "url, data = crypt_api(id, offset)\n",
    "json_text = get_json(url, data)\n",
    "json_dict = json.loads(json_text.decode(\"utf-8\"))\n",
    "comments_sum = json_dict['total']\n",
    "json_dict['comments'][0]"
   ]
  },
  {
   "cell_type": "code",
   "execution_count": null,
   "metadata": {},
   "outputs": [],
   "source": []
  }
 ],
 "metadata": {
  "kernelspec": {
   "display_name": "Python [conda env:anaconda]",
   "language": "python",
   "name": "conda-env-anaconda-py"
  },
  "language_info": {
   "codemirror_mode": {
    "name": "ipython",
    "version": 3
   },
   "file_extension": ".py",
   "mimetype": "text/x-python",
   "name": "python",
   "nbconvert_exporter": "python",
   "pygments_lexer": "ipython3",
   "version": "3.5.4"
  },
  "toc": {
   "base_numbering": 1,
   "nav_menu": {},
   "number_sections": false,
   "sideBar": true,
   "skip_h1_title": false,
   "title_cell": "Table of Contents",
   "title_sidebar": "Contents",
   "toc_cell": false,
   "toc_position": {},
   "toc_section_display": true,
   "toc_window_display": false
  }
 },
 "nbformat": 4,
 "nbformat_minor": 2
}
