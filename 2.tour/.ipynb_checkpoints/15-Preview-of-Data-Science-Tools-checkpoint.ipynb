{
 "cells": [
  {
   "cell_type": "markdown",
   "metadata": {
    "slideshow": {
     "slide_type": "slide"
    }
   },
   "source": [
    "<!--BOOK_INFORMATION-->\n",
    "<img align=\"left\" style=\"padding-right:10px;\" src=\"fig/cover-small.jpg\">\n",
    "*This notebook contains an excerpt from the [Whirlwind Tour of Python](http://www.oreilly.com/programming/free/a-whirlwind-tour-of-python.csp) by Jake VanderPlas; the content is available [on GitHub](https://github.com/jakevdp/WhirlwindTourOfPython).*\n",
    "\n",
    "*The text and code are released under the [CC0](https://github.com/jakevdp/WhirlwindTourOfPython/blob/master/LICENSE) license; see also the companion project, the [Python Data Science Handbook](https://github.com/jakevdp/PythonDataScienceHandbook).*\n"
   ]
  },
  {
   "cell_type": "markdown",
   "metadata": {
    "slideshow": {
     "slide_type": "fragment"
    }
   },
   "source": [
    "<!--NAVIGATION-->\n",
    "< [String Manipulation and Regular Expressions](14-Strings-and-Regular-Expressions.ipynb) | [Contents](Index.ipynb) | [Resources for Further Learning](16-Further-Resources.ipynb) >"
   ]
  },
  {
   "cell_type": "markdown",
   "metadata": {
    "slideshow": {
     "slide_type": "slide"
    }
   },
   "source": [
    "# A Preview of Data Science Tools"
   ]
  },
  {
   "cell_type": "markdown",
   "metadata": {
    "slideshow": {
     "slide_type": "fragment"
    }
   },
   "source": [
    "If you would like to spring from here and go farther in using Python for scientific computing or data science, there are a few packages that will make your life much easier.\n",
    "\n",
    "If you're using the *Miniconda* environment suggested at the beginning of this report, you can install the relevant packages with the following command:\n",
    "\n",
    "```\n",
    "$ conda install numpy scipy pandas matplotlib scikit-learn\n",
    "```\n",
    "\n",
    "Let's take a brief look at each of these in turn."
   ]
  },
  {
   "cell_type": "markdown",
   "metadata": {
    "slideshow": {
     "slide_type": "slide"
    }
   },
   "source": [
    "## NumPy: Numerical Python\n",
    "\n",
    "NumPy provides an efficient way to store and manipulate `multi-dimensional dense arrays` in Python.\n",
    "\n",
    "The important features of NumPy are:\n",
    "\n",
    "- It provides an ``ndarray`` structure, which allows efficient storage and manipulation of vectors, matrices, and higher-dimensional datasets.\n",
    "- It provides a readable and efficient syntax for operating on this data, from simple element-wise arithmetic to more complicated linear algebraic operations.\n",
    "\n",
    "In the simplest case, NumPy arrays look a lot like Python lists.\n",
    "\n",
    "For example, here is an array containing the range of numbers 1 to 9 (compare this with Python's built-in ``range()``):"
   ]
  },
  {
   "cell_type": "code",
   "execution_count": 5,
   "metadata": {
    "slideshow": {
     "slide_type": "subslide"
    }
   },
   "outputs": [
    {
     "data": {
      "text/plain": [
       "array([1, 2, 3, 4, 5, 6, 7, 8, 9])"
      ]
     },
     "execution_count": 5,
     "metadata": {},
     "output_type": "execute_result"
    }
   ],
   "source": [
    "import numpy as np\n",
    "x = np.arange(1, 10)\n",
    "x"
   ]
  },
  {
   "cell_type": "code",
   "execution_count": 3,
   "metadata": {
    "slideshow": {
     "slide_type": "fragment"
    }
   },
   "outputs": [
    {
     "name": "stdout",
     "output_type": "stream",
     "text": [
      "1 2 3 4 5 6 7 8 9\n"
     ]
    }
   ],
   "source": [
    "print(*range(1, 10))"
   ]
  },
  {
   "cell_type": "markdown",
   "metadata": {
    "slideshow": {
     "slide_type": "subslide"
    }
   },
   "source": [
    "NumPy's arrays offer both \n",
    "- efficient storage of data, as well as \n",
    "- efficient element-wise operations on the data.\n",
    "\n",
    "For example, to square each element of the array, we can apply the \"``**``\" operator to the array directly:"
   ]
  },
  {
   "cell_type": "code",
   "execution_count": 2,
   "metadata": {
    "slideshow": {
     "slide_type": "fragment"
    }
   },
   "outputs": [
    {
     "data": {
      "text/plain": [
       "array([ 1,  4,  9, 16, 25, 36, 49, 64, 81])"
      ]
     },
     "execution_count": 2,
     "metadata": {},
     "output_type": "execute_result"
    }
   ],
   "source": [
    "x ** 2"
   ]
  },
  {
   "cell_type": "markdown",
   "metadata": {
    "slideshow": {
     "slide_type": "subslide"
    }
   },
   "source": [
    "Compare this with the much more verbose Python-style list comprehension for the same result:"
   ]
  },
  {
   "cell_type": "code",
   "execution_count": 3,
   "metadata": {
    "slideshow": {
     "slide_type": "fragment"
    }
   },
   "outputs": [
    {
     "data": {
      "text/plain": [
       "[1, 4, 9, 16, 25, 36, 49, 64, 81]"
      ]
     },
     "execution_count": 3,
     "metadata": {},
     "output_type": "execute_result"
    }
   ],
   "source": [
    "[val ** 2 for val in range(1, 10)]"
   ]
  },
  {
   "cell_type": "markdown",
   "metadata": {
    "slideshow": {
     "slide_type": "subslide"
    }
   },
   "source": [
    "Unlike Python lists (which are limited to one dimension), NumPy arrays can be `multi-dimensional`.\n",
    "\n",
    "For example, here we will reshape our ``x`` array into a 3x3 array:"
   ]
  },
  {
   "cell_type": "code",
   "execution_count": 6,
   "metadata": {
    "slideshow": {
     "slide_type": "fragment"
    }
   },
   "outputs": [
    {
     "data": {
      "text/plain": [
       "array([[1, 2, 3],\n",
       "       [4, 5, 6],\n",
       "       [7, 8, 9]])"
      ]
     },
     "execution_count": 6,
     "metadata": {},
     "output_type": "execute_result"
    }
   ],
   "source": [
    "M = x.reshape((3, 3))\n",
    "M"
   ]
  },
  {
   "cell_type": "markdown",
   "metadata": {
    "slideshow": {
     "slide_type": "subslide"
    }
   },
   "source": [
    "- A two-dimensional array is one representation of a matrix, and \n",
    "- NumPy knows how to efficiently do typical matrix operations. \n",
    "\n",
    "For example, you can compute the transpose using ``.T``:"
   ]
  },
  {
   "cell_type": "code",
   "execution_count": 7,
   "metadata": {
    "slideshow": {
     "slide_type": "fragment"
    }
   },
   "outputs": [
    {
     "data": {
      "text/plain": [
       "array([[1, 4, 7],\n",
       "       [2, 5, 8],\n",
       "       [3, 6, 9]])"
      ]
     },
     "execution_count": 7,
     "metadata": {},
     "output_type": "execute_result"
    }
   ],
   "source": [
    "M.T"
   ]
  },
  {
   "cell_type": "markdown",
   "metadata": {
    "slideshow": {
     "slide_type": "subslide"
    }
   },
   "source": [
    "or a matrix-vector product using ``np.dot``:"
   ]
  },
  {
   "cell_type": "code",
   "execution_count": 6,
   "metadata": {
    "slideshow": {
     "slide_type": "fragment"
    }
   },
   "outputs": [
    {
     "data": {
      "text/plain": [
       "array([ 38,  92, 146])"
      ]
     },
     "execution_count": 6,
     "metadata": {},
     "output_type": "execute_result"
    }
   ],
   "source": [
    "np.dot(M, [5, 6, 7])"
   ]
  },
  {
   "cell_type": "markdown",
   "metadata": {
    "slideshow": {
     "slide_type": "subslide"
    }
   },
   "source": [
    "and even more sophisticated operations like eigenvalue decomposition:"
   ]
  },
  {
   "cell_type": "code",
   "execution_count": 7,
   "metadata": {
    "slideshow": {
     "slide_type": "fragment"
    }
   },
   "outputs": [
    {
     "data": {
      "text/plain": [
       "array([  1.61168440e+01,  -1.11684397e+00,  -1.30367773e-15])"
      ]
     },
     "execution_count": 7,
     "metadata": {},
     "output_type": "execute_result"
    }
   ],
   "source": [
    "np.linalg.eigvals(M)"
   ]
  },
  {
   "cell_type": "markdown",
   "metadata": {
    "slideshow": {
     "slide_type": "fragment"
    }
   },
   "source": [
    "Such linear algebraic manipulation underpins much of modern data analysis, particularly when it comes to the fields of machine learning and data mining.\n",
    "\n",
    "For more information on NumPy, see [Resources for Further Learning](16-Further-Resources.ipynb)."
   ]
  },
  {
   "cell_type": "markdown",
   "metadata": {
    "slideshow": {
     "slide_type": "slide"
    }
   },
   "source": [
    "## Pandas: Labeled Column-oriented Data\n",
    "\n",
    "Pandas is a much newer package than NumPy, and is in fact built on top of it.\n",
    "- What Pandas provides is a labeled interface to multi-dimensional data, \n",
    "- in the form of a DataFrame object that will feel very familiar to users of R and related languages.\n",
    "\n",
    "DataFrames in Pandas look something like this:"
   ]
  },
  {
   "cell_type": "code",
   "execution_count": 8,
   "metadata": {
    "slideshow": {
     "slide_type": "subslide"
    }
   },
   "outputs": [
    {
     "data": {
      "text/html": [
       "<div>\n",
       "<table border=\"1\" class=\"dataframe\">\n",
       "  <thead>\n",
       "    <tr style=\"text-align: right;\">\n",
       "      <th></th>\n",
       "      <th>label</th>\n",
       "      <th>value</th>\n",
       "    </tr>\n",
       "  </thead>\n",
       "  <tbody>\n",
       "    <tr>\n",
       "      <th>0</th>\n",
       "      <td>A</td>\n",
       "      <td>1</td>\n",
       "    </tr>\n",
       "    <tr>\n",
       "      <th>1</th>\n",
       "      <td>B</td>\n",
       "      <td>2</td>\n",
       "    </tr>\n",
       "    <tr>\n",
       "      <th>2</th>\n",
       "      <td>C</td>\n",
       "      <td>3</td>\n",
       "    </tr>\n",
       "    <tr>\n",
       "      <th>3</th>\n",
       "      <td>A</td>\n",
       "      <td>4</td>\n",
       "    </tr>\n",
       "    <tr>\n",
       "      <th>4</th>\n",
       "      <td>B</td>\n",
       "      <td>5</td>\n",
       "    </tr>\n",
       "    <tr>\n",
       "      <th>5</th>\n",
       "      <td>C</td>\n",
       "      <td>6</td>\n",
       "    </tr>\n",
       "  </tbody>\n",
       "</table>\n",
       "</div>"
      ],
      "text/plain": [
       "  label  value\n",
       "0     A      1\n",
       "1     B      2\n",
       "2     C      3\n",
       "3     A      4\n",
       "4     B      5\n",
       "5     C      6"
      ]
     },
     "execution_count": 8,
     "metadata": {},
     "output_type": "execute_result"
    }
   ],
   "source": [
    "import pandas as pd\n",
    "df = pd.DataFrame({'label': ['A', 'B', 'C', 'A', 'B', 'C'],\n",
    "                   'value': [1, 2, 3, 4, 5, 6]})\n",
    "df"
   ]
  },
  {
   "cell_type": "markdown",
   "metadata": {
    "slideshow": {
     "slide_type": "subslide"
    }
   },
   "source": [
    "The Pandas interface allows you to do things like select columns by name:"
   ]
  },
  {
   "cell_type": "code",
   "execution_count": 9,
   "metadata": {
    "slideshow": {
     "slide_type": "fragment"
    }
   },
   "outputs": [
    {
     "data": {
      "text/plain": [
       "0    A\n",
       "1    B\n",
       "2    C\n",
       "3    A\n",
       "4    B\n",
       "5    C\n",
       "Name: label, dtype: object"
      ]
     },
     "execution_count": 9,
     "metadata": {},
     "output_type": "execute_result"
    }
   ],
   "source": [
    "df['label']"
   ]
  },
  {
   "cell_type": "markdown",
   "metadata": {
    "slideshow": {
     "slide_type": "subslide"
    }
   },
   "source": [
    "Apply string operations across string entries:"
   ]
  },
  {
   "cell_type": "code",
   "execution_count": 10,
   "metadata": {
    "slideshow": {
     "slide_type": "fragment"
    }
   },
   "outputs": [
    {
     "data": {
      "text/plain": [
       "0    a\n",
       "1    b\n",
       "2    c\n",
       "3    a\n",
       "4    b\n",
       "5    c\n",
       "Name: label, dtype: object"
      ]
     },
     "execution_count": 10,
     "metadata": {},
     "output_type": "execute_result"
    }
   ],
   "source": [
    "df['label'].str.lower()"
   ]
  },
  {
   "cell_type": "markdown",
   "metadata": {
    "slideshow": {
     "slide_type": "subslide"
    }
   },
   "source": [
    "Apply aggregates across numerical entries:"
   ]
  },
  {
   "cell_type": "code",
   "execution_count": 11,
   "metadata": {
    "slideshow": {
     "slide_type": "fragment"
    }
   },
   "outputs": [
    {
     "data": {
      "text/plain": [
       "21"
      ]
     },
     "execution_count": 11,
     "metadata": {},
     "output_type": "execute_result"
    }
   ],
   "source": [
    "df['value'].sum()"
   ]
  },
  {
   "cell_type": "markdown",
   "metadata": {
    "slideshow": {
     "slide_type": "subslide"
    }
   },
   "source": [
    "And, perhaps most importantly, do efficient database-style joins and groupings:"
   ]
  },
  {
   "cell_type": "code",
   "execution_count": 12,
   "metadata": {
    "slideshow": {
     "slide_type": "fragment"
    }
   },
   "outputs": [
    {
     "data": {
      "text/html": [
       "<div>\n",
       "<table border=\"1\" class=\"dataframe\">\n",
       "  <thead>\n",
       "    <tr style=\"text-align: right;\">\n",
       "      <th></th>\n",
       "      <th>value</th>\n",
       "    </tr>\n",
       "    <tr>\n",
       "      <th>label</th>\n",
       "      <th></th>\n",
       "    </tr>\n",
       "  </thead>\n",
       "  <tbody>\n",
       "    <tr>\n",
       "      <th>A</th>\n",
       "      <td>5</td>\n",
       "    </tr>\n",
       "    <tr>\n",
       "      <th>B</th>\n",
       "      <td>7</td>\n",
       "    </tr>\n",
       "    <tr>\n",
       "      <th>C</th>\n",
       "      <td>9</td>\n",
       "    </tr>\n",
       "  </tbody>\n",
       "</table>\n",
       "</div>"
      ],
      "text/plain": [
       "       value\n",
       "label       \n",
       "A          5\n",
       "B          7\n",
       "C          9"
      ]
     },
     "execution_count": 12,
     "metadata": {},
     "output_type": "execute_result"
    }
   ],
   "source": [
    "df.groupby('label').sum()"
   ]
  },
  {
   "cell_type": "markdown",
   "metadata": {
    "slideshow": {
     "slide_type": "subslide"
    }
   },
   "source": [
    "Here in one line we have computed the sum of all objects sharing the same label, something that is much more verbose (and much less efficient) using tools provided in Numpy and core Python.\n",
    "\n",
    "For more information on using Pandas, see [Resources for Further Learning](16-Further-Resources.ipynb)."
   ]
  },
  {
   "cell_type": "markdown",
   "metadata": {
    "slideshow": {
     "slide_type": "slide"
    }
   },
   "source": [
    "## Matplotlib MatLab-style scientific visualization\n",
    "\n",
    "Matplotlib is currently the most popular scientific visualization packages in Python.\n",
    "\n",
    "To use Matplotlib, we can start by enabling the notebook mode (for use in the Jupyter notebook) and then importing the package as ``plt``\""
   ]
  },
  {
   "cell_type": "code",
   "execution_count": 9,
   "metadata": {
    "slideshow": {
     "slide_type": "subslide"
    }
   },
   "outputs": [],
   "source": [
    "# run this if using Jupyter notebook\n",
    "%matplotlib notebook"
   ]
  },
  {
   "cell_type": "code",
   "execution_count": 10,
   "metadata": {
    "slideshow": {
     "slide_type": "fragment"
    }
   },
   "outputs": [],
   "source": [
    "import matplotlib.pyplot as plt\n",
    "plt.style.use('ggplot')  # make graphs in the style of R's ggplot"
   ]
  },
  {
   "cell_type": "markdown",
   "metadata": {
    "slideshow": {
     "slide_type": "fragment"
    }
   },
   "source": [
    "Now let's create some data (as NumPy arrays, of course) and plot the results:"
   ]
  },
  {
   "cell_type": "code",
   "execution_count": 13,
   "metadata": {
    "slideshow": {
     "slide_type": "subslide"
    }
   },
   "outputs": [
    {
     "data": {
      "application/javascript": [
       "/* Put everything inside the global mpl namespace */\n",
       "window.mpl = {};\n",
       "\n",
       "\n",
       "mpl.get_websocket_type = function() {\n",
       "    if (typeof(WebSocket) !== 'undefined') {\n",
       "        return WebSocket;\n",
       "    } else if (typeof(MozWebSocket) !== 'undefined') {\n",
       "        return MozWebSocket;\n",
       "    } else {\n",
       "        alert('Your browser does not have WebSocket support.' +\n",
       "              'Please try Chrome, Safari or Firefox ≥ 6. ' +\n",
       "              'Firefox 4 and 5 are also supported but you ' +\n",
       "              'have to enable WebSockets in about:config.');\n",
       "    };\n",
       "}\n",
       "\n",
       "mpl.figure = function(figure_id, websocket, ondownload, parent_element) {\n",
       "    this.id = figure_id;\n",
       "\n",
       "    this.ws = websocket;\n",
       "\n",
       "    this.supports_binary = (this.ws.binaryType != undefined);\n",
       "\n",
       "    if (!this.supports_binary) {\n",
       "        var warnings = document.getElementById(\"mpl-warnings\");\n",
       "        if (warnings) {\n",
       "            warnings.style.display = 'block';\n",
       "            warnings.textContent = (\n",
       "                \"This browser does not support binary websocket messages. \" +\n",
       "                    \"Performance may be slow.\");\n",
       "        }\n",
       "    }\n",
       "\n",
       "    this.imageObj = new Image();\n",
       "\n",
       "    this.context = undefined;\n",
       "    this.message = undefined;\n",
       "    this.canvas = undefined;\n",
       "    this.rubberband_canvas = undefined;\n",
       "    this.rubberband_context = undefined;\n",
       "    this.format_dropdown = undefined;\n",
       "\n",
       "    this.image_mode = 'full';\n",
       "\n",
       "    this.root = $('<div/>');\n",
       "    this._root_extra_style(this.root)\n",
       "    this.root.attr('style', 'display: inline-block');\n",
       "\n",
       "    $(parent_element).append(this.root);\n",
       "\n",
       "    this._init_header(this);\n",
       "    this._init_canvas(this);\n",
       "    this._init_toolbar(this);\n",
       "\n",
       "    var fig = this;\n",
       "\n",
       "    this.waiting = false;\n",
       "\n",
       "    this.ws.onopen =  function () {\n",
       "            fig.send_message(\"supports_binary\", {value: fig.supports_binary});\n",
       "            fig.send_message(\"send_image_mode\", {});\n",
       "            if (mpl.ratio != 1) {\n",
       "                fig.send_message(\"set_dpi_ratio\", {'dpi_ratio': mpl.ratio});\n",
       "            }\n",
       "            fig.send_message(\"refresh\", {});\n",
       "        }\n",
       "\n",
       "    this.imageObj.onload = function() {\n",
       "            if (fig.image_mode == 'full') {\n",
       "                // Full images could contain transparency (where diff images\n",
       "                // almost always do), so we need to clear the canvas so that\n",
       "                // there is no ghosting.\n",
       "                fig.context.clearRect(0, 0, fig.canvas.width, fig.canvas.height);\n",
       "            }\n",
       "            fig.context.drawImage(fig.imageObj, 0, 0);\n",
       "        };\n",
       "\n",
       "    this.imageObj.onunload = function() {\n",
       "        fig.ws.close();\n",
       "    }\n",
       "\n",
       "    this.ws.onmessage = this._make_on_message_function(this);\n",
       "\n",
       "    this.ondownload = ondownload;\n",
       "}\n",
       "\n",
       "mpl.figure.prototype._init_header = function() {\n",
       "    var titlebar = $(\n",
       "        '<div class=\"ui-dialog-titlebar ui-widget-header ui-corner-all ' +\n",
       "        'ui-helper-clearfix\"/>');\n",
       "    var titletext = $(\n",
       "        '<div class=\"ui-dialog-title\" style=\"width: 100%; ' +\n",
       "        'text-align: center; padding: 3px;\"/>');\n",
       "    titlebar.append(titletext)\n",
       "    this.root.append(titlebar);\n",
       "    this.header = titletext[0];\n",
       "}\n",
       "\n",
       "\n",
       "\n",
       "mpl.figure.prototype._canvas_extra_style = function(canvas_div) {\n",
       "\n",
       "}\n",
       "\n",
       "\n",
       "mpl.figure.prototype._root_extra_style = function(canvas_div) {\n",
       "\n",
       "}\n",
       "\n",
       "mpl.figure.prototype._init_canvas = function() {\n",
       "    var fig = this;\n",
       "\n",
       "    var canvas_div = $('<div/>');\n",
       "\n",
       "    canvas_div.attr('style', 'position: relative; clear: both; outline: 0');\n",
       "\n",
       "    function canvas_keyboard_event(event) {\n",
       "        return fig.key_event(event, event['data']);\n",
       "    }\n",
       "\n",
       "    canvas_div.keydown('key_press', canvas_keyboard_event);\n",
       "    canvas_div.keyup('key_release', canvas_keyboard_event);\n",
       "    this.canvas_div = canvas_div\n",
       "    this._canvas_extra_style(canvas_div)\n",
       "    this.root.append(canvas_div);\n",
       "\n",
       "    var canvas = $('<canvas/>');\n",
       "    canvas.addClass('mpl-canvas');\n",
       "    canvas.attr('style', \"left: 0; top: 0; z-index: 0; outline: 0\")\n",
       "\n",
       "    this.canvas = canvas[0];\n",
       "    this.context = canvas[0].getContext(\"2d\");\n",
       "\n",
       "    var backingStore = this.context.backingStorePixelRatio ||\n",
       "\tthis.context.webkitBackingStorePixelRatio ||\n",
       "\tthis.context.mozBackingStorePixelRatio ||\n",
       "\tthis.context.msBackingStorePixelRatio ||\n",
       "\tthis.context.oBackingStorePixelRatio ||\n",
       "\tthis.context.backingStorePixelRatio || 1;\n",
       "\n",
       "    mpl.ratio = (window.devicePixelRatio || 1) / backingStore;\n",
       "\n",
       "    var rubberband = $('<canvas/>');\n",
       "    rubberband.attr('style', \"position: absolute; left: 0; top: 0; z-index: 1;\")\n",
       "\n",
       "    var pass_mouse_events = true;\n",
       "\n",
       "    canvas_div.resizable({\n",
       "        start: function(event, ui) {\n",
       "            pass_mouse_events = false;\n",
       "        },\n",
       "        resize: function(event, ui) {\n",
       "            fig.request_resize(ui.size.width, ui.size.height);\n",
       "        },\n",
       "        stop: function(event, ui) {\n",
       "            pass_mouse_events = true;\n",
       "            fig.request_resize(ui.size.width, ui.size.height);\n",
       "        },\n",
       "    });\n",
       "\n",
       "    function mouse_event_fn(event) {\n",
       "        if (pass_mouse_events)\n",
       "            return fig.mouse_event(event, event['data']);\n",
       "    }\n",
       "\n",
       "    rubberband.mousedown('button_press', mouse_event_fn);\n",
       "    rubberband.mouseup('button_release', mouse_event_fn);\n",
       "    // Throttle sequential mouse events to 1 every 20ms.\n",
       "    rubberband.mousemove('motion_notify', mouse_event_fn);\n",
       "\n",
       "    rubberband.mouseenter('figure_enter', mouse_event_fn);\n",
       "    rubberband.mouseleave('figure_leave', mouse_event_fn);\n",
       "\n",
       "    canvas_div.on(\"wheel\", function (event) {\n",
       "        event = event.originalEvent;\n",
       "        event['data'] = 'scroll'\n",
       "        if (event.deltaY < 0) {\n",
       "            event.step = 1;\n",
       "        } else {\n",
       "            event.step = -1;\n",
       "        }\n",
       "        mouse_event_fn(event);\n",
       "    });\n",
       "\n",
       "    canvas_div.append(canvas);\n",
       "    canvas_div.append(rubberband);\n",
       "\n",
       "    this.rubberband = rubberband;\n",
       "    this.rubberband_canvas = rubberband[0];\n",
       "    this.rubberband_context = rubberband[0].getContext(\"2d\");\n",
       "    this.rubberband_context.strokeStyle = \"#000000\";\n",
       "\n",
       "    this._resize_canvas = function(width, height) {\n",
       "        // Keep the size of the canvas, canvas container, and rubber band\n",
       "        // canvas in synch.\n",
       "        canvas_div.css('width', width)\n",
       "        canvas_div.css('height', height)\n",
       "\n",
       "        canvas.attr('width', width * mpl.ratio);\n",
       "        canvas.attr('height', height * mpl.ratio);\n",
       "        canvas.attr('style', 'width: ' + width + 'px; height: ' + height + 'px;');\n",
       "\n",
       "        rubberband.attr('width', width);\n",
       "        rubberband.attr('height', height);\n",
       "    }\n",
       "\n",
       "    // Set the figure to an initial 600x600px, this will subsequently be updated\n",
       "    // upon first draw.\n",
       "    this._resize_canvas(600, 600);\n",
       "\n",
       "    // Disable right mouse context menu.\n",
       "    $(this.rubberband_canvas).bind(\"contextmenu\",function(e){\n",
       "        return false;\n",
       "    });\n",
       "\n",
       "    function set_focus () {\n",
       "        canvas.focus();\n",
       "        canvas_div.focus();\n",
       "    }\n",
       "\n",
       "    window.setTimeout(set_focus, 100);\n",
       "}\n",
       "\n",
       "mpl.figure.prototype._init_toolbar = function() {\n",
       "    var fig = this;\n",
       "\n",
       "    var nav_element = $('<div/>')\n",
       "    nav_element.attr('style', 'width: 100%');\n",
       "    this.root.append(nav_element);\n",
       "\n",
       "    // Define a callback function for later on.\n",
       "    function toolbar_event(event) {\n",
       "        return fig.toolbar_button_onclick(event['data']);\n",
       "    }\n",
       "    function toolbar_mouse_event(event) {\n",
       "        return fig.toolbar_button_onmouseover(event['data']);\n",
       "    }\n",
       "\n",
       "    for(var toolbar_ind in mpl.toolbar_items) {\n",
       "        var name = mpl.toolbar_items[toolbar_ind][0];\n",
       "        var tooltip = mpl.toolbar_items[toolbar_ind][1];\n",
       "        var image = mpl.toolbar_items[toolbar_ind][2];\n",
       "        var method_name = mpl.toolbar_items[toolbar_ind][3];\n",
       "\n",
       "        if (!name) {\n",
       "            // put a spacer in here.\n",
       "            continue;\n",
       "        }\n",
       "        var button = $('<button/>');\n",
       "        button.addClass('ui-button ui-widget ui-state-default ui-corner-all ' +\n",
       "                        'ui-button-icon-only');\n",
       "        button.attr('role', 'button');\n",
       "        button.attr('aria-disabled', 'false');\n",
       "        button.click(method_name, toolbar_event);\n",
       "        button.mouseover(tooltip, toolbar_mouse_event);\n",
       "\n",
       "        var icon_img = $('<span/>');\n",
       "        icon_img.addClass('ui-button-icon-primary ui-icon');\n",
       "        icon_img.addClass(image);\n",
       "        icon_img.addClass('ui-corner-all');\n",
       "\n",
       "        var tooltip_span = $('<span/>');\n",
       "        tooltip_span.addClass('ui-button-text');\n",
       "        tooltip_span.html(tooltip);\n",
       "\n",
       "        button.append(icon_img);\n",
       "        button.append(tooltip_span);\n",
       "\n",
       "        nav_element.append(button);\n",
       "    }\n",
       "\n",
       "    var fmt_picker_span = $('<span/>');\n",
       "\n",
       "    var fmt_picker = $('<select/>');\n",
       "    fmt_picker.addClass('mpl-toolbar-option ui-widget ui-widget-content');\n",
       "    fmt_picker_span.append(fmt_picker);\n",
       "    nav_element.append(fmt_picker_span);\n",
       "    this.format_dropdown = fmt_picker[0];\n",
       "\n",
       "    for (var ind in mpl.extensions) {\n",
       "        var fmt = mpl.extensions[ind];\n",
       "        var option = $(\n",
       "            '<option/>', {selected: fmt === mpl.default_extension}).html(fmt);\n",
       "        fmt_picker.append(option)\n",
       "    }\n",
       "\n",
       "    // Add hover states to the ui-buttons\n",
       "    $( \".ui-button\" ).hover(\n",
       "        function() { $(this).addClass(\"ui-state-hover\");},\n",
       "        function() { $(this).removeClass(\"ui-state-hover\");}\n",
       "    );\n",
       "\n",
       "    var status_bar = $('<span class=\"mpl-message\"/>');\n",
       "    nav_element.append(status_bar);\n",
       "    this.message = status_bar[0];\n",
       "}\n",
       "\n",
       "mpl.figure.prototype.request_resize = function(x_pixels, y_pixels) {\n",
       "    // Request matplotlib to resize the figure. Matplotlib will then trigger a resize in the client,\n",
       "    // which will in turn request a refresh of the image.\n",
       "    this.send_message('resize', {'width': x_pixels, 'height': y_pixels});\n",
       "}\n",
       "\n",
       "mpl.figure.prototype.send_message = function(type, properties) {\n",
       "    properties['type'] = type;\n",
       "    properties['figure_id'] = this.id;\n",
       "    this.ws.send(JSON.stringify(properties));\n",
       "}\n",
       "\n",
       "mpl.figure.prototype.send_draw_message = function() {\n",
       "    if (!this.waiting) {\n",
       "        this.waiting = true;\n",
       "        this.ws.send(JSON.stringify({type: \"draw\", figure_id: this.id}));\n",
       "    }\n",
       "}\n",
       "\n",
       "\n",
       "mpl.figure.prototype.handle_save = function(fig, msg) {\n",
       "    var format_dropdown = fig.format_dropdown;\n",
       "    var format = format_dropdown.options[format_dropdown.selectedIndex].value;\n",
       "    fig.ondownload(fig, format);\n",
       "}\n",
       "\n",
       "\n",
       "mpl.figure.prototype.handle_resize = function(fig, msg) {\n",
       "    var size = msg['size'];\n",
       "    if (size[0] != fig.canvas.width || size[1] != fig.canvas.height) {\n",
       "        fig._resize_canvas(size[0], size[1]);\n",
       "        fig.send_message(\"refresh\", {});\n",
       "    };\n",
       "}\n",
       "\n",
       "mpl.figure.prototype.handle_rubberband = function(fig, msg) {\n",
       "    var x0 = msg['x0'] / mpl.ratio;\n",
       "    var y0 = (fig.canvas.height - msg['y0']) / mpl.ratio;\n",
       "    var x1 = msg['x1'] / mpl.ratio;\n",
       "    var y1 = (fig.canvas.height - msg['y1']) / mpl.ratio;\n",
       "    x0 = Math.floor(x0) + 0.5;\n",
       "    y0 = Math.floor(y0) + 0.5;\n",
       "    x1 = Math.floor(x1) + 0.5;\n",
       "    y1 = Math.floor(y1) + 0.5;\n",
       "    var min_x = Math.min(x0, x1);\n",
       "    var min_y = Math.min(y0, y1);\n",
       "    var width = Math.abs(x1 - x0);\n",
       "    var height = Math.abs(y1 - y0);\n",
       "\n",
       "    fig.rubberband_context.clearRect(\n",
       "        0, 0, fig.canvas.width, fig.canvas.height);\n",
       "\n",
       "    fig.rubberband_context.strokeRect(min_x, min_y, width, height);\n",
       "}\n",
       "\n",
       "mpl.figure.prototype.handle_figure_label = function(fig, msg) {\n",
       "    // Updates the figure title.\n",
       "    fig.header.textContent = msg['label'];\n",
       "}\n",
       "\n",
       "mpl.figure.prototype.handle_cursor = function(fig, msg) {\n",
       "    var cursor = msg['cursor'];\n",
       "    switch(cursor)\n",
       "    {\n",
       "    case 0:\n",
       "        cursor = 'pointer';\n",
       "        break;\n",
       "    case 1:\n",
       "        cursor = 'default';\n",
       "        break;\n",
       "    case 2:\n",
       "        cursor = 'crosshair';\n",
       "        break;\n",
       "    case 3:\n",
       "        cursor = 'move';\n",
       "        break;\n",
       "    }\n",
       "    fig.rubberband_canvas.style.cursor = cursor;\n",
       "}\n",
       "\n",
       "mpl.figure.prototype.handle_message = function(fig, msg) {\n",
       "    fig.message.textContent = msg['message'];\n",
       "}\n",
       "\n",
       "mpl.figure.prototype.handle_draw = function(fig, msg) {\n",
       "    // Request the server to send over a new figure.\n",
       "    fig.send_draw_message();\n",
       "}\n",
       "\n",
       "mpl.figure.prototype.handle_image_mode = function(fig, msg) {\n",
       "    fig.image_mode = msg['mode'];\n",
       "}\n",
       "\n",
       "mpl.figure.prototype.updated_canvas_event = function() {\n",
       "    // Called whenever the canvas gets updated.\n",
       "    this.send_message(\"ack\", {});\n",
       "}\n",
       "\n",
       "// A function to construct a web socket function for onmessage handling.\n",
       "// Called in the figure constructor.\n",
       "mpl.figure.prototype._make_on_message_function = function(fig) {\n",
       "    return function socket_on_message(evt) {\n",
       "        if (evt.data instanceof Blob) {\n",
       "            /* FIXME: We get \"Resource interpreted as Image but\n",
       "             * transferred with MIME type text/plain:\" errors on\n",
       "             * Chrome.  But how to set the MIME type?  It doesn't seem\n",
       "             * to be part of the websocket stream */\n",
       "            evt.data.type = \"image/png\";\n",
       "\n",
       "            /* Free the memory for the previous frames */\n",
       "            if (fig.imageObj.src) {\n",
       "                (window.URL || window.webkitURL).revokeObjectURL(\n",
       "                    fig.imageObj.src);\n",
       "            }\n",
       "\n",
       "            fig.imageObj.src = (window.URL || window.webkitURL).createObjectURL(\n",
       "                evt.data);\n",
       "            fig.updated_canvas_event();\n",
       "            fig.waiting = false;\n",
       "            return;\n",
       "        }\n",
       "        else if (typeof evt.data === 'string' && evt.data.slice(0, 21) == \"data:image/png;base64\") {\n",
       "            fig.imageObj.src = evt.data;\n",
       "            fig.updated_canvas_event();\n",
       "            fig.waiting = false;\n",
       "            return;\n",
       "        }\n",
       "\n",
       "        var msg = JSON.parse(evt.data);\n",
       "        var msg_type = msg['type'];\n",
       "\n",
       "        // Call the  \"handle_{type}\" callback, which takes\n",
       "        // the figure and JSON message as its only arguments.\n",
       "        try {\n",
       "            var callback = fig[\"handle_\" + msg_type];\n",
       "        } catch (e) {\n",
       "            console.log(\"No handler for the '\" + msg_type + \"' message type: \", msg);\n",
       "            return;\n",
       "        }\n",
       "\n",
       "        if (callback) {\n",
       "            try {\n",
       "                // console.log(\"Handling '\" + msg_type + \"' message: \", msg);\n",
       "                callback(fig, msg);\n",
       "            } catch (e) {\n",
       "                console.log(\"Exception inside the 'handler_\" + msg_type + \"' callback:\", e, e.stack, msg);\n",
       "            }\n",
       "        }\n",
       "    };\n",
       "}\n",
       "\n",
       "// from http://stackoverflow.com/questions/1114465/getting-mouse-location-in-canvas\n",
       "mpl.findpos = function(e) {\n",
       "    //this section is from http://www.quirksmode.org/js/events_properties.html\n",
       "    var targ;\n",
       "    if (!e)\n",
       "        e = window.event;\n",
       "    if (e.target)\n",
       "        targ = e.target;\n",
       "    else if (e.srcElement)\n",
       "        targ = e.srcElement;\n",
       "    if (targ.nodeType == 3) // defeat Safari bug\n",
       "        targ = targ.parentNode;\n",
       "\n",
       "    // jQuery normalizes the pageX and pageY\n",
       "    // pageX,Y are the mouse positions relative to the document\n",
       "    // offset() returns the position of the element relative to the document\n",
       "    var x = e.pageX - $(targ).offset().left;\n",
       "    var y = e.pageY - $(targ).offset().top;\n",
       "\n",
       "    return {\"x\": x, \"y\": y};\n",
       "};\n",
       "\n",
       "/*\n",
       " * return a copy of an object with only non-object keys\n",
       " * we need this to avoid circular references\n",
       " * http://stackoverflow.com/a/24161582/3208463\n",
       " */\n",
       "function simpleKeys (original) {\n",
       "  return Object.keys(original).reduce(function (obj, key) {\n",
       "    if (typeof original[key] !== 'object')\n",
       "        obj[key] = original[key]\n",
       "    return obj;\n",
       "  }, {});\n",
       "}\n",
       "\n",
       "mpl.figure.prototype.mouse_event = function(event, name) {\n",
       "    var canvas_pos = mpl.findpos(event)\n",
       "\n",
       "    if (name === 'button_press')\n",
       "    {\n",
       "        this.canvas.focus();\n",
       "        this.canvas_div.focus();\n",
       "    }\n",
       "\n",
       "    var x = canvas_pos.x * mpl.ratio;\n",
       "    var y = canvas_pos.y * mpl.ratio;\n",
       "\n",
       "    this.send_message(name, {x: x, y: y, button: event.button,\n",
       "                             step: event.step,\n",
       "                             guiEvent: simpleKeys(event)});\n",
       "\n",
       "    /* This prevents the web browser from automatically changing to\n",
       "     * the text insertion cursor when the button is pressed.  We want\n",
       "     * to control all of the cursor setting manually through the\n",
       "     * 'cursor' event from matplotlib */\n",
       "    event.preventDefault();\n",
       "    return false;\n",
       "}\n",
       "\n",
       "mpl.figure.prototype._key_event_extra = function(event, name) {\n",
       "    // Handle any extra behaviour associated with a key event\n",
       "}\n",
       "\n",
       "mpl.figure.prototype.key_event = function(event, name) {\n",
       "\n",
       "    // Prevent repeat events\n",
       "    if (name == 'key_press')\n",
       "    {\n",
       "        if (event.which === this._key)\n",
       "            return;\n",
       "        else\n",
       "            this._key = event.which;\n",
       "    }\n",
       "    if (name == 'key_release')\n",
       "        this._key = null;\n",
       "\n",
       "    var value = '';\n",
       "    if (event.ctrlKey && event.which != 17)\n",
       "        value += \"ctrl+\";\n",
       "    if (event.altKey && event.which != 18)\n",
       "        value += \"alt+\";\n",
       "    if (event.shiftKey && event.which != 16)\n",
       "        value += \"shift+\";\n",
       "\n",
       "    value += 'k';\n",
       "    value += event.which.toString();\n",
       "\n",
       "    this._key_event_extra(event, name);\n",
       "\n",
       "    this.send_message(name, {key: value,\n",
       "                             guiEvent: simpleKeys(event)});\n",
       "    return false;\n",
       "}\n",
       "\n",
       "mpl.figure.prototype.toolbar_button_onclick = function(name) {\n",
       "    if (name == 'download') {\n",
       "        this.handle_save(this, null);\n",
       "    } else {\n",
       "        this.send_message(\"toolbar_button\", {name: name});\n",
       "    }\n",
       "};\n",
       "\n",
       "mpl.figure.prototype.toolbar_button_onmouseover = function(tooltip) {\n",
       "    this.message.textContent = tooltip;\n",
       "};\n",
       "mpl.toolbar_items = [[\"Home\", \"Reset original view\", \"fa fa-home icon-home\", \"home\"], [\"Back\", \"Back to  previous view\", \"fa fa-arrow-left icon-arrow-left\", \"back\"], [\"Forward\", \"Forward to next view\", \"fa fa-arrow-right icon-arrow-right\", \"forward\"], [\"\", \"\", \"\", \"\"], [\"Pan\", \"Pan axes with left mouse, zoom with right\", \"fa fa-arrows icon-move\", \"pan\"], [\"Zoom\", \"Zoom to rectangle\", \"fa fa-square-o icon-check-empty\", \"zoom\"], [\"\", \"\", \"\", \"\"], [\"Download\", \"Download plot\", \"fa fa-floppy-o icon-save\", \"download\"]];\n",
       "\n",
       "mpl.extensions = [\"eps\", \"jpeg\", \"pdf\", \"png\", \"ps\", \"raw\", \"svg\", \"tif\"];\n",
       "\n",
       "mpl.default_extension = \"png\";var comm_websocket_adapter = function(comm) {\n",
       "    // Create a \"websocket\"-like object which calls the given IPython comm\n",
       "    // object with the appropriate methods. Currently this is a non binary\n",
       "    // socket, so there is still some room for performance tuning.\n",
       "    var ws = {};\n",
       "\n",
       "    ws.close = function() {\n",
       "        comm.close()\n",
       "    };\n",
       "    ws.send = function(m) {\n",
       "        //console.log('sending', m);\n",
       "        comm.send(m);\n",
       "    };\n",
       "    // Register the callback with on_msg.\n",
       "    comm.on_msg(function(msg) {\n",
       "        //console.log('receiving', msg['content']['data'], msg);\n",
       "        // Pass the mpl event to the overridden (by mpl) onmessage function.\n",
       "        ws.onmessage(msg['content']['data'])\n",
       "    });\n",
       "    return ws;\n",
       "}\n",
       "\n",
       "mpl.mpl_figure_comm = function(comm, msg) {\n",
       "    // This is the function which gets called when the mpl process\n",
       "    // starts-up an IPython Comm through the \"matplotlib\" channel.\n",
       "\n",
       "    var id = msg.content.data.id;\n",
       "    // Get hold of the div created by the display call when the Comm\n",
       "    // socket was opened in Python.\n",
       "    var element = $(\"#\" + id);\n",
       "    var ws_proxy = comm_websocket_adapter(comm)\n",
       "\n",
       "    function ondownload(figure, format) {\n",
       "        window.open(figure.imageObj.src);\n",
       "    }\n",
       "\n",
       "    var fig = new mpl.figure(id, ws_proxy,\n",
       "                           ondownload,\n",
       "                           element.get(0));\n",
       "\n",
       "    // Call onopen now - mpl needs it, as it is assuming we've passed it a real\n",
       "    // web socket which is closed, not our websocket->open comm proxy.\n",
       "    ws_proxy.onopen();\n",
       "\n",
       "    fig.parent_element = element.get(0);\n",
       "    fig.cell_info = mpl.find_output_cell(\"<div id='\" + id + \"'></div>\");\n",
       "    if (!fig.cell_info) {\n",
       "        console.error(\"Failed to find cell for figure\", id, fig);\n",
       "        return;\n",
       "    }\n",
       "\n",
       "    var output_index = fig.cell_info[2]\n",
       "    var cell = fig.cell_info[0];\n",
       "\n",
       "};\n",
       "\n",
       "mpl.figure.prototype.handle_close = function(fig, msg) {\n",
       "    var width = fig.canvas.width/mpl.ratio\n",
       "    fig.root.unbind('remove')\n",
       "\n",
       "    // Update the output cell to use the data from the current canvas.\n",
       "    fig.push_to_output();\n",
       "    var dataURL = fig.canvas.toDataURL();\n",
       "    // Re-enable the keyboard manager in IPython - without this line, in FF,\n",
       "    // the notebook keyboard shortcuts fail.\n",
       "    IPython.keyboard_manager.enable()\n",
       "    $(fig.parent_element).html('<img src=\"' + dataURL + '\" width=\"' + width + '\">');\n",
       "    fig.close_ws(fig, msg);\n",
       "}\n",
       "\n",
       "mpl.figure.prototype.close_ws = function(fig, msg){\n",
       "    fig.send_message('closing', msg);\n",
       "    // fig.ws.close()\n",
       "}\n",
       "\n",
       "mpl.figure.prototype.push_to_output = function(remove_interactive) {\n",
       "    // Turn the data on the canvas into data in the output cell.\n",
       "    var width = this.canvas.width/mpl.ratio\n",
       "    var dataURL = this.canvas.toDataURL();\n",
       "    this.cell_info[1]['text/html'] = '<img src=\"' + dataURL + '\" width=\"' + width + '\">';\n",
       "}\n",
       "\n",
       "mpl.figure.prototype.updated_canvas_event = function() {\n",
       "    // Tell IPython that the notebook contents must change.\n",
       "    IPython.notebook.set_dirty(true);\n",
       "    this.send_message(\"ack\", {});\n",
       "    var fig = this;\n",
       "    // Wait a second, then push the new image to the DOM so\n",
       "    // that it is saved nicely (might be nice to debounce this).\n",
       "    setTimeout(function () { fig.push_to_output() }, 1000);\n",
       "}\n",
       "\n",
       "mpl.figure.prototype._init_toolbar = function() {\n",
       "    var fig = this;\n",
       "\n",
       "    var nav_element = $('<div/>')\n",
       "    nav_element.attr('style', 'width: 100%');\n",
       "    this.root.append(nav_element);\n",
       "\n",
       "    // Define a callback function for later on.\n",
       "    function toolbar_event(event) {\n",
       "        return fig.toolbar_button_onclick(event['data']);\n",
       "    }\n",
       "    function toolbar_mouse_event(event) {\n",
       "        return fig.toolbar_button_onmouseover(event['data']);\n",
       "    }\n",
       "\n",
       "    for(var toolbar_ind in mpl.toolbar_items){\n",
       "        var name = mpl.toolbar_items[toolbar_ind][0];\n",
       "        var tooltip = mpl.toolbar_items[toolbar_ind][1];\n",
       "        var image = mpl.toolbar_items[toolbar_ind][2];\n",
       "        var method_name = mpl.toolbar_items[toolbar_ind][3];\n",
       "\n",
       "        if (!name) { continue; };\n",
       "\n",
       "        var button = $('<button class=\"btn btn-default\" href=\"#\" title=\"' + name + '\"><i class=\"fa ' + image + ' fa-lg\"></i></button>');\n",
       "        button.click(method_name, toolbar_event);\n",
       "        button.mouseover(tooltip, toolbar_mouse_event);\n",
       "        nav_element.append(button);\n",
       "    }\n",
       "\n",
       "    // Add the status bar.\n",
       "    var status_bar = $('<span class=\"mpl-message\" style=\"text-align:right; float: right;\"/>');\n",
       "    nav_element.append(status_bar);\n",
       "    this.message = status_bar[0];\n",
       "\n",
       "    // Add the close button to the window.\n",
       "    var buttongrp = $('<div class=\"btn-group inline pull-right\"></div>');\n",
       "    var button = $('<button class=\"btn btn-mini btn-primary\" href=\"#\" title=\"Stop Interaction\"><i class=\"fa fa-power-off icon-remove icon-large\"></i></button>');\n",
       "    button.click(function (evt) { fig.handle_close(fig, {}); } );\n",
       "    button.mouseover('Stop Interaction', toolbar_mouse_event);\n",
       "    buttongrp.append(button);\n",
       "    var titlebar = this.root.find($('.ui-dialog-titlebar'));\n",
       "    titlebar.prepend(buttongrp);\n",
       "}\n",
       "\n",
       "mpl.figure.prototype._root_extra_style = function(el){\n",
       "    var fig = this\n",
       "    el.on(\"remove\", function(){\n",
       "\tfig.close_ws(fig, {});\n",
       "    });\n",
       "}\n",
       "\n",
       "mpl.figure.prototype._canvas_extra_style = function(el){\n",
       "    // this is important to make the div 'focusable\n",
       "    el.attr('tabindex', 0)\n",
       "    // reach out to IPython and tell the keyboard manager to turn it's self\n",
       "    // off when our div gets focus\n",
       "\n",
       "    // location in version 3\n",
       "    if (IPython.notebook.keyboard_manager) {\n",
       "        IPython.notebook.keyboard_manager.register_events(el);\n",
       "    }\n",
       "    else {\n",
       "        // location in version 2\n",
       "        IPython.keyboard_manager.register_events(el);\n",
       "    }\n",
       "\n",
       "}\n",
       "\n",
       "mpl.figure.prototype._key_event_extra = function(event, name) {\n",
       "    var manager = IPython.notebook.keyboard_manager;\n",
       "    if (!manager)\n",
       "        manager = IPython.keyboard_manager;\n",
       "\n",
       "    // Check for shift+enter\n",
       "    if (event.shiftKey && event.which == 13) {\n",
       "        this.canvas_div.blur();\n",
       "        event.shiftKey = false;\n",
       "        // Send a \"J\" for go to next cell\n",
       "        event.which = 74;\n",
       "        event.keyCode = 74;\n",
       "        manager.command_mode();\n",
       "        manager.handle_keydown(event);\n",
       "    }\n",
       "}\n",
       "\n",
       "mpl.figure.prototype.handle_save = function(fig, msg) {\n",
       "    fig.ondownload(fig, null);\n",
       "}\n",
       "\n",
       "\n",
       "mpl.find_output_cell = function(html_output) {\n",
       "    // Return the cell and output element which can be found *uniquely* in the notebook.\n",
       "    // Note - this is a bit hacky, but it is done because the \"notebook_saving.Notebook\"\n",
       "    // IPython event is triggered only after the cells have been serialised, which for\n",
       "    // our purposes (turning an active figure into a static one), is too late.\n",
       "    var cells = IPython.notebook.get_cells();\n",
       "    var ncells = cells.length;\n",
       "    for (var i=0; i<ncells; i++) {\n",
       "        var cell = cells[i];\n",
       "        if (cell.cell_type === 'code'){\n",
       "            for (var j=0; j<cell.output_area.outputs.length; j++) {\n",
       "                var data = cell.output_area.outputs[j];\n",
       "                if (data.data) {\n",
       "                    // IPython >= 3 moved mimebundle to data attribute of output\n",
       "                    data = data.data;\n",
       "                }\n",
       "                if (data['text/html'] == html_output) {\n",
       "                    return [cell, data, j];\n",
       "                }\n",
       "            }\n",
       "        }\n",
       "    }\n",
       "}\n",
       "\n",
       "// Register the function which deals with the matplotlib target/channel.\n",
       "// The kernel may be null if the page has been refreshed.\n",
       "if (IPython.notebook.kernel != null) {\n",
       "    IPython.notebook.kernel.comm_manager.register_target('matplotlib', mpl.mpl_figure_comm);\n",
       "}\n"
      ],
      "text/plain": [
       "<IPython.core.display.Javascript object>"
      ]
     },
     "metadata": {},
     "output_type": "display_data"
    },
    {
     "data": {
      "text/html": [
       "<img src=\"data:image/png;base64,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\" width=\"671\">"
      ],
      "text/plain": [
       "<IPython.core.display.HTML object>"
      ]
     },
     "metadata": {},
     "output_type": "display_data"
    }
   ],
   "source": [
    "x = np.linspace(0, 10)  # range of values from 0 to 10\n",
    "y = np.sin(x)           # sine of these values\n",
    "plt.plot(x, y);         # plot as a line"
   ]
  },
  {
   "cell_type": "markdown",
   "metadata": {
    "slideshow": {
     "slide_type": "subslide"
    }
   },
   "source": [
    "If you run this code live, you will see an interactive plot that lets you pan, zoom, and scroll to explore the data.\n",
    "\n",
    "This is the simplest example of a Matplotlib plot; for ideas on the wide range of plot types available, see [Matplotlib's online gallery](http://matplotlib.org/gallery.html) as well as other references listed in [Resources for Further Learning](16-Further-Resources.ipynb)."
   ]
  },
  {
   "cell_type": "markdown",
   "metadata": {
    "slideshow": {
     "slide_type": "slide"
    }
   },
   "source": [
    "## SciPy: Scientific Python\n",
    "\n",
    "SciPy is a collection of scientific functionality that is built on NumPy.\n",
    "\n",
    "The package began as a set of Python wrappers to well-known `Fortran libraries for numerical computing`, and has grown from there.\n",
    "\n",
    "The package is arranged as a set of submodules, each implementing some class of numerical algorithms."
   ]
  },
  {
   "cell_type": "markdown",
   "metadata": {
    "slideshow": {
     "slide_type": "subslide"
    }
   },
   "source": [
    "## SciPy: Scientific Python\n",
    "\n",
    "Here is an incomplete sample of some of the more important ones for data science:\n",
    "\n",
    "- ``scipy.fftpack``: Fast Fourier transforms\n",
    "- ``scipy.integrate``: Numerical integration\n",
    "- ``scipy.interpolate``: Numerical interpolation\n",
    "- ``scipy.linalg``: Linear algebra routines\n",
    "- ``scipy.optimize``: Numerical optimization of functions\n",
    "- ``scipy.sparse``: Sparse matrix storage and linear algebra\n",
    "- ``scipy.stats``: Statistical analysis routines\n",
    "\n",
    "For example, let's take a look at interpolating a smooth curve between some data"
   ]
  },
  {
   "cell_type": "code",
   "execution_count": 14,
   "metadata": {
    "slideshow": {
     "slide_type": "subslide"
    }
   },
   "outputs": [
    {
     "data": {
      "application/javascript": [
       "/* Put everything inside the global mpl namespace */\n",
       "window.mpl = {};\n",
       "\n",
       "\n",
       "mpl.get_websocket_type = function() {\n",
       "    if (typeof(WebSocket) !== 'undefined') {\n",
       "        return WebSocket;\n",
       "    } else if (typeof(MozWebSocket) !== 'undefined') {\n",
       "        return MozWebSocket;\n",
       "    } else {\n",
       "        alert('Your browser does not have WebSocket support.' +\n",
       "              'Please try Chrome, Safari or Firefox ≥ 6. ' +\n",
       "              'Firefox 4 and 5 are also supported but you ' +\n",
       "              'have to enable WebSockets in about:config.');\n",
       "    };\n",
       "}\n",
       "\n",
       "mpl.figure = function(figure_id, websocket, ondownload, parent_element) {\n",
       "    this.id = figure_id;\n",
       "\n",
       "    this.ws = websocket;\n",
       "\n",
       "    this.supports_binary = (this.ws.binaryType != undefined);\n",
       "\n",
       "    if (!this.supports_binary) {\n",
       "        var warnings = document.getElementById(\"mpl-warnings\");\n",
       "        if (warnings) {\n",
       "            warnings.style.display = 'block';\n",
       "            warnings.textContent = (\n",
       "                \"This browser does not support binary websocket messages. \" +\n",
       "                    \"Performance may be slow.\");\n",
       "        }\n",
       "    }\n",
       "\n",
       "    this.imageObj = new Image();\n",
       "\n",
       "    this.context = undefined;\n",
       "    this.message = undefined;\n",
       "    this.canvas = undefined;\n",
       "    this.rubberband_canvas = undefined;\n",
       "    this.rubberband_context = undefined;\n",
       "    this.format_dropdown = undefined;\n",
       "\n",
       "    this.image_mode = 'full';\n",
       "\n",
       "    this.root = $('<div/>');\n",
       "    this._root_extra_style(this.root)\n",
       "    this.root.attr('style', 'display: inline-block');\n",
       "\n",
       "    $(parent_element).append(this.root);\n",
       "\n",
       "    this._init_header(this);\n",
       "    this._init_canvas(this);\n",
       "    this._init_toolbar(this);\n",
       "\n",
       "    var fig = this;\n",
       "\n",
       "    this.waiting = false;\n",
       "\n",
       "    this.ws.onopen =  function () {\n",
       "            fig.send_message(\"supports_binary\", {value: fig.supports_binary});\n",
       "            fig.send_message(\"send_image_mode\", {});\n",
       "            if (mpl.ratio != 1) {\n",
       "                fig.send_message(\"set_dpi_ratio\", {'dpi_ratio': mpl.ratio});\n",
       "            }\n",
       "            fig.send_message(\"refresh\", {});\n",
       "        }\n",
       "\n",
       "    this.imageObj.onload = function() {\n",
       "            if (fig.image_mode == 'full') {\n",
       "                // Full images could contain transparency (where diff images\n",
       "                // almost always do), so we need to clear the canvas so that\n",
       "                // there is no ghosting.\n",
       "                fig.context.clearRect(0, 0, fig.canvas.width, fig.canvas.height);\n",
       "            }\n",
       "            fig.context.drawImage(fig.imageObj, 0, 0);\n",
       "        };\n",
       "\n",
       "    this.imageObj.onunload = function() {\n",
       "        fig.ws.close();\n",
       "    }\n",
       "\n",
       "    this.ws.onmessage = this._make_on_message_function(this);\n",
       "\n",
       "    this.ondownload = ondownload;\n",
       "}\n",
       "\n",
       "mpl.figure.prototype._init_header = function() {\n",
       "    var titlebar = $(\n",
       "        '<div class=\"ui-dialog-titlebar ui-widget-header ui-corner-all ' +\n",
       "        'ui-helper-clearfix\"/>');\n",
       "    var titletext = $(\n",
       "        '<div class=\"ui-dialog-title\" style=\"width: 100%; ' +\n",
       "        'text-align: center; padding: 3px;\"/>');\n",
       "    titlebar.append(titletext)\n",
       "    this.root.append(titlebar);\n",
       "    this.header = titletext[0];\n",
       "}\n",
       "\n",
       "\n",
       "\n",
       "mpl.figure.prototype._canvas_extra_style = function(canvas_div) {\n",
       "\n",
       "}\n",
       "\n",
       "\n",
       "mpl.figure.prototype._root_extra_style = function(canvas_div) {\n",
       "\n",
       "}\n",
       "\n",
       "mpl.figure.prototype._init_canvas = function() {\n",
       "    var fig = this;\n",
       "\n",
       "    var canvas_div = $('<div/>');\n",
       "\n",
       "    canvas_div.attr('style', 'position: relative; clear: both; outline: 0');\n",
       "\n",
       "    function canvas_keyboard_event(event) {\n",
       "        return fig.key_event(event, event['data']);\n",
       "    }\n",
       "\n",
       "    canvas_div.keydown('key_press', canvas_keyboard_event);\n",
       "    canvas_div.keyup('key_release', canvas_keyboard_event);\n",
       "    this.canvas_div = canvas_div\n",
       "    this._canvas_extra_style(canvas_div)\n",
       "    this.root.append(canvas_div);\n",
       "\n",
       "    var canvas = $('<canvas/>');\n",
       "    canvas.addClass('mpl-canvas');\n",
       "    canvas.attr('style', \"left: 0; top: 0; z-index: 0; outline: 0\")\n",
       "\n",
       "    this.canvas = canvas[0];\n",
       "    this.context = canvas[0].getContext(\"2d\");\n",
       "\n",
       "    var backingStore = this.context.backingStorePixelRatio ||\n",
       "\tthis.context.webkitBackingStorePixelRatio ||\n",
       "\tthis.context.mozBackingStorePixelRatio ||\n",
       "\tthis.context.msBackingStorePixelRatio ||\n",
       "\tthis.context.oBackingStorePixelRatio ||\n",
       "\tthis.context.backingStorePixelRatio || 1;\n",
       "\n",
       "    mpl.ratio = (window.devicePixelRatio || 1) / backingStore;\n",
       "\n",
       "    var rubberband = $('<canvas/>');\n",
       "    rubberband.attr('style', \"position: absolute; left: 0; top: 0; z-index: 1;\")\n",
       "\n",
       "    var pass_mouse_events = true;\n",
       "\n",
       "    canvas_div.resizable({\n",
       "        start: function(event, ui) {\n",
       "            pass_mouse_events = false;\n",
       "        },\n",
       "        resize: function(event, ui) {\n",
       "            fig.request_resize(ui.size.width, ui.size.height);\n",
       "        },\n",
       "        stop: function(event, ui) {\n",
       "            pass_mouse_events = true;\n",
       "            fig.request_resize(ui.size.width, ui.size.height);\n",
       "        },\n",
       "    });\n",
       "\n",
       "    function mouse_event_fn(event) {\n",
       "        if (pass_mouse_events)\n",
       "            return fig.mouse_event(event, event['data']);\n",
       "    }\n",
       "\n",
       "    rubberband.mousedown('button_press', mouse_event_fn);\n",
       "    rubberband.mouseup('button_release', mouse_event_fn);\n",
       "    // Throttle sequential mouse events to 1 every 20ms.\n",
       "    rubberband.mousemove('motion_notify', mouse_event_fn);\n",
       "\n",
       "    rubberband.mouseenter('figure_enter', mouse_event_fn);\n",
       "    rubberband.mouseleave('figure_leave', mouse_event_fn);\n",
       "\n",
       "    canvas_div.on(\"wheel\", function (event) {\n",
       "        event = event.originalEvent;\n",
       "        event['data'] = 'scroll'\n",
       "        if (event.deltaY < 0) {\n",
       "            event.step = 1;\n",
       "        } else {\n",
       "            event.step = -1;\n",
       "        }\n",
       "        mouse_event_fn(event);\n",
       "    });\n",
       "\n",
       "    canvas_div.append(canvas);\n",
       "    canvas_div.append(rubberband);\n",
       "\n",
       "    this.rubberband = rubberband;\n",
       "    this.rubberband_canvas = rubberband[0];\n",
       "    this.rubberband_context = rubberband[0].getContext(\"2d\");\n",
       "    this.rubberband_context.strokeStyle = \"#000000\";\n",
       "\n",
       "    this._resize_canvas = function(width, height) {\n",
       "        // Keep the size of the canvas, canvas container, and rubber band\n",
       "        // canvas in synch.\n",
       "        canvas_div.css('width', width)\n",
       "        canvas_div.css('height', height)\n",
       "\n",
       "        canvas.attr('width', width * mpl.ratio);\n",
       "        canvas.attr('height', height * mpl.ratio);\n",
       "        canvas.attr('style', 'width: ' + width + 'px; height: ' + height + 'px;');\n",
       "\n",
       "        rubberband.attr('width', width);\n",
       "        rubberband.attr('height', height);\n",
       "    }\n",
       "\n",
       "    // Set the figure to an initial 600x600px, this will subsequently be updated\n",
       "    // upon first draw.\n",
       "    this._resize_canvas(600, 600);\n",
       "\n",
       "    // Disable right mouse context menu.\n",
       "    $(this.rubberband_canvas).bind(\"contextmenu\",function(e){\n",
       "        return false;\n",
       "    });\n",
       "\n",
       "    function set_focus () {\n",
       "        canvas.focus();\n",
       "        canvas_div.focus();\n",
       "    }\n",
       "\n",
       "    window.setTimeout(set_focus, 100);\n",
       "}\n",
       "\n",
       "mpl.figure.prototype._init_toolbar = function() {\n",
       "    var fig = this;\n",
       "\n",
       "    var nav_element = $('<div/>')\n",
       "    nav_element.attr('style', 'width: 100%');\n",
       "    this.root.append(nav_element);\n",
       "\n",
       "    // Define a callback function for later on.\n",
       "    function toolbar_event(event) {\n",
       "        return fig.toolbar_button_onclick(event['data']);\n",
       "    }\n",
       "    function toolbar_mouse_event(event) {\n",
       "        return fig.toolbar_button_onmouseover(event['data']);\n",
       "    }\n",
       "\n",
       "    for(var toolbar_ind in mpl.toolbar_items) {\n",
       "        var name = mpl.toolbar_items[toolbar_ind][0];\n",
       "        var tooltip = mpl.toolbar_items[toolbar_ind][1];\n",
       "        var image = mpl.toolbar_items[toolbar_ind][2];\n",
       "        var method_name = mpl.toolbar_items[toolbar_ind][3];\n",
       "\n",
       "        if (!name) {\n",
       "            // put a spacer in here.\n",
       "            continue;\n",
       "        }\n",
       "        var button = $('<button/>');\n",
       "        button.addClass('ui-button ui-widget ui-state-default ui-corner-all ' +\n",
       "                        'ui-button-icon-only');\n",
       "        button.attr('role', 'button');\n",
       "        button.attr('aria-disabled', 'false');\n",
       "        button.click(method_name, toolbar_event);\n",
       "        button.mouseover(tooltip, toolbar_mouse_event);\n",
       "\n",
       "        var icon_img = $('<span/>');\n",
       "        icon_img.addClass('ui-button-icon-primary ui-icon');\n",
       "        icon_img.addClass(image);\n",
       "        icon_img.addClass('ui-corner-all');\n",
       "\n",
       "        var tooltip_span = $('<span/>');\n",
       "        tooltip_span.addClass('ui-button-text');\n",
       "        tooltip_span.html(tooltip);\n",
       "\n",
       "        button.append(icon_img);\n",
       "        button.append(tooltip_span);\n",
       "\n",
       "        nav_element.append(button);\n",
       "    }\n",
       "\n",
       "    var fmt_picker_span = $('<span/>');\n",
       "\n",
       "    var fmt_picker = $('<select/>');\n",
       "    fmt_picker.addClass('mpl-toolbar-option ui-widget ui-widget-content');\n",
       "    fmt_picker_span.append(fmt_picker);\n",
       "    nav_element.append(fmt_picker_span);\n",
       "    this.format_dropdown = fmt_picker[0];\n",
       "\n",
       "    for (var ind in mpl.extensions) {\n",
       "        var fmt = mpl.extensions[ind];\n",
       "        var option = $(\n",
       "            '<option/>', {selected: fmt === mpl.default_extension}).html(fmt);\n",
       "        fmt_picker.append(option)\n",
       "    }\n",
       "\n",
       "    // Add hover states to the ui-buttons\n",
       "    $( \".ui-button\" ).hover(\n",
       "        function() { $(this).addClass(\"ui-state-hover\");},\n",
       "        function() { $(this).removeClass(\"ui-state-hover\");}\n",
       "    );\n",
       "\n",
       "    var status_bar = $('<span class=\"mpl-message\"/>');\n",
       "    nav_element.append(status_bar);\n",
       "    this.message = status_bar[0];\n",
       "}\n",
       "\n",
       "mpl.figure.prototype.request_resize = function(x_pixels, y_pixels) {\n",
       "    // Request matplotlib to resize the figure. Matplotlib will then trigger a resize in the client,\n",
       "    // which will in turn request a refresh of the image.\n",
       "    this.send_message('resize', {'width': x_pixels, 'height': y_pixels});\n",
       "}\n",
       "\n",
       "mpl.figure.prototype.send_message = function(type, properties) {\n",
       "    properties['type'] = type;\n",
       "    properties['figure_id'] = this.id;\n",
       "    this.ws.send(JSON.stringify(properties));\n",
       "}\n",
       "\n",
       "mpl.figure.prototype.send_draw_message = function() {\n",
       "    if (!this.waiting) {\n",
       "        this.waiting = true;\n",
       "        this.ws.send(JSON.stringify({type: \"draw\", figure_id: this.id}));\n",
       "    }\n",
       "}\n",
       "\n",
       "\n",
       "mpl.figure.prototype.handle_save = function(fig, msg) {\n",
       "    var format_dropdown = fig.format_dropdown;\n",
       "    var format = format_dropdown.options[format_dropdown.selectedIndex].value;\n",
       "    fig.ondownload(fig, format);\n",
       "}\n",
       "\n",
       "\n",
       "mpl.figure.prototype.handle_resize = function(fig, msg) {\n",
       "    var size = msg['size'];\n",
       "    if (size[0] != fig.canvas.width || size[1] != fig.canvas.height) {\n",
       "        fig._resize_canvas(size[0], size[1]);\n",
       "        fig.send_message(\"refresh\", {});\n",
       "    };\n",
       "}\n",
       "\n",
       "mpl.figure.prototype.handle_rubberband = function(fig, msg) {\n",
       "    var x0 = msg['x0'] / mpl.ratio;\n",
       "    var y0 = (fig.canvas.height - msg['y0']) / mpl.ratio;\n",
       "    var x1 = msg['x1'] / mpl.ratio;\n",
       "    var y1 = (fig.canvas.height - msg['y1']) / mpl.ratio;\n",
       "    x0 = Math.floor(x0) + 0.5;\n",
       "    y0 = Math.floor(y0) + 0.5;\n",
       "    x1 = Math.floor(x1) + 0.5;\n",
       "    y1 = Math.floor(y1) + 0.5;\n",
       "    var min_x = Math.min(x0, x1);\n",
       "    var min_y = Math.min(y0, y1);\n",
       "    var width = Math.abs(x1 - x0);\n",
       "    var height = Math.abs(y1 - y0);\n",
       "\n",
       "    fig.rubberband_context.clearRect(\n",
       "        0, 0, fig.canvas.width, fig.canvas.height);\n",
       "\n",
       "    fig.rubberband_context.strokeRect(min_x, min_y, width, height);\n",
       "}\n",
       "\n",
       "mpl.figure.prototype.handle_figure_label = function(fig, msg) {\n",
       "    // Updates the figure title.\n",
       "    fig.header.textContent = msg['label'];\n",
       "}\n",
       "\n",
       "mpl.figure.prototype.handle_cursor = function(fig, msg) {\n",
       "    var cursor = msg['cursor'];\n",
       "    switch(cursor)\n",
       "    {\n",
       "    case 0:\n",
       "        cursor = 'pointer';\n",
       "        break;\n",
       "    case 1:\n",
       "        cursor = 'default';\n",
       "        break;\n",
       "    case 2:\n",
       "        cursor = 'crosshair';\n",
       "        break;\n",
       "    case 3:\n",
       "        cursor = 'move';\n",
       "        break;\n",
       "    }\n",
       "    fig.rubberband_canvas.style.cursor = cursor;\n",
       "}\n",
       "\n",
       "mpl.figure.prototype.handle_message = function(fig, msg) {\n",
       "    fig.message.textContent = msg['message'];\n",
       "}\n",
       "\n",
       "mpl.figure.prototype.handle_draw = function(fig, msg) {\n",
       "    // Request the server to send over a new figure.\n",
       "    fig.send_draw_message();\n",
       "}\n",
       "\n",
       "mpl.figure.prototype.handle_image_mode = function(fig, msg) {\n",
       "    fig.image_mode = msg['mode'];\n",
       "}\n",
       "\n",
       "mpl.figure.prototype.updated_canvas_event = function() {\n",
       "    // Called whenever the canvas gets updated.\n",
       "    this.send_message(\"ack\", {});\n",
       "}\n",
       "\n",
       "// A function to construct a web socket function for onmessage handling.\n",
       "// Called in the figure constructor.\n",
       "mpl.figure.prototype._make_on_message_function = function(fig) {\n",
       "    return function socket_on_message(evt) {\n",
       "        if (evt.data instanceof Blob) {\n",
       "            /* FIXME: We get \"Resource interpreted as Image but\n",
       "             * transferred with MIME type text/plain:\" errors on\n",
       "             * Chrome.  But how to set the MIME type?  It doesn't seem\n",
       "             * to be part of the websocket stream */\n",
       "            evt.data.type = \"image/png\";\n",
       "\n",
       "            /* Free the memory for the previous frames */\n",
       "            if (fig.imageObj.src) {\n",
       "                (window.URL || window.webkitURL).revokeObjectURL(\n",
       "                    fig.imageObj.src);\n",
       "            }\n",
       "\n",
       "            fig.imageObj.src = (window.URL || window.webkitURL).createObjectURL(\n",
       "                evt.data);\n",
       "            fig.updated_canvas_event();\n",
       "            fig.waiting = false;\n",
       "            return;\n",
       "        }\n",
       "        else if (typeof evt.data === 'string' && evt.data.slice(0, 21) == \"data:image/png;base64\") {\n",
       "            fig.imageObj.src = evt.data;\n",
       "            fig.updated_canvas_event();\n",
       "            fig.waiting = false;\n",
       "            return;\n",
       "        }\n",
       "\n",
       "        var msg = JSON.parse(evt.data);\n",
       "        var msg_type = msg['type'];\n",
       "\n",
       "        // Call the  \"handle_{type}\" callback, which takes\n",
       "        // the figure and JSON message as its only arguments.\n",
       "        try {\n",
       "            var callback = fig[\"handle_\" + msg_type];\n",
       "        } catch (e) {\n",
       "            console.log(\"No handler for the '\" + msg_type + \"' message type: \", msg);\n",
       "            return;\n",
       "        }\n",
       "\n",
       "        if (callback) {\n",
       "            try {\n",
       "                // console.log(\"Handling '\" + msg_type + \"' message: \", msg);\n",
       "                callback(fig, msg);\n",
       "            } catch (e) {\n",
       "                console.log(\"Exception inside the 'handler_\" + msg_type + \"' callback:\", e, e.stack, msg);\n",
       "            }\n",
       "        }\n",
       "    };\n",
       "}\n",
       "\n",
       "// from http://stackoverflow.com/questions/1114465/getting-mouse-location-in-canvas\n",
       "mpl.findpos = function(e) {\n",
       "    //this section is from http://www.quirksmode.org/js/events_properties.html\n",
       "    var targ;\n",
       "    if (!e)\n",
       "        e = window.event;\n",
       "    if (e.target)\n",
       "        targ = e.target;\n",
       "    else if (e.srcElement)\n",
       "        targ = e.srcElement;\n",
       "    if (targ.nodeType == 3) // defeat Safari bug\n",
       "        targ = targ.parentNode;\n",
       "\n",
       "    // jQuery normalizes the pageX and pageY\n",
       "    // pageX,Y are the mouse positions relative to the document\n",
       "    // offset() returns the position of the element relative to the document\n",
       "    var x = e.pageX - $(targ).offset().left;\n",
       "    var y = e.pageY - $(targ).offset().top;\n",
       "\n",
       "    return {\"x\": x, \"y\": y};\n",
       "};\n",
       "\n",
       "/*\n",
       " * return a copy of an object with only non-object keys\n",
       " * we need this to avoid circular references\n",
       " * http://stackoverflow.com/a/24161582/3208463\n",
       " */\n",
       "function simpleKeys (original) {\n",
       "  return Object.keys(original).reduce(function (obj, key) {\n",
       "    if (typeof original[key] !== 'object')\n",
       "        obj[key] = original[key]\n",
       "    return obj;\n",
       "  }, {});\n",
       "}\n",
       "\n",
       "mpl.figure.prototype.mouse_event = function(event, name) {\n",
       "    var canvas_pos = mpl.findpos(event)\n",
       "\n",
       "    if (name === 'button_press')\n",
       "    {\n",
       "        this.canvas.focus();\n",
       "        this.canvas_div.focus();\n",
       "    }\n",
       "\n",
       "    var x = canvas_pos.x * mpl.ratio;\n",
       "    var y = canvas_pos.y * mpl.ratio;\n",
       "\n",
       "    this.send_message(name, {x: x, y: y, button: event.button,\n",
       "                             step: event.step,\n",
       "                             guiEvent: simpleKeys(event)});\n",
       "\n",
       "    /* This prevents the web browser from automatically changing to\n",
       "     * the text insertion cursor when the button is pressed.  We want\n",
       "     * to control all of the cursor setting manually through the\n",
       "     * 'cursor' event from matplotlib */\n",
       "    event.preventDefault();\n",
       "    return false;\n",
       "}\n",
       "\n",
       "mpl.figure.prototype._key_event_extra = function(event, name) {\n",
       "    // Handle any extra behaviour associated with a key event\n",
       "}\n",
       "\n",
       "mpl.figure.prototype.key_event = function(event, name) {\n",
       "\n",
       "    // Prevent repeat events\n",
       "    if (name == 'key_press')\n",
       "    {\n",
       "        if (event.which === this._key)\n",
       "            return;\n",
       "        else\n",
       "            this._key = event.which;\n",
       "    }\n",
       "    if (name == 'key_release')\n",
       "        this._key = null;\n",
       "\n",
       "    var value = '';\n",
       "    if (event.ctrlKey && event.which != 17)\n",
       "        value += \"ctrl+\";\n",
       "    if (event.altKey && event.which != 18)\n",
       "        value += \"alt+\";\n",
       "    if (event.shiftKey && event.which != 16)\n",
       "        value += \"shift+\";\n",
       "\n",
       "    value += 'k';\n",
       "    value += event.which.toString();\n",
       "\n",
       "    this._key_event_extra(event, name);\n",
       "\n",
       "    this.send_message(name, {key: value,\n",
       "                             guiEvent: simpleKeys(event)});\n",
       "    return false;\n",
       "}\n",
       "\n",
       "mpl.figure.prototype.toolbar_button_onclick = function(name) {\n",
       "    if (name == 'download') {\n",
       "        this.handle_save(this, null);\n",
       "    } else {\n",
       "        this.send_message(\"toolbar_button\", {name: name});\n",
       "    }\n",
       "};\n",
       "\n",
       "mpl.figure.prototype.toolbar_button_onmouseover = function(tooltip) {\n",
       "    this.message.textContent = tooltip;\n",
       "};\n",
       "mpl.toolbar_items = [[\"Home\", \"Reset original view\", \"fa fa-home icon-home\", \"home\"], [\"Back\", \"Back to  previous view\", \"fa fa-arrow-left icon-arrow-left\", \"back\"], [\"Forward\", \"Forward to next view\", \"fa fa-arrow-right icon-arrow-right\", \"forward\"], [\"\", \"\", \"\", \"\"], [\"Pan\", \"Pan axes with left mouse, zoom with right\", \"fa fa-arrows icon-move\", \"pan\"], [\"Zoom\", \"Zoom to rectangle\", \"fa fa-square-o icon-check-empty\", \"zoom\"], [\"\", \"\", \"\", \"\"], [\"Download\", \"Download plot\", \"fa fa-floppy-o icon-save\", \"download\"]];\n",
       "\n",
       "mpl.extensions = [\"eps\", \"jpeg\", \"pdf\", \"png\", \"ps\", \"raw\", \"svg\", \"tif\"];\n",
       "\n",
       "mpl.default_extension = \"png\";var comm_websocket_adapter = function(comm) {\n",
       "    // Create a \"websocket\"-like object which calls the given IPython comm\n",
       "    // object with the appropriate methods. Currently this is a non binary\n",
       "    // socket, so there is still some room for performance tuning.\n",
       "    var ws = {};\n",
       "\n",
       "    ws.close = function() {\n",
       "        comm.close()\n",
       "    };\n",
       "    ws.send = function(m) {\n",
       "        //console.log('sending', m);\n",
       "        comm.send(m);\n",
       "    };\n",
       "    // Register the callback with on_msg.\n",
       "    comm.on_msg(function(msg) {\n",
       "        //console.log('receiving', msg['content']['data'], msg);\n",
       "        // Pass the mpl event to the overridden (by mpl) onmessage function.\n",
       "        ws.onmessage(msg['content']['data'])\n",
       "    });\n",
       "    return ws;\n",
       "}\n",
       "\n",
       "mpl.mpl_figure_comm = function(comm, msg) {\n",
       "    // This is the function which gets called when the mpl process\n",
       "    // starts-up an IPython Comm through the \"matplotlib\" channel.\n",
       "\n",
       "    var id = msg.content.data.id;\n",
       "    // Get hold of the div created by the display call when the Comm\n",
       "    // socket was opened in Python.\n",
       "    var element = $(\"#\" + id);\n",
       "    var ws_proxy = comm_websocket_adapter(comm)\n",
       "\n",
       "    function ondownload(figure, format) {\n",
       "        window.open(figure.imageObj.src);\n",
       "    }\n",
       "\n",
       "    var fig = new mpl.figure(id, ws_proxy,\n",
       "                           ondownload,\n",
       "                           element.get(0));\n",
       "\n",
       "    // Call onopen now - mpl needs it, as it is assuming we've passed it a real\n",
       "    // web socket which is closed, not our websocket->open comm proxy.\n",
       "    ws_proxy.onopen();\n",
       "\n",
       "    fig.parent_element = element.get(0);\n",
       "    fig.cell_info = mpl.find_output_cell(\"<div id='\" + id + \"'></div>\");\n",
       "    if (!fig.cell_info) {\n",
       "        console.error(\"Failed to find cell for figure\", id, fig);\n",
       "        return;\n",
       "    }\n",
       "\n",
       "    var output_index = fig.cell_info[2]\n",
       "    var cell = fig.cell_info[0];\n",
       "\n",
       "};\n",
       "\n",
       "mpl.figure.prototype.handle_close = function(fig, msg) {\n",
       "    var width = fig.canvas.width/mpl.ratio\n",
       "    fig.root.unbind('remove')\n",
       "\n",
       "    // Update the output cell to use the data from the current canvas.\n",
       "    fig.push_to_output();\n",
       "    var dataURL = fig.canvas.toDataURL();\n",
       "    // Re-enable the keyboard manager in IPython - without this line, in FF,\n",
       "    // the notebook keyboard shortcuts fail.\n",
       "    IPython.keyboard_manager.enable()\n",
       "    $(fig.parent_element).html('<img src=\"' + dataURL + '\" width=\"' + width + '\">');\n",
       "    fig.close_ws(fig, msg);\n",
       "}\n",
       "\n",
       "mpl.figure.prototype.close_ws = function(fig, msg){\n",
       "    fig.send_message('closing', msg);\n",
       "    // fig.ws.close()\n",
       "}\n",
       "\n",
       "mpl.figure.prototype.push_to_output = function(remove_interactive) {\n",
       "    // Turn the data on the canvas into data in the output cell.\n",
       "    var width = this.canvas.width/mpl.ratio\n",
       "    var dataURL = this.canvas.toDataURL();\n",
       "    this.cell_info[1]['text/html'] = '<img src=\"' + dataURL + '\" width=\"' + width + '\">';\n",
       "}\n",
       "\n",
       "mpl.figure.prototype.updated_canvas_event = function() {\n",
       "    // Tell IPython that the notebook contents must change.\n",
       "    IPython.notebook.set_dirty(true);\n",
       "    this.send_message(\"ack\", {});\n",
       "    var fig = this;\n",
       "    // Wait a second, then push the new image to the DOM so\n",
       "    // that it is saved nicely (might be nice to debounce this).\n",
       "    setTimeout(function () { fig.push_to_output() }, 1000);\n",
       "}\n",
       "\n",
       "mpl.figure.prototype._init_toolbar = function() {\n",
       "    var fig = this;\n",
       "\n",
       "    var nav_element = $('<div/>')\n",
       "    nav_element.attr('style', 'width: 100%');\n",
       "    this.root.append(nav_element);\n",
       "\n",
       "    // Define a callback function for later on.\n",
       "    function toolbar_event(event) {\n",
       "        return fig.toolbar_button_onclick(event['data']);\n",
       "    }\n",
       "    function toolbar_mouse_event(event) {\n",
       "        return fig.toolbar_button_onmouseover(event['data']);\n",
       "    }\n",
       "\n",
       "    for(var toolbar_ind in mpl.toolbar_items){\n",
       "        var name = mpl.toolbar_items[toolbar_ind][0];\n",
       "        var tooltip = mpl.toolbar_items[toolbar_ind][1];\n",
       "        var image = mpl.toolbar_items[toolbar_ind][2];\n",
       "        var method_name = mpl.toolbar_items[toolbar_ind][3];\n",
       "\n",
       "        if (!name) { continue; };\n",
       "\n",
       "        var button = $('<button class=\"btn btn-default\" href=\"#\" title=\"' + name + '\"><i class=\"fa ' + image + ' fa-lg\"></i></button>');\n",
       "        button.click(method_name, toolbar_event);\n",
       "        button.mouseover(tooltip, toolbar_mouse_event);\n",
       "        nav_element.append(button);\n",
       "    }\n",
       "\n",
       "    // Add the status bar.\n",
       "    var status_bar = $('<span class=\"mpl-message\" style=\"text-align:right; float: right;\"/>');\n",
       "    nav_element.append(status_bar);\n",
       "    this.message = status_bar[0];\n",
       "\n",
       "    // Add the close button to the window.\n",
       "    var buttongrp = $('<div class=\"btn-group inline pull-right\"></div>');\n",
       "    var button = $('<button class=\"btn btn-mini btn-primary\" href=\"#\" title=\"Stop Interaction\"><i class=\"fa fa-power-off icon-remove icon-large\"></i></button>');\n",
       "    button.click(function (evt) { fig.handle_close(fig, {}); } );\n",
       "    button.mouseover('Stop Interaction', toolbar_mouse_event);\n",
       "    buttongrp.append(button);\n",
       "    var titlebar = this.root.find($('.ui-dialog-titlebar'));\n",
       "    titlebar.prepend(buttongrp);\n",
       "}\n",
       "\n",
       "mpl.figure.prototype._root_extra_style = function(el){\n",
       "    var fig = this\n",
       "    el.on(\"remove\", function(){\n",
       "\tfig.close_ws(fig, {});\n",
       "    });\n",
       "}\n",
       "\n",
       "mpl.figure.prototype._canvas_extra_style = function(el){\n",
       "    // this is important to make the div 'focusable\n",
       "    el.attr('tabindex', 0)\n",
       "    // reach out to IPython and tell the keyboard manager to turn it's self\n",
       "    // off when our div gets focus\n",
       "\n",
       "    // location in version 3\n",
       "    if (IPython.notebook.keyboard_manager) {\n",
       "        IPython.notebook.keyboard_manager.register_events(el);\n",
       "    }\n",
       "    else {\n",
       "        // location in version 2\n",
       "        IPython.keyboard_manager.register_events(el);\n",
       "    }\n",
       "\n",
       "}\n",
       "\n",
       "mpl.figure.prototype._key_event_extra = function(event, name) {\n",
       "    var manager = IPython.notebook.keyboard_manager;\n",
       "    if (!manager)\n",
       "        manager = IPython.keyboard_manager;\n",
       "\n",
       "    // Check for shift+enter\n",
       "    if (event.shiftKey && event.which == 13) {\n",
       "        this.canvas_div.blur();\n",
       "        event.shiftKey = false;\n",
       "        // Send a \"J\" for go to next cell\n",
       "        event.which = 74;\n",
       "        event.keyCode = 74;\n",
       "        manager.command_mode();\n",
       "        manager.handle_keydown(event);\n",
       "    }\n",
       "}\n",
       "\n",
       "mpl.figure.prototype.handle_save = function(fig, msg) {\n",
       "    fig.ondownload(fig, null);\n",
       "}\n",
       "\n",
       "\n",
       "mpl.find_output_cell = function(html_output) {\n",
       "    // Return the cell and output element which can be found *uniquely* in the notebook.\n",
       "    // Note - this is a bit hacky, but it is done because the \"notebook_saving.Notebook\"\n",
       "    // IPython event is triggered only after the cells have been serialised, which for\n",
       "    // our purposes (turning an active figure into a static one), is too late.\n",
       "    var cells = IPython.notebook.get_cells();\n",
       "    var ncells = cells.length;\n",
       "    for (var i=0; i<ncells; i++) {\n",
       "        var cell = cells[i];\n",
       "        if (cell.cell_type === 'code'){\n",
       "            for (var j=0; j<cell.output_area.outputs.length; j++) {\n",
       "                var data = cell.output_area.outputs[j];\n",
       "                if (data.data) {\n",
       "                    // IPython >= 3 moved mimebundle to data attribute of output\n",
       "                    data = data.data;\n",
       "                }\n",
       "                if (data['text/html'] == html_output) {\n",
       "                    return [cell, data, j];\n",
       "                }\n",
       "            }\n",
       "        }\n",
       "    }\n",
       "}\n",
       "\n",
       "// Register the function which deals with the matplotlib target/channel.\n",
       "// The kernel may be null if the page has been refreshed.\n",
       "if (IPython.notebook.kernel != null) {\n",
       "    IPython.notebook.kernel.comm_manager.register_target('matplotlib', mpl.mpl_figure_comm);\n",
       "}\n"
      ],
      "text/plain": [
       "<IPython.core.display.Javascript object>"
      ]
     },
     "metadata": {},
     "output_type": "display_data"
    },
    {
     "data": {
      "text/html": [
       "<img src=\"data:image/png;base64,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\" width=\"769\">"
      ],
      "text/plain": [
       "<IPython.core.display.HTML object>"
      ]
     },
     "metadata": {},
     "output_type": "display_data"
    }
   ],
   "source": [
    "from scipy import interpolate\n",
    "\n",
    "# choose eight points between 0 and 10\n",
    "x = np.linspace(0, 10, 8)\n",
    "y = np.sin(x)\n",
    "\n",
    "# create a cubic interpolation function\n",
    "func = interpolate.interp1d(x, y, kind='cubic')\n",
    "\n",
    "# interpolate on a grid of 1,000 points\n",
    "x_interp = np.linspace(0, 10, 1000)\n",
    "y_interp = func(x_interp)\n",
    "\n",
    "# plot the results\n",
    "plt.figure()  # new figure\n",
    "plt.plot(x, y, 'o')\n",
    "plt.plot(x_interp, y_interp);"
   ]
  },
  {
   "cell_type": "markdown",
   "metadata": {
    "slideshow": {
     "slide_type": "subslide"
    }
   },
   "source": [
    "What we see is a smooth interpolation between the points."
   ]
  },
  {
   "cell_type": "markdown",
   "metadata": {
    "slideshow": {
     "slide_type": "slide"
    }
   },
   "source": [
    "## Other Data Science Packages\n",
    "\n",
    "Built on top of these tools are a host of other data science packages, including \n",
    "- [Scikit-Learn](http://scikit-learn.org) for machine learning, \n",
    "- [Scikit-Image](http://scikit-image.org) for image analysis, and \n",
    "- [Statsmodels](http://statsmodels.sourceforge.net/) for statistical modeling, as well as more domain-specific packages like \n",
    "- [AstroPy](http://astropy.org) for astronomy and astrophysics, \n",
    "- [NiPy](http://nipy.org/) for neuro-imaging, and many, many more.\n",
    "\n",
    "No matter what type of scientific, numerical, or statistical problem you are facing, it's likely there is a Python package out there that can help you solve it."
   ]
  },
  {
   "cell_type": "markdown",
   "metadata": {
    "slideshow": {
     "slide_type": "slide"
    }
   },
   "source": [
    "<!--NAVIGATION-->\n",
    "< [String Manipulation and Regular Expressions](14-Strings-and-Regular-Expressions.ipynb) | [Contents](Index.ipynb) | [Resources for Further Learning](16-Further-Resources.ipynb) >"
   ]
  }
 ],
 "metadata": {
  "anaconda-cloud": {},
  "celltoolbar": "Slideshow",
  "kernelspec": {
   "display_name": "Python [default]",
   "language": "python",
   "name": "python3"
  },
  "language_info": {
   "codemirror_mode": {
    "name": "ipython",
    "version": 3
   },
   "file_extension": ".py",
   "mimetype": "text/x-python",
   "name": "python",
   "nbconvert_exporter": "python",
   "pygments_lexer": "ipython3",
   "version": "3.5.5"
  }
 },
 "nbformat": 4,
 "nbformat_minor": 1
}
