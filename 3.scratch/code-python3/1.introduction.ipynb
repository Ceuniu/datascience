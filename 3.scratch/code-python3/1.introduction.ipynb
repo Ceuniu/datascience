{
 "cells": [
  {
   "cell_type": "markdown",
   "metadata": {},
   "source": [
    "## Table of Contents\n",
    "\n",
    "1. [Introduction](./introduction.py)\n",
    "2. A Crash Course in Python\n",
    "3. [Visualizing Data](./visualizing_data.py)\n",
    "4. [Linear Algebra](./linear_algebra.py)\n",
    "5. [Statistics](./statistics.py)\n",
    "6. [Probability](./probability.py)\n",
    "7. [Hypothesis and Inference](./hypothesis_and_inference.py)\n",
    "8. [Gradient Descent](./gradient_descent.py)\n",
    "9. [Getting Data](./getting_data.py)\n",
    "10. [Working With Data](./working_with_data.py)\n",
    "11. [Machine Learning](./machine_learning.py)\n",
    "12. [k-Nearest Neighbors](./nearest_neighbors.py)\n",
    "13. [Naive Bayes](./naive_bayes.py)\n",
    "14. [Simple Linear Regression](./simple_linear_regression.py)\n",
    "15. [Multiple Regression](./multiple_regression.py)\n",
    "16. [Logistic Regression](./logistic_regression.py)\n",
    "17. [Decision Trees](./decision_trees.py)\n",
    "18. [Neural Networks](./neural_networks.py)\n",
    "19. [Clustering](./clustering.py)\n",
    "20. [Natural Language Processing](./natural_language_processing.py)\n",
    "21. [Network Analysis](./network_analysis.py)\n",
    "22. [Recommender Systems](./recommender_systems.py)\n",
    "23. [Databases and SQL](./databases.py)\n",
    "24. [MapReduce](./mapreduce.py)\n",
    "25. Go Forth And Do Data Science"
   ]
  },
  {
   "cell_type": "code",
   "execution_count": 1,
   "metadata": {
    "ExecuteTime": {
     "end_time": "2018-09-10T14:25:54.627016Z",
     "start_time": "2018-09-10T14:25:54.154760Z"
    }
   },
   "outputs": [],
   "source": [
    "# at this stage in the book we haven't actually installed matplotlib,\n",
    "# comment this out if you need to\n",
    "from matplotlib import pyplot as plt\n"
   ]
  },
  {
   "cell_type": "code",
   "execution_count": 2,
   "metadata": {
    "ExecuteTime": {
     "end_time": "2018-09-10T14:26:21.232612Z",
     "start_time": "2018-09-10T14:26:21.219450Z"
    }
   },
   "outputs": [],
   "source": [
    "##########################\n",
    "#                        #\n",
    "# FINDING KEY CONNECTORS #\n",
    "#                        #\n",
    "##########################\n",
    "\n",
    "users = [\n",
    "    { \"id\": 0, \"name\": \"Hero\" },\n",
    "    { \"id\": 1, \"name\": \"Dunn\" },\n",
    "    { \"id\": 2, \"name\": \"Sue\" },\n",
    "    { \"id\": 3, \"name\": \"Chi\" },\n",
    "    { \"id\": 4, \"name\": \"Thor\" },\n",
    "    { \"id\": 5, \"name\": \"Clive\" },\n",
    "    { \"id\": 6, \"name\": \"Hicks\" },\n",
    "    { \"id\": 7, \"name\": \"Devin\" },\n",
    "    { \"id\": 8, \"name\": \"Kate\" },\n",
    "    { \"id\": 9, \"name\": \"Klein\" },\n",
    "    { \"id\": 10, \"name\": \"Jen\" }\n",
    "]\n",
    "\n",
    "friendships = [(0, 1), (0, 2), (1, 2), (1, 3), (2, 3), (3, 4),\n",
    "               (4, 5), (5, 6), (5, 7), (6, 8), (7, 8), (8, 9)]\n"
   ]
  },
  {
   "cell_type": "code",
   "execution_count": 3,
   "metadata": {
    "ExecuteTime": {
     "end_time": "2018-09-10T14:26:42.138508Z",
     "start_time": "2018-09-10T14:26:42.122845Z"
    }
   },
   "outputs": [],
   "source": [
    "# first give each user an empty list\n",
    "for user in users:\n",
    "    user[\"friends\"] = []\n",
    "\n",
    "# and then populate the lists with friendships\n",
    "for i, j in friendships:\n",
    "    # this works because users[i] is the user whose id is i\n",
    "    users[i][\"friends\"].append(users[j]) # add i as a friend of j\n",
    "    users[j][\"friends\"].append(users[i]) # add j as a friend of i\n",
    "\n",
    "def number_of_friends(user):\n",
    "    \"\"\"how many friends does _user_ have?\"\"\"\n",
    "    return len(user[\"friends\"]) # length of friend_ids list\n",
    "\n",
    "total_connections = sum(number_of_friends(user)\n",
    "                        for user in users) # 24\n",
    "\n",
    "num_users = len(users)\n",
    "avg_connections = total_connections / num_users # 2.4"
   ]
  },
  {
   "cell_type": "code",
   "execution_count": 4,
   "metadata": {
    "ExecuteTime": {
     "end_time": "2018-09-10T14:27:00.430091Z",
     "start_time": "2018-09-10T14:27:00.425972Z"
    }
   },
   "outputs": [
    {
     "name": "stdout",
     "output_type": "stream",
     "text": [
      "11 2.1818181818181817\n"
     ]
    }
   ],
   "source": [
    "print(num_users, avg_connections)"
   ]
  },
  {
   "cell_type": "code",
   "execution_count": 5,
   "metadata": {
    "ExecuteTime": {
     "end_time": "2018-09-10T14:27:35.736776Z",
     "start_time": "2018-09-10T14:27:35.689266Z"
    }
   },
   "outputs": [
    {
     "name": "stdout",
     "output_type": "stream",
     "text": [
      "Counter({0: 2, 5: 1})\n"
     ]
    }
   ],
   "source": [
    "################################\n",
    "#                              #\n",
    "# DATA SCIENTISTS YOU MAY KNOW #\n",
    "#                              #\n",
    "################################\n",
    "\n",
    "def friends_of_friend_ids_bad(user):\n",
    "    # \"foaf\" is short for \"friend of a friend\"\n",
    "    return [foaf[\"id\"]\n",
    "            for friend in user[\"friends\"] # for each of user's friends\n",
    "            for foaf in friend[\"friends\"]] # get each of _their_ friends\n",
    "\n",
    "from collections import Counter # not loaded by default\n",
    "\n",
    "def not_the_same(user, other_user):\n",
    "    \"\"\"two users are not the same if they have different ids\"\"\"\n",
    "    return user[\"id\"] != other_user[\"id\"]\n",
    "\n",
    "def not_friends(user, other_user):\n",
    "    \"\"\"other_user is not a friend if he's not in user[\"friends\"];\n",
    "    that is, if he's not_the_same as all the people in user[\"friends\"]\"\"\"\n",
    "    return all(not_the_same(friend, other_user)\n",
    "               for friend in user[\"friends\"])\n",
    "\n",
    "def friends_of_friend_ids(user):\n",
    "    return Counter(foaf[\"id\"]\n",
    "                   for friend in user[\"friends\"]  # for each of my friends\n",
    "                   for foaf in friend[\"friends\"]  # count *their* friends\n",
    "                   if not_the_same(user, foaf)    # who aren't me\n",
    "                   and not_friends(user, foaf))   # and aren't my friends\n",
    "\n",
    "print(friends_of_friend_ids(users[3])) # Counter({0: 2, 5: 1})\n"
   ]
  },
  {
   "cell_type": "code",
   "execution_count": 6,
   "metadata": {
    "ExecuteTime": {
     "end_time": "2018-09-10T14:28:44.522358Z",
     "start_time": "2018-09-10T14:28:44.503007Z"
    }
   },
   "outputs": [],
   "source": [
    "interests = [\n",
    "    (0, \"Hadoop\"), (0, \"Big Data\"), (0, \"HBase\"), (0, \"Java\"),\n",
    "    (0, \"Spark\"), (0, \"Storm\"), (0, \"Cassandra\"),\n",
    "    (1, \"NoSQL\"), (1, \"MongoDB\"), (1, \"Cassandra\"), (1, \"HBase\"),\n",
    "    (1, \"Postgres\"), (2, \"Python\"), (2, \"scikit-learn\"), (2, \"scipy\"),\n",
    "    (2, \"numpy\"), (2, \"statsmodels\"), (2, \"pandas\"), (3, \"R\"), (3, \"Python\"),\n",
    "    (3, \"statistics\"), (3, \"regression\"), (3, \"probability\"),\n",
    "    (4, \"machine learning\"), (4, \"regression\"), (4, \"decision trees\"),\n",
    "    (4, \"libsvm\"), (5, \"Python\"), (5, \"R\"), (5, \"Java\"), (5, \"C++\"),\n",
    "    (5, \"Haskell\"), (5, \"programming languages\"), (6, \"statistics\"),\n",
    "    (6, \"probability\"), (6, \"mathematics\"), (6, \"theory\"),\n",
    "    (7, \"machine learning\"), (7, \"scikit-learn\"), (7, \"Mahout\"),\n",
    "    (7, \"neural networks\"), (8, \"neural networks\"), (8, \"deep learning\"),\n",
    "    (8, \"Big Data\"), (8, \"artificial intelligence\"), (9, \"Hadoop\"),\n",
    "    (9, \"Java\"), (9, \"MapReduce\"), (9, \"Big Data\")\n",
    "]\n"
   ]
  },
  {
   "cell_type": "code",
   "execution_count": 7,
   "metadata": {
    "ExecuteTime": {
     "end_time": "2018-09-10T14:28:58.346580Z",
     "start_time": "2018-09-10T14:28:58.342610Z"
    }
   },
   "outputs": [],
   "source": [
    "def data_scientists_who_like(target_interest):\n",
    "    return [user_id\n",
    "            for user_id, user_interest in interests\n",
    "            if user_interest == target_interest]"
   ]
  },
  {
   "cell_type": "code",
   "execution_count": 8,
   "metadata": {
    "ExecuteTime": {
     "end_time": "2018-09-10T14:29:14.774542Z",
     "start_time": "2018-09-10T14:29:14.766059Z"
    }
   },
   "outputs": [],
   "source": [
    "from collections import defaultdict\n",
    "\n",
    "# keys are interests, values are lists of user_ids with that interest\n",
    "user_ids_by_interest = defaultdict(list)\n",
    "\n",
    "for user_id, interest in interests:\n",
    "    user_ids_by_interest[interest].append(user_id)\n",
    "\n",
    "# keys are user_ids, values are lists of interests for that user_id\n",
    "interests_by_user_id = defaultdict(list)\n",
    "\n",
    "for user_id, interest in interests:\n",
    "    interests_by_user_id[user_id].append(interest)"
   ]
  },
  {
   "cell_type": "code",
   "execution_count": null,
   "metadata": {},
   "outputs": [],
   "source": [
    "def most_common_interests_with(user_id):\n",
    "    return Counter(interested_user_id\n",
    "        for interest in interests_by_user_id[\"user_id\"]\n",
    "        for interested_user_id in user_ids_by_interest[interest]\n",
    "        if interested_user_id != user_id)"
   ]
  },
  {
   "cell_type": "code",
   "execution_count": 9,
   "metadata": {
    "ExecuteTime": {
     "end_time": "2018-09-10T14:30:19.095445Z",
     "start_time": "2018-09-10T14:30:19.036302Z"
    }
   },
   "outputs": [],
   "source": [
    "###########################\n",
    "#                         #\n",
    "# SALARIES AND EXPERIENCE #\n",
    "#                         #\n",
    "###########################\n",
    "\n",
    "salaries_and_tenures = [(83000, 8.7), (88000, 8.1),\n",
    "                        (48000, 0.7), (76000, 6),\n",
    "                        (69000, 6.5), (76000, 7.5),\n",
    "                        (60000, 2.5), (83000, 10),\n",
    "                        (48000, 1.9), (63000, 4.2)]\n",
    "\n",
    "def make_chart_salaries_by_tenure():\n",
    "    tenures = [tenure for salary, tenure in salaries_and_tenures]\n",
    "    salaries = [salary for salary, tenure in salaries_and_tenures]\n",
    "    plt.scatter(tenures, salaries)\n",
    "    plt.xlabel(\"Years Experience\")\n",
    "    plt.ylabel(\"Salary\")\n",
    "    plt.show()\n",
    "\n",
    "# keys are years\n",
    "# values are the salaries for each tenure\n",
    "salary_by_tenure = defaultdict(list)\n",
    "\n",
    "for salary, tenure in salaries_and_tenures:\n",
    "    salary_by_tenure[tenure].append(salary)\n",
    "\n",
    "average_salary_by_tenure = {\n",
    "    tenure : sum(salaries) / len(salaries)\n",
    "    for tenure, salaries in salary_by_tenure.items()\n",
    "}\n",
    "\n",
    "def tenure_bucket(tenure):\n",
    "    if tenure < 2: return \"less than two\"\n",
    "    elif tenure < 5: return \"between two and five\"\n",
    "    else: return \"more than five\"\n",
    "\n",
    "salary_by_tenure_bucket = defaultdict(list)\n",
    "\n",
    "for salary, tenure in salaries_and_tenures:\n",
    "    bucket = tenure_bucket(tenure)\n",
    "    salary_by_tenure_bucket[bucket].append(salary)\n",
    "\n",
    "average_salary_by_bucket = {\n",
    "  tenure_bucket : sum(salaries) / len(salaries)\n",
    "  for tenure_bucket, salaries in salary_by_tenure_bucket.items()\n",
    "}\n"
   ]
  },
  {
   "cell_type": "code",
   "execution_count": 10,
   "metadata": {
    "ExecuteTime": {
     "end_time": "2018-09-10T14:30:34.672517Z",
     "start_time": "2018-09-10T14:30:34.667598Z"
    }
   },
   "outputs": [],
   "source": [
    "#################\n",
    "#               #\n",
    "# PAID_ACCOUNTS #\n",
    "#               #\n",
    "#################\n",
    "\n",
    "def predict_paid_or_unpaid(years_experience):\n",
    "    if years_experience < 3.0: return \"paid\"\n",
    "    elif years_experience < 8.5: return \"unpaid\"\n",
    "    else: return \"paid\""
   ]
  },
  {
   "cell_type": "code",
   "execution_count": 11,
   "metadata": {
    "ExecuteTime": {
     "end_time": "2018-09-10T14:30:44.039420Z",
     "start_time": "2018-09-10T14:30:44.035380Z"
    }
   },
   "outputs": [],
   "source": [
    "######################\n",
    "#                    #\n",
    "# TOPICS OF INTEREST #\n",
    "#                    #\n",
    "######################\n",
    "\n",
    "words_and_counts = Counter(word\n",
    "                           for user, interest in interests\n",
    "                           for word in interest.lower().split())\n"
   ]
  },
  {
   "cell_type": "code",
   "execution_count": 12,
   "metadata": {
    "ExecuteTime": {
     "end_time": "2018-09-10T14:31:06.376103Z",
     "start_time": "2018-09-10T14:31:06.283742Z"
    }
   },
   "outputs": [
    {
     "name": "stdout",
     "output_type": "stream",
     "text": [
      "\n",
      "######################\n",
      "#\n",
      "# FINDING KEY CONNECTORS\n",
      "#\n",
      "######################\n",
      "\n",
      "total connections 24\n",
      "number of users 11\n",
      "average connections 2.1818181818181817\n",
      "\n",
      "users sorted by number of friends:\n",
      "[(1, 3), (2, 3), (3, 3), (5, 3), (8, 3), (0, 2), (4, 2), (6, 2), (7, 2), (9, 1), (10, 0)]\n",
      "\n",
      "######################\n",
      "#\n",
      "# DATA SCIENTISTS YOU MAY KNOW\n",
      "#\n",
      "######################\n",
      "\n",
      "friends of friends bad for user 0: [0, 2, 3, 0, 1, 3]\n",
      "friends of friends for user 3: Counter({0: 2, 5: 1})\n",
      "\n",
      "######################\n",
      "#\n",
      "# SALARIES AND TENURES\n",
      "#\n",
      "######################\n",
      "\n",
      "average salary by tenure {0.7: 48000.0, 1.9: 48000.0, 2.5: 60000.0, 4.2: 63000.0, 6.5: 69000.0, 6: 76000.0, 7.5: 76000.0, 8.1: 88000.0, 10: 83000.0, 8.7: 83000.0}\n",
      "average salary by tenure bucket {'between two and five': 61500.0, 'less than two': 48000.0, 'more than five': 79166.66666666667}\n",
      "\n",
      "######################\n",
      "#\n",
      "# MOST COMMON WORDS\n",
      "#\n",
      "######################\n",
      "\n",
      "data 3\n",
      "java 3\n",
      "big 3\n",
      "learning 3\n",
      "python 3\n",
      "networks 2\n",
      "cassandra 2\n",
      "neural 2\n",
      "scikit-learn 2\n",
      "hadoop 2\n",
      "probability 2\n",
      "regression 2\n",
      "hbase 2\n",
      "statistics 2\n",
      "r 2\n",
      "machine 2\n"
     ]
    }
   ],
   "source": [
    "print()\n",
    "print(\"######################\")\n",
    "print(\"#\")\n",
    "print(\"# FINDING KEY CONNECTORS\")\n",
    "print(\"#\")\n",
    "print(\"######################\")\n",
    "print()\n",
    "\n",
    "\n",
    "print(\"total connections\", total_connections)\n",
    "print(\"number of users\", num_users)\n",
    "print(\"average connections\", total_connections / num_users)\n",
    "print()\n",
    "\n",
    "# create a list (user_id, number_of_friends)\n",
    "num_friends_by_id = [(user[\"id\"], number_of_friends(user))\n",
    "                     for user in users]\n",
    "\n",
    "print(\"users sorted by number of friends:\")\n",
    "print(sorted(num_friends_by_id,\n",
    "             key=lambda pair: pair[1],                       # by number of friends\n",
    "             reverse=True))                                  # largest to smallest\n",
    "\n",
    "print()\n",
    "print(\"######################\")\n",
    "print(\"#\")\n",
    "print(\"# DATA SCIENTISTS YOU MAY KNOW\")\n",
    "print(\"#\")\n",
    "print(\"######################\")\n",
    "print()\n",
    "\n",
    "\n",
    "print(\"friends of friends bad for user 0:\", friends_of_friend_ids_bad(users[0]))\n",
    "print(\"friends of friends for user 3:\", friends_of_friend_ids(users[3]))\n",
    "\n",
    "print()\n",
    "print(\"######################\")\n",
    "print(\"#\")\n",
    "print(\"# SALARIES AND TENURES\")\n",
    "print(\"#\")\n",
    "print(\"######################\")\n",
    "print()\n",
    "\n",
    "print(\"average salary by tenure\", average_salary_by_tenure)\n",
    "print(\"average salary by tenure bucket\", average_salary_by_bucket)\n",
    "\n",
    "print()\n",
    "print(\"######################\")\n",
    "print(\"#\")\n",
    "print(\"# MOST COMMON WORDS\")\n",
    "print(\"#\")\n",
    "print(\"######################\")\n",
    "print()\n",
    "\n",
    "for word, count in words_and_counts.most_common():\n",
    "    if count > 1:\n",
    "        print(word, count)\n"
   ]
  },
  {
   "cell_type": "code",
   "execution_count": null,
   "metadata": {},
   "outputs": [],
   "source": []
  }
 ],
 "metadata": {
  "kernelspec": {
   "display_name": "Python [conda env:anaconda]",
   "language": "python",
   "name": "conda-env-anaconda-py"
  },
  "language_info": {
   "codemirror_mode": {
    "name": "ipython",
    "version": 3
   },
   "file_extension": ".py",
   "mimetype": "text/x-python",
   "name": "python",
   "nbconvert_exporter": "python",
   "pygments_lexer": "ipython3",
   "version": "3.5.4"
  },
  "toc": {
   "base_numbering": 1,
   "nav_menu": {},
   "number_sections": false,
   "sideBar": true,
   "skip_h1_title": false,
   "title_cell": "Table of Contents",
   "title_sidebar": "Contents",
   "toc_cell": false,
   "toc_position": {},
   "toc_section_display": true,
   "toc_window_display": false
  }
 },
 "nbformat": 4,
 "nbformat_minor": 2
}
