{
 "cells": [
  {
   "cell_type": "markdown",
   "metadata": {
    "slideshow": {
     "slide_type": "slide"
    }
   },
   "source": [
    "\n",
    "\n",
    "\n",
    "### 南京大学计算传播学系列课程\n",
    "***\n",
    "***\n",
    "# 《计算传播学的编程基础》\n",
    "***\n",
    "***\n",
    "\n",
    "王成军 \n",
    "\n",
    "wangchengjun@nju.edu.cn\n",
    "\n",
    "计算传播网 http://computational-communication.com"
   ]
  },
  {
   "cell_type": "markdown",
   "metadata": {
    "ExecuteTime": {
     "end_time": "2018-01-10T23:55:28.295225",
     "start_time": "2018-01-10T23:55:28.287942"
    },
    "slideshow": {
     "slide_type": "slide"
    }
   },
   "source": [
    "<img align=\"right\" style=\"padding-right:10px;\" src=\"figures/logo.png\">\n",
    "\n",
    "<!--NAVIGATION-->\n",
    "| [Contents](Index.ipynb) | [IPython: Beyond Normal Python](01.00-IPython-Beyond-Normal-Python.ipynb) >"
   ]
  },
  {
   "cell_type": "markdown",
   "metadata": {
    "slideshow": {
     "slide_type": "slide"
    }
   },
   "source": [
    "<!--BOOK_INFORMATION-->\n",
    "<img align=\"right\" width=\"300px\" style=\"padding-right:10px;\" src=\"figures/PDSH-cover.png\">\n",
    "*[Python Data Science Handbook](http://shop.oreilly.com/product/0636920034919.do) by Jake VanderPlas; the content is available [on GitHub](https://github.com/jakevdp/PythonDataScienceHandbook).*\n",
    "\n",
    "*The text is released under the [CC-BY-NC-ND license](https://creativecommons.org/licenses/by-nc-nd/3.0/us/legalcode), and code is released under the [MIT license](https://opensource.org/licenses/MIT). *\n",
    "\n",
    "If you find this content useful, please consider supporting the work by [buying the book](http://shop.oreilly.com/product/0636920034919.do)!\n"
   ]
  },
  {
   "cell_type": "markdown",
   "metadata": {
    "slideshow": {
     "slide_type": "slide"
    }
   },
   "source": [
    "# Preface"
   ]
  },
  {
   "cell_type": "markdown",
   "metadata": {
    "slideshow": {
     "slide_type": "slide"
    }
   },
   "source": [
    "## What Is Data Science?\n",
    "\n",
    "I will introduce how to do data science with Python\n",
    "\n",
    "- a superfluous label\n",
    "    - what science doesn't involve data?\n",
    "- a simple buzzword\n",
    "    - to salt resumes and catch the eye of overzealous tech recruiters.\n",
    "\n",
    "> Data science, despite its hype-laden veneer, is perhaps the best label we have for the cross-disciplinary set of skills that are becoming increasingly important in many applications across industry and academia."
   ]
  },
  {
   "cell_type": "markdown",
   "metadata": {
    "slideshow": {
     "slide_type": "subslide"
    }
   },
   "source": [
    "![Data Science Venn Diagram](figures/Data_Science_VD.png)\n",
    "\n",
    "The best extisting definition of data science is illustrated by Drew Conway's Data Science Venn Diagram, first published on his blog in September 2010.\n",
    "\n",
    "<small>(Source: [Drew Conway](http://drewconway.com/zia/2013/3/26/the-data-science-venn-diagram). Used by permission.)</small>"
   ]
  },
  {
   "cell_type": "markdown",
   "metadata": {
    "slideshow": {
     "slide_type": "subslide"
    }
   },
   "source": [
    "## The essence of \"data science\"\n",
    "\n",
    "- A fundamentally *interdisciplinary* subject.\n",
    "\n",
    "Data science comprises three distinct and overlapping areas: \n",
    "- the skills of a *statistician* who knows how to model and summarize datasets (which are growing ever larger); \n",
    "- the skills of a *computer scientist* who can design and use algorithms to efficiently store, process, and visualize this data; \n",
    "- the *domain expertise*—what we might think of as \"classical\" training in a subject—necessary both to formulate the right questions and to put their answers in context."
   ]
  },
  {
   "cell_type": "markdown",
   "metadata": {
    "slideshow": {
     "slide_type": "subslide"
    }
   },
   "source": [
    "### Data science is not a new domain of knowledge to learn, but a new set of skills that you can apply within your current area of expertise.\n",
    "\n",
    "- reporting election results \n",
    "- forecasting stock returns\n",
    "- optimizing online ad clicks \n",
    "- identifying microorganisms in microscope photos \n",
    "- seeking new classes of astronomical objects\n",
    "- working with data in any other field\n",
    "\n",
    "The goal of data science is to **give you the ability to ask and answer new questions** about your chosen subject area."
   ]
  },
  {
   "cell_type": "markdown",
   "metadata": {
    "slideshow": {
     "slide_type": "slide"
    }
   },
   "source": [
    "## Who Is This Course For?\n",
    "\n",
    "One of the most common questions: **\"how should I learn Python?\"**\n",
    "\n",
    "- an strong background in writing code and using computational and numerical tools.\n",
    "- to learn the language with the aim of using it as a tool for data-intensive and computational science.\n",
    "\n",
    "> While a large patchwork of videos, blog posts, and tutorials for this audience is available online, I've long been frustrated by the lack of a single good answer to this question; that is what inspired this book.\n",
    "\n"
   ]
  },
  {
   "cell_type": "markdown",
   "metadata": {
    "slideshow": {
     "slide_type": "subslide"
    }
   },
   "source": [
    "## The course is not meant to be an introduction to Python or to programming in general.\n",
    "\n",
    "I assume the reader has familiarity with the Python language, including:\n",
    "- defining functions\n",
    "- assigning variables\n",
    "- calling methods of objects\n",
    "- controlling the flow of a program\n",
    "- and other basic tasks."
   ]
  },
  {
   "cell_type": "markdown",
   "metadata": {
    "slideshow": {
     "slide_type": "fragment"
    }
   },
   "source": [
    "If you are looking for a guide to the Python language itself, try \"[A Whirlwind Tour of the Python Language](https://github.com/jakevdp/WhirlwindTourOfPython)\"."
   ]
  },
  {
   "cell_type": "markdown",
   "metadata": {
    "slideshow": {
     "slide_type": "subslide"
    }
   },
   "source": [
    "## This course is meant to help Python users learn data science, and effectively store, manipulate, and gain insight from data.\n",
    "\n",
    "Python's data science stack–libraries such as \n",
    "- Jupyter notebook\n",
    "- NumPy\n",
    "- Pandas\n",
    "- Matplotlib\n",
    "- Scikit-Learn\n",
    "- and related tools\n",
    "\n"
   ]
  },
  {
   "cell_type": "markdown",
   "metadata": {
    "slideshow": {
     "slide_type": "slide"
    }
   },
   "source": [
    "## Why Python?\n",
    "\n",
    "Python has emerged over the last couple decades \n",
    "\n",
    "- a first-class tool for **scientific computing** \n",
    "- **analysis and visualization of large datasets**.\n",
    "\n",
    "Python was not specifically designed with data analysis or scientific computing in mind."
   ]
  },
  {
   "cell_type": "markdown",
   "metadata": {
    "slideshow": {
     "slide_type": "subslide"
    }
   },
   "source": [
    "## Why Python?\n",
    "\n",
    "The usefulness of Python for data science stems primarily from the large and active ecosystem of third-party packages: \n",
    "\n",
    "- *NumPy* for manipulation of homogeneous array-based data\n",
    "- *Pandas* for manipulation of heterogeneous and labeled data\n",
    "- *SciPy* for common scientific computing tasks\n",
    "- *Matplotlib* for publication-quality visualizations\n",
    "- *Jupyter notebook* for interactive execution and sharing of code\n",
    "- *Scikit-Learn* for machine learning\n",
    "- and many more tools."
   ]
  },
  {
   "cell_type": "markdown",
   "metadata": {
    "slideshow": {
     "slide_type": "slide"
    }
   },
   "source": [
    "### Python 2 vs Python 3\n",
    "\n",
    "- This book uses the syntax of Python 3.\n",
    "- Python 2 will not be supported after **2020**."
   ]
  },
  {
   "cell_type": "markdown",
   "metadata": {
    "slideshow": {
     "slide_type": "slide"
    }
   },
   "source": [
    "## Outline of the Course\n",
    "\n",
    "Each part of this course focuses on a particular package or tool that contributes a fundamental piece of the Python Data Sciece story.\n",
    "\n",
    "1. Jupyter notebook: provides the computational environment.\n",
    "2. NumPy: provides the ``ndarray`` for efficient storage and manipulation of dense data arrays.\n",
    "3. Pandas: provides the ``DataFrame`` for efficient storage and manipulation of labeled/columnar data.\n",
    "4. Matplotlib: provides capabilities for a flexible range of data visualizations.\n",
    "5. Scikit-Learn: provides efficient & clean Python implementations of the most important and established machine learning algorithms."
   ]
  },
  {
   "cell_type": "markdown",
   "metadata": {
    "slideshow": {
     "slide_type": "slide"
    }
   },
   "source": [
    "## Using Code Examples\n",
    "\n",
    "Supplemental material (code examples, figures, etc.) is available for download at http://github.com/jakevdp/PythonDataScienceHandbook/. \n",
    "\n",
    "\n",
    "> *The Python Data Science Handbook* by Jake VanderPlas (O’Reilly). Copyright 2016 Jake VanderPlas, 978-1-491-91205-8.\n",
    "\n"
   ]
  },
  {
   "cell_type": "markdown",
   "metadata": {
    "slideshow": {
     "slide_type": "slide"
    }
   },
   "source": [
    "## Installation\n",
    "\n",
    "\n",
    "**Anaconda** for Windows, Linux, or Mac OS X.\n",
    "\n",
    "\n",
    "The Anaconda distribution comes in two flavors:\n",
    "\n",
    "- [Miniconda](http://conda.pydata.org/miniconda.html) gives you the Python interpreter itself, along with a command-line tool called ``conda`` which operates as a cross-platform package manager geared toward Python packages, similar in spirit to the apt or yum tools that Linux users might be familiar with.\n",
    "\n",
    "- [Anaconda](https://www.continuum.io/downloads) includes both Python and conda, and additionally bundles a suite of other pre-installed packages geared toward scientific computing. Because of the size of this bundle, expect the installation to consume several gigabytes of disk space."
   ]
  },
  {
   "cell_type": "markdown",
   "metadata": {
    "slideshow": {
     "slide_type": "slide"
    }
   },
   "source": [
    "## Installation\n",
    "\n",
    "To get started, download and install the Miniconda package–make sure to choose a version with Python 3–and then install the core packages using the *terminal*:\n",
    "\n",
    "\n",
    "> **conda install numpy pandas scikit-learn matplotlib seaborn jupyter**\n",
    "\n",
    "\n",
    "The other more specialized tools in Python's scientific ecosystem; installation is usually as easy as typing \n",
    "\n",
    "> **``conda install packagename``**.\n",
    "\n",
    "For more information on conda, refer to [conda's online documentation](http://conda.pydata.org/docs/)."
   ]
  },
  {
   "cell_type": "markdown",
   "metadata": {
    "slideshow": {
     "slide_type": "slide"
    }
   },
   "source": [
    "# Thank You for Your Attention.\n",
    "\n",
    "<img align=\"right\" style=\"padding-right:10px;\" src=\"figures/logo.png\">\n",
    "\n",
    "<!--NAVIGATION-->\n",
    "| [Contents](Index.ipynb) | [IPython: Beyond Normal Python](01.00-IPython-Beyond-Normal-Python.ipynb) >"
   ]
  }
 ],
 "metadata": {
  "anaconda-cloud": {},
  "celltoolbar": "Slideshow",
  "kernelspec": {
   "display_name": "Python 2",
   "language": "python",
   "name": "python2"
  },
  "language_info": {
   "codemirror_mode": {
    "name": "ipython",
    "version": 2
   },
   "file_extension": ".py",
   "mimetype": "text/x-python",
   "name": "python",
   "nbconvert_exporter": "python",
   "pygments_lexer": "ipython2",
   "version": "2.7.12"
  },
  "latex_envs": {
   "bibliofile": "biblio.bib",
   "cite_by": "apalike",
   "current_citInitial": 1,
   "eqLabelWithNumbers": true,
   "eqNumInitial": 0
  },
  "toc": {
   "toc_cell": false,
   "toc_number_sections": false,
   "toc_section_display": "none",
   "toc_threshold": 6,
   "toc_window_display": true
  }
 },
 "nbformat": 4,
 "nbformat_minor": 0
}
